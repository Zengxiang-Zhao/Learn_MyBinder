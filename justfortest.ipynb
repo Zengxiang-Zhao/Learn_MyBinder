{
 "cells": [
  {
   "cell_type": "code",
   "execution_count": 9,
   "metadata": {},
   "outputs": [],
   "source": [
    "import numpy as np"
   ]
  },
  {
   "cell_type": "code",
   "execution_count": 10,
   "metadata": {},
   "outputs": [],
   "source": [
    "import sys"
   ]
  },
  {
   "cell_type": "code",
   "execution_count": 11,
   "metadata": {},
   "outputs": [],
   "source": [
    "import pandas as pd"
   ]
  },
  {
   "cell_type": "code",
   "execution_count": 12,
   "metadata": {},
   "outputs": [],
   "source": [
    "from collections import defaultdict"
   ]
  },
  {
   "cell_type": "code",
   "execution_count": 13,
   "metadata": {},
   "outputs": [],
   "source": [
    "from Bio import SeqIO"
   ]
  },
  {
   "cell_type": "code",
   "execution_count": 14,
   "metadata": {},
   "outputs": [],
   "source": [
    "import torch"
   ]
  },
  {
   "cell_type": "code",
   "execution_count": 15,
   "metadata": {},
   "outputs": [],
   "source": [
    "import time"
   ]
  },
  {
   "cell_type": "code",
   "execution_count": 16,
   "metadata": {},
   "outputs": [],
   "source": [
    "from torch.utils.data import WeightedRandomSampler"
   ]
  },
  {
   "cell_type": "code",
   "execution_count": 17,
   "metadata": {},
   "outputs": [],
   "source": [
    "from torch.utils.data import Dataset, DataLoader, TensorDataset"
   ]
  },
  {
   "cell_type": "code",
   "execution_count": 3,
   "metadata": {},
   "outputs": [],
   "source": [
    "a = list(range(10))"
   ]
  },
  {
   "cell_type": "code",
   "execution_count": 2,
   "metadata": {
    "scrolled": true
   },
   "outputs": [
    {
     "data": {
      "text/plain": [
       "array([3])"
      ]
     },
     "execution_count": 2,
     "metadata": {},
     "output_type": "execute_result"
    }
   ],
   "source": [
    "np.array([3.0]).astype(int)"
   ]
  },
  {
   "cell_type": "code",
   "execution_count": 4,
   "metadata": {
    "scrolled": true
   },
   "outputs": [
    {
     "data": {
      "text/plain": [
       "['C:\\\\Users\\\\user\\\\anaconda3\\\\envs\\\\DeepMicrobes\\\\python36.zip',\n",
       " 'C:\\\\Users\\\\user\\\\anaconda3\\\\envs\\\\DeepMicrobes\\\\DLLs',\n",
       " 'C:\\\\Users\\\\user\\\\anaconda3\\\\envs\\\\DeepMicrobes\\\\lib',\n",
       " 'C:\\\\Users\\\\user\\\\anaconda3\\\\envs\\\\DeepMicrobes',\n",
       " '',\n",
       " 'C:\\\\Users\\\\user\\\\anaconda3\\\\envs\\\\DeepMicrobes\\\\lib\\\\site-packages',\n",
       " 'C:\\\\Users\\\\user\\\\anaconda3\\\\envs\\\\DeepMicrobes\\\\lib\\\\site-packages\\\\win32',\n",
       " 'C:\\\\Users\\\\user\\\\anaconda3\\\\envs\\\\DeepMicrobes\\\\lib\\\\site-packages\\\\win32\\\\lib',\n",
       " 'C:\\\\Users\\\\user\\\\anaconda3\\\\envs\\\\DeepMicrobes\\\\lib\\\\site-packages\\\\Pythonwin',\n",
       " 'C:\\\\Users\\\\user\\\\anaconda3\\\\envs\\\\DeepMicrobes\\\\lib\\\\site-packages\\\\IPython\\\\extensions',\n",
       " 'C:\\\\Users\\\\user\\\\.ipython']"
      ]
     },
     "execution_count": 4,
     "metadata": {},
     "output_type": "execute_result"
    }
   ],
   "source": [
    "sys.path"
   ]
  },
  {
   "cell_type": "code",
   "execution_count": 18,
   "metadata": {},
   "outputs": [],
   "source": [
    "def extrac_subtype_seq(fileName,outfile, filetype='fasta'):\n",
    "    subtypes = []\n",
    "    seqs = []\n",
    "    fh = open(outfile, 'w')\n",
    "    \n",
    "    with open(fileName) as handle:\n",
    "        for rec in SeqIO.parse(handle,filetype):\n",
    "            seq = str(rec.seq)\n",
    "            seq = seq.replace('-','').upper()\n",
    "            \n",
    "            label_id = rec.id\n",
    "            ls = label_id.split('.')\n",
    "            label_id = '>' + '_'.join((ls[-1], ls[0]))\n",
    "\n",
    "            fh.write(label_id)\n",
    "            fh.write('\\n')\n",
    "            fh.write(seq)\n",
    "            fh.write('\\n')\n",
    "            \n",
    "    fh.close()\n",
    "                    \n",
    "\n",
    "def sort_labels(labels):\n",
    "    labels = np.array(labels)\n",
    "\n",
    "    labels_dict = defaultdict(int)\n",
    "\n",
    "    for i, v in enumerate(labels):\n",
    "        labels_dict[v] += 1\n",
    "\n",
    "    labels_num = [(k,v) for k, v in labels_dict.items()]\n",
    "\n",
    "    labels_num_sort = sorted(labels_num, key=lambda x:x[1], reverse=True)\n",
    "    \n",
    "    return labels_num_sort\n",
    "\n",
    "def combine_labels(labels_sorted):\n",
    "    labels_com = defaultdict(int)\n",
    "    combined_labels = []\n",
    "    for( k,v) in labels_sorted:\n",
    "        ls = k.split('_')\n",
    "        if len(ls) ==3:\n",
    "            combined_labels.append('_'.join((ls[0],ls[-1],ls[1])))\n",
    "            k = \"_\".join((ls[0], ls[-1]))\n",
    "            \n",
    "        labels_com[k] += v\n",
    "        \n",
    "    labels_num_sort = sorted([(k,v) for k,v in labels_com.items()], key=lambda x:x[1], reverse=True)\n",
    "        \n",
    "    return labels_num_sort, combined_labels\n",
    "        \n",
    "\n",
    "def get_lgn(labels_sorted, n):\n",
    "    return [(k,v) for k,v in labels_sorted if v >= n]"
   ]
  },
  {
   "cell_type": "code",
   "execution_count": 19,
   "metadata": {},
   "outputs": [],
   "source": [
    "class MyDataset(Dataset):\n",
    "    def __init__(self, features, labels, labelsDicFile):\n",
    "        self.X = torch.LongTensor(features )\n",
    "        self.labels  = labels\n",
    "        self.labelsDicFile = self.read_dic(labelsDicFile)\n",
    "        self.labels_num = torch.Tensor([self.labelsDicFile[label] for label in self.labels] )\n",
    "        \n",
    "        \n",
    "    def read_dic(self,dic_file):\n",
    "        labels_dic = {}\n",
    "        with(open(dic_file, 'r')) as fh:\n",
    "            for line in fh:\n",
    "                label, label_id = line.strip().split()\n",
    "                labels_dic[label] = int(label_id)\n",
    "        return labels_dic\n",
    "    \n",
    "    \n",
    "    def __getitem__(self, index):\n",
    "        return self.X[index], self.labels_num[index]\n",
    "\n",
    "    def get_output_dim(self):\n",
    "        return len(self.labelsDicFile.keys())\n",
    "    \n",
    "    def __len__(self):\n",
    "        return len(self.labels)\n",
    "\n",
    "class Subset(Dataset):\n",
    "    def __init__(self, dataset, indices):\n",
    "        self.dataset = dataset\n",
    "        self.indices = indices\n",
    "        \n",
    "    def __getitem__(self,idx):\n",
    "        return self.dataset[self.indices[idx]]\n",
    "    \n",
    "    def __len__(self):\n",
    "        return len(self.indices)"
   ]
  },
  {
   "cell_type": "code",
   "execution_count": 20,
   "metadata": {},
   "outputs": [],
   "source": [
    "def get_sample_weights(labelsFile):\n",
    "    labels = np.load(labelsFile)\n",
    "\n",
    "    labels_dict = defaultdict(list)\n",
    "\n",
    "    for i, v in enumerate(labels):\n",
    "        labels_dict[v].append(i)\n",
    "\n",
    "    labels_num = [(k,len(v)) for k, v in labels_dict.items()]\n",
    "\n",
    "    labels_num_sort = sorted(labels_num, key=lambda x:x[1], reverse=True)\n",
    "\n",
    "    total_weights = len(labels)\n",
    "\n",
    "    labels_weight = [(k, total_weights / num) for k, num in labels_num_sort ]\n",
    "\n",
    "    labels_weight_dict = {}\n",
    "    for k, v in labels_weight:\n",
    "        labels_weight_dict[k] = v\n",
    "\n",
    "    sample_weights= [ labels_weight_dict[k] for k in labels]\n",
    "    \n",
    "    return np.array(sample_weights)"
   ]
  },
  {
   "cell_type": "code",
   "execution_count": 21,
   "metadata": {},
   "outputs": [],
   "source": [
    "def read_fasta_labels(fastaFile):\n",
    "    labels = []\n",
    "    for rec in SeqIO.parse(fastaFile,'fasta'):\n",
    "        label_id = rec.id\n",
    "        labels.append(label_id)\n",
    "        \n",
    "    return labels\n",
    "       "
   ]
  },
  {
   "cell_type": "code",
   "execution_count": 22,
   "metadata": {},
   "outputs": [],
   "source": [
    "fasta_100bp = './hiv_12825/hiv_100bp_600.fasta'"
   ]
  },
  {
   "cell_type": "code",
   "execution_count": 23,
   "metadata": {},
   "outputs": [],
   "source": [
    "labels_100bp = read_fasta_labels(fasta_100bp)"
   ]
  },
  {
   "cell_type": "code",
   "execution_count": 24,
   "metadata": {},
   "outputs": [
    {
     "data": {
      "text/plain": [
       "1924485"
      ]
     },
     "execution_count": 24,
     "metadata": {},
     "output_type": "execute_result"
    }
   ],
   "source": [
    "len(labels_100bp)"
   ]
  },
  {
   "cell_type": "code",
   "execution_count": 25,
   "metadata": {},
   "outputs": [],
   "source": [
    "labels_sorted = sort_labels(labels_100bp)"
   ]
  },
  {
   "cell_type": "code",
   "execution_count": 26,
   "metadata": {},
   "outputs": [
    {
     "data": {
      "text/plain": [
       "[('HIV-1_B', 53585),\n",
       " ('HIV-1_C', 53217),\n",
       " ('HIV-1_01_AE', 52848),\n",
       " ('HIV-1_O', 49020),\n",
       " ('HIV-1_U', 48346),\n",
       " ('HIV-1_D', 47644),\n",
       " ('HIV-1_F1', 47574),\n",
       " ('HIV-1_A1', 47287),\n",
       " ('HIV-1_G', 47234),\n",
       " ('HIV-1_01B', 47223),\n",
       " ('HIV-1_02A1', 47195),\n",
       " ('HIV-1_A6', 47120),\n",
       " ('HIV-1_02_AG', 47031),\n",
       " ('HIV-1_BC', 46931),\n",
       " ('HIV-1_BF1', 46877),\n",
       " ('HIV-1_A1C', 46058),\n",
       " ('HIV-1_H', 46022),\n",
       " ('HIV-1_A1D', 45629),\n",
       " ('HIV-1_07_BC', 45497),\n",
       " ('HIV-1_08_BC', 45132),\n",
       " ('HIV-1_CD', 44977),\n",
       " ('HIV-1_AD', 44644),\n",
       " ('HIV-1_11_cpx', 44502),\n",
       " ('HIV-1_A1CD', 44374),\n",
       " ('HIV-1_13_cpx', 44308),\n",
       " ('HIV-1_01BC', 43935),\n",
       " ('HIV-1_02G', 43885),\n",
       " ('HIV-1_06_cpx', 43511),\n",
       " ('HIV-1_0107', 43199),\n",
       " ('HIV-1_12_BF', 42153),\n",
       " ('HIV-1_01C', 41805),\n",
       " ('HIV-1_02A', 41598),\n",
       " ('HIV-1_BG', 40935),\n",
       " ('HIV-1_63_02A', 39625),\n",
       " ('HIV-1_22_01A1', 39169),\n",
       " ('HIV-1_14_BG', 38439),\n",
       " ('HIV-1_ACD', 38299),\n",
       " ('HIV-1_71_BF1', 37905),\n",
       " ('HIV-1_35_AD', 37781),\n",
       " ('HIV-1_42_BF', 37694),\n",
       " ('HIV-1_02B', 37296),\n",
       " ('HIV-1_85_BC', 32529),\n",
       " ('HIV-1_N', 32281),\n",
       " ('HIV-1_F2', 32171)]"
      ]
     },
     "execution_count": 26,
     "metadata": {},
     "output_type": "execute_result"
    }
   ],
   "source": [
    "labels_sorted"
   ]
  },
  {
   "cell_type": "code",
   "execution_count": null,
   "metadata": {},
   "outputs": [],
   "source": []
  },
  {
   "cell_type": "code",
   "execution_count": null,
   "metadata": {},
   "outputs": [],
   "source": []
  },
  {
   "cell_type": "code",
   "execution_count": 16,
   "metadata": {},
   "outputs": [],
   "source": [
    "originalfile = './hiv-db.fasta'"
   ]
  },
  {
   "cell_type": "code",
   "execution_count": 14,
   "metadata": {},
   "outputs": [],
   "source": [
    "removeDashFile = './hiv_12825.fasta'"
   ]
  },
  {
   "cell_type": "code",
   "execution_count": 95,
   "metadata": {},
   "outputs": [],
   "source": [
    "balanced_file = './hiv_12825/hiv_500bp_balanced.fasta'"
   ]
  },
  {
   "cell_type": "code",
   "execution_count": 106,
   "metadata": {},
   "outputs": [],
   "source": [
    "unbalanced_file  = './hiv_12825/hiv_500.fasta'"
   ]
  },
  {
   "cell_type": "code",
   "execution_count": 17,
   "metadata": {},
   "outputs": [],
   "source": [
    "balanced_file_less = 'hiv_12825/hiv_500bp_600.fasta'"
   ]
  },
  {
   "cell_type": "markdown",
   "metadata": {},
   "source": [
    "### HIV1亚型分类结果：原始，合并后"
   ]
  },
  {
   "cell_type": "code",
   "execution_count": 18,
   "metadata": {},
   "outputs": [],
   "source": [
    "balanced_labels_less = read_fasta_labels(balanced_file_less)"
   ]
  },
  {
   "cell_type": "code",
   "execution_count": 19,
   "metadata": {},
   "outputs": [
    {
     "data": {
      "text/plain": [
       "410925"
      ]
     },
     "execution_count": 19,
     "metadata": {},
     "output_type": "execute_result"
    }
   ],
   "source": [
    "len(balanced_labels_less)"
   ]
  },
  {
   "cell_type": "code",
   "execution_count": 20,
   "metadata": {},
   "outputs": [],
   "source": [
    "sorted_balanced_labels_less = sort_labels(balanced_labels_less)"
   ]
  },
  {
   "cell_type": "code",
   "execution_count": 21,
   "metadata": {},
   "outputs": [
    {
     "data": {
      "text/plain": [
       "45"
      ]
     },
     "execution_count": 21,
     "metadata": {},
     "output_type": "execute_result"
    }
   ],
   "source": [
    "len(sorted_balanced_labels_less)"
   ]
  },
  {
   "cell_type": "code",
   "execution_count": 22,
   "metadata": {
    "scrolled": true
   },
   "outputs": [
    {
     "data": {
      "text/plain": [
       "[('HIV-1_C', 10503),\n",
       " ('HIV-1_B', 10488),\n",
       " ('HIV-1_01_AE', 10371),\n",
       " ('HIV-1_O', 9764),\n",
       " ('HIV-1_-', 9672),\n",
       " ('HIV-1_06_cpx', 9614),\n",
       " ('HIV-1_63_02A', 9477),\n",
       " ('HIV-1_02A1', 9408),\n",
       " ('HIV-1_12_BF', 9303),\n",
       " ('HIV-1_G', 9269),\n",
       " ('HIV-1_U', 9259),\n",
       " ('HIV-1_11_cpx', 9249),\n",
       " ('HIV-1_F1', 9248),\n",
       " ('HIV-1_A6', 9186),\n",
       " ('HIV-1_14_BG', 9181),\n",
       " ('HIV-1_BF1', 9176),\n",
       " ('HIV-1_08_BC', 9166),\n",
       " ('HIV-1_07_BC', 9163),\n",
       " ('HIV-1_D', 9138),\n",
       " ('HIV-1_01BC', 9133),\n",
       " ('HIV-1_BC', 9105),\n",
       " ('HIV-1_CD', 9066),\n",
       " ('HIV-1_02_AG', 9064),\n",
       " ('HIV-1_01B', 9058),\n",
       " ('HIV-1_A1D', 9048),\n",
       " ('HIV-1_71_BF1', 9048),\n",
       " ('HIV-1_BG', 9018),\n",
       " ('HIV-1_42_BF', 9005),\n",
       " ('HIV-1_0107', 8987),\n",
       " ('HIV-1_02G', 8981),\n",
       " ('HIV-1_A1C', 8975),\n",
       " ('HIV-1_A1CD', 8927),\n",
       " ('HIV-1_02B', 8895),\n",
       " ('HIV-1_01C', 8876),\n",
       " ('HIV-1_AD', 8841),\n",
       " ('HIV-1_02A', 8827),\n",
       " ('HIV-1_H', 8809),\n",
       " ('HIV-1_A1', 8803),\n",
       " ('HIV-1_22_01A1', 8801),\n",
       " ('HIV-1_ACD', 8710),\n",
       " ('HIV-1_35_AD', 8585),\n",
       " ('HIV-1_85_BC', 8475),\n",
       " ('HIV-1_13_cpx', 8467),\n",
       " ('HIV-1_N', 8408),\n",
       " ('HIV-1_F2', 8378)]"
      ]
     },
     "execution_count": 22,
     "metadata": {},
     "output_type": "execute_result"
    }
   ],
   "source": [
    "sorted_balanced_labels_less"
   ]
  },
  {
   "cell_type": "code",
   "execution_count": 107,
   "metadata": {},
   "outputs": [],
   "source": [
    "unbalanced_labels = read_fasta_labels(unbalanced_file)"
   ]
  },
  {
   "cell_type": "code",
   "execution_count": 108,
   "metadata": {},
   "outputs": [],
   "source": [
    "sorted_unbalanced_labels = sort_labels(unbalanced_labels)"
   ]
  },
  {
   "cell_type": "code",
   "execution_count": 109,
   "metadata": {},
   "outputs": [
    {
     "data": {
      "text/plain": [
       "[('HIV-1_B', 99414),\n",
       " ('HIV-1_C', 36323),\n",
       " ('HIV-1_01_AE', 24645),\n",
       " ('HIV-1_-', 9673),\n",
       " ('HIV-1_A1', 8553),\n",
       " ('HIV-1_01B', 3527),\n",
       " ('HIV-1_02_AG', 2764),\n",
       " ('HIV-1_BF1', 2478),\n",
       " ('HIV-1_A6', 2023),\n",
       " ('HIV-1_A1C', 1904),\n",
       " ('HIV-1_G', 1671),\n",
       " ('HIV-1_A1D', 1605),\n",
       " ('HIV-1_AD', 1597),\n",
       " ('HIV-1_BC', 1565),\n",
       " ('HIV-1_D', 1489),\n",
       " ('HIV-1_F1', 1295),\n",
       " ('HIV-1_O', 1059),\n",
       " ('HIV-1_CD', 1058),\n",
       " ('HIV-1_A1CD', 1056),\n",
       " ('HIV-1_01BC', 862),\n",
       " ('HIV-1_0107', 841),\n",
       " ('HIV-1_07_BC', 708),\n",
       " ('HIV-1_08_BC', 621),\n",
       " ('HIV-1_02A1', 468),\n",
       " ('HIV-1_11_cpx', 436),\n",
       " ('HIV-1_U', 381),\n",
       " ('HIV-1_35_AD', 374),\n",
       " ('HIV-1_ACD', 374),\n",
       " ('HIV-1_01C', 326),\n",
       " ('HIV-1_02A', 326),\n",
       " ('HIV-1_22_01A1', 306),\n",
       " ('HIV-1_42_BF', 299),\n",
       " ('HIV-1_02G', 258),\n",
       " ('HIV-1_06_cpx', 256),\n",
       " ('HIV-1_12_BF', 248),\n",
       " ('HIV-1_BG', 239),\n",
       " ('HIV-1_63_02A', 234),\n",
       " ('HIV-1_14_BG', 226),\n",
       " ('HIV-1_71_BF1', 225),\n",
       " ('HIV-1_02B', 218),\n",
       " ('HIV-1_N', 191),\n",
       " ('HIV-1_F2', 190),\n",
       " ('HIV-1_85_BC', 189),\n",
       " ('HIV-1_H', 181),\n",
       " ('HIV-1_13_cpx', 173),\n",
       " ('HIV-1_0206', 170),\n",
       " ('HIV-1_64_BC', 155),\n",
       " ('HIV-1_59_01B', 154),\n",
       " ('HIV-1_A', 146),\n",
       " ('HIV-1_33_01B', 141),\n",
       " ('HIV-1_46_BF', 141),\n",
       " ('HIV-1_15_01B', 137),\n",
       " ('HIV-1_55_01B', 136),\n",
       " ('HIV-1_69_01B', 128),\n",
       " ('HIV-1_J', 124),\n",
       " ('HIV-1_02A3', 121),\n",
       " ('HIV-1_17_BF', 119),\n",
       " ('HIV-1_57_BC', 119),\n",
       " ('HIV-1_51_01B', 119),\n",
       " ('HIV-1_02D', 111),\n",
       " ('HIV-1_0209', 110),\n",
       " ('HIV-1_04_cpx', 107),\n",
       " ('HIV-1_24_BG', 105),\n",
       " ('HIV-1_65_cpx', 105),\n",
       " ('HIV-1_90_BF1', 105),\n",
       " ('HIV-1_02A6', 104),\n",
       " ('HIV-1_94_cpx', 103),\n",
       " ('HIV-1_29_BF', 102),\n",
       " ('HIV-1_0222', 102),\n",
       " ('HIV-1_58_01B', 102),\n",
       " ('HIV-1_18_cpx', 101),\n",
       " ('HIV-1_60_BC', 93),\n",
       " ('HIV-1_CU', 91),\n",
       " ('HIV-1_P', 91),\n",
       " ('HIV-1_92_C2U', 91),\n",
       " ('HIV-1_45_cpx', 90),\n",
       " ('HIV-1_43_02G', 88),\n",
       " ('HIV-1_A1G', 87),\n",
       " ('HIV-1_09_cpx', 87),\n",
       " ('HIV-1_25_cpx', 87),\n",
       " ('HIV-1_70_BF1', 87),\n",
       " ('HIV-1_19_cpx', 86),\n",
       " ('HIV-1_47_BF', 86),\n",
       " ('HIV-1_72_BF1', 86),\n",
       " ('HIV-1_28_BF', 85),\n",
       " ('HIV-1_50_A1D', 85),\n",
       " ('HIV-1_02F2', 85),\n",
       " ('HIV-1_A1B', 83),\n",
       " ('HIV-1_A1U', 82),\n",
       " ('HIV-1_26_A5U', 75),\n",
       " ('HIV-1_02O', 72),\n",
       " ('HIV-1_40_BF', 72),\n",
       " ('HIV-1_61_BC', 72),\n",
       " ('HIV-1_A1O', 72),\n",
       " ('HIV-1_A2', 71),\n",
       " ('HIV-1_27_cpx', 71),\n",
       " ('HIV-1_BCF1', 70),\n",
       " ('HIV-1_05_DF', 69),\n",
       " ('HIV-1_03_AB', 69),\n",
       " ('HIV-1_16_A2D', 69),\n",
       " ('HIV-1_20_BG', 69),\n",
       " ('HIV-1_CF1', 69),\n",
       " ('HIV-1_103_01B', 69),\n",
       " ('HIV-1_49_cpx', 68),\n",
       " ('HIV-1_38_BF1', 68),\n",
       " ('HIV-1_77_cpx', 68),\n",
       " ('HIV-1_53_01B', 67),\n",
       " ('HIV-1_DG', 67),\n",
       " ('HIV-1_56_cpx', 67),\n",
       " ('HIV-1_37_cpx', 66),\n",
       " ('HIV-1_26C', 57),\n",
       " ('HIV-1_A4', 56),\n",
       " ('HIV-1_L', 54),\n",
       " ('HIV-1_DO', 54),\n",
       " ('HIV-1_79_0107', 53),\n",
       " ('HIV-1_93_cpx', 53),\n",
       " ('HIV-1_10_CD', 52),\n",
       " ('HIV-1_31_BC', 52),\n",
       " ('HIV-1_39_BF', 52),\n",
       " ('HIV-1_A1H', 52),\n",
       " ('HIV-1_62_BC', 52),\n",
       " ('HIV-1_96_cpx', 52),\n",
       " ('HIV-1_0102', 52),\n",
       " ('HIV-1_21_A2D', 51),\n",
       " ('HIV-1_A1A2D', 51),\n",
       " ('HIV-1_K', 51),\n",
       " ('HIV-1_89_BF', 51),\n",
       " ('HIV-1_0102A', 51),\n",
       " ('HIV-1_A3', 51),\n",
       " ('HIV-1_32_06A6', 51),\n",
       " ('HIV-1_44_BF', 51),\n",
       " ('HIV-1_0263', 51),\n",
       " ('HIV-1_34_01B', 51),\n",
       " ('HIV-1_54_01B', 51),\n",
       " ('HIV-1_A1A2CD', 51),\n",
       " ('HIV-1_48_01B', 51),\n",
       " ('HIV-1_75_BF', 51),\n",
       " ('HIV-1_66_BF1', 51),\n",
       " ('HIV-1_88_BC', 51),\n",
       " ('HIV-1_87_cpx', 51),\n",
       " ('HIV-1_74_01B', 51),\n",
       " ('HIV-1_41_CD', 51),\n",
       " ('HIV-1_84_A1D', 51),\n",
       " ('HIV-1_95_02B', 51),\n",
       " ('HIV-1_100_01C', 51),\n",
       " ('HIV-1_AB', 51),\n",
       " ('HIV-1_A1F2', 50),\n",
       " ('HIV-1_52_01B', 50),\n",
       " ('HIV-1_36_cpx', 50),\n",
       " ('HIV-1_68_01B', 50),\n",
       " ('HIV-1_F1F2', 37),\n",
       " ('HIV-1_A2C', 36),\n",
       " ('HIV-1_AC', 36),\n",
       " ('HIV-1_GKU', 36),\n",
       " ('HIV-1_F2O', 36),\n",
       " ('HIV-1_02A1F2', 36),\n",
       " ('HIV-1_76_01B', 36),\n",
       " ('HIV-1_06A3', 36),\n",
       " ('HIV-1_AGU', 35),\n",
       " ('HIV-1_73_BG', 35),\n",
       " ('HIV-1_02A1G', 35),\n",
       " ('HIV-1_A1BD', 35),\n",
       " ('HIV-1_0108', 35),\n",
       " ('HIV-1_A1A2C', 35),\n",
       " ('HIV-1_GK', 35),\n",
       " ('HIV-1_99_BF', 35),\n",
       " ('HIV-1_01F1G', 35),\n",
       " ('HIV-1_02AG', 35),\n",
       " ('HIV-1_A6B', 35),\n",
       " ('HIV-1_0708', 34),\n",
       " ('HIV-1_23_BG', 34),\n",
       " ('HIV-1_07B', 34),\n",
       " ('HIV-1_A1CG', 34),\n",
       " ('HIV-1_67_01B', 34),\n",
       " ('HIV-1_32A6', 34),\n",
       " ('HIV-1_A1A2', 34),\n",
       " ('HIV-1_A1BG', 34),\n",
       " ('HIV-1_80_0107', 34),\n",
       " ('HIV-1_81_cpx', 34),\n",
       " ('HIV-1_102_0107', 34),\n",
       " ('HIV-1_DF1', 34),\n",
       " ('HIV-1_AF2', 33),\n",
       " ('HIV-1_02U', 33),\n",
       " ('HIV-1_02BG', 33),\n",
       " ('HIV-1_AHJU', 32),\n",
       " ('HIV-1_A1CDGKU', 19),\n",
       " ('HIV-1_A1DHK', 19),\n",
       " ('HIV-1_02GK', 19),\n",
       " ('HIV-1_A1GH', 19),\n",
       " ('HIV-1_AU', 19),\n",
       " ('HIV-1_06G', 19),\n",
       " ('HIV-1_AJ', 19),\n",
       " ('HIV-1_ADU', 19),\n",
       " ('HIV-1_DJ', 18),\n",
       " ('HIV-1_A2CD', 18),\n",
       " ('HIV-1_A1DG', 18),\n",
       " ('HIV-1_01A1G', 18),\n",
       " ('HIV-1_UO', 18),\n",
       " ('HIV-1_01D', 18),\n",
       " ('HIV-1_A1A2DG', 18),\n",
       " ('HIV-1_AH', 18),\n",
       " ('HIV-1_A1DK', 18),\n",
       " ('HIV-1_A1GHU', 17),\n",
       " ('HIV-1_F2KU', 17),\n",
       " ('HIV-1_A2G', 17),\n",
       " ('HIV-1_AF2G', 17),\n",
       " ('HIV-1_02C', 17),\n",
       " ('HIV-1_06A1', 17),\n",
       " ('HIV-1_1819', 17),\n",
       " ('HIV-1_0225', 17),\n",
       " ('HIV-1_AKU', 17),\n",
       " ('HIV-1_DF1G', 17),\n",
       " ('HIV-1_26CU', 17),\n",
       " ('HIV-1_0213', 17),\n",
       " ('HIV-1_BF1G', 17),\n",
       " ('HIV-1_38_BF', 17),\n",
       " ('HIV-1_01F2G', 17),\n",
       " ('HIV-1_02F2G', 17),\n",
       " ('HIV-1_02BD', 17),\n",
       " ('HIV-1_32G', 17),\n",
       " ('HIV-1_A1K', 17),\n",
       " ('HIV-1_11A1', 17),\n",
       " ('HIV-1_01A1F2', 17),\n",
       " ('HIV-1_02H', 17),\n",
       " ('HIV-1_JU', 17),\n",
       " ('HIV-1_BCG', 17),\n",
       " ('HIV-1_14F1', 17),\n",
       " ('HIV-1_ACU', 17),\n",
       " ('HIV-1_98_06B', 17),\n",
       " ('HIV-1_BF', 17),\n",
       " ('HIV-1_01G', 17),\n",
       " ('HIV-1_03A', 17),\n",
       " ('HIV-1_22F2', 17),\n",
       " ('HIV-1_22A1U', 16),\n",
       " ('HIV-1_0122F', 16),\n",
       " ('HIV-1_22DU', 16),\n",
       " ('HIV-1_01ADF2', 16),\n",
       " ('HIV-1_01A1A6', 16),\n",
       " ('HIV-1_0102A1', 16),\n",
       " ('HIV-1_50B', 16),\n",
       " ('HIV-1_02BF1', 16),\n",
       " ('HIV-1_02F2U', 16)]"
      ]
     },
     "execution_count": 109,
     "metadata": {},
     "output_type": "execute_result"
    }
   ],
   "source": [
    "sorted_unbalanced_labels"
   ]
  },
  {
   "cell_type": "code",
   "execution_count": 113,
   "metadata": {
    "scrolled": true
   },
   "outputs": [
    {
     "data": {
      "text/plain": [
       "223308"
      ]
     },
     "execution_count": 113,
     "metadata": {},
     "output_type": "execute_result"
    }
   ],
   "source": [
    "len(unbalanced_labels)"
   ]
  },
  {
   "cell_type": "code",
   "execution_count": 132,
   "metadata": {},
   "outputs": [
    {
     "data": {
      "text/plain": [
       "array([[-1.20078684, -1.34142953,  0.41946543],\n",
       "       [ 0.42033369, -2.49225404, -0.17882419]])"
      ]
     },
     "execution_count": 132,
     "metadata": {},
     "output_type": "execute_result"
    }
   ],
   "source": [
    "np.random.randn(2,3)"
   ]
  },
  {
   "cell_type": "code",
   "execution_count": 114,
   "metadata": {},
   "outputs": [
    {
     "data": {
      "text/plain": [
       "2250000"
      ]
     },
     "execution_count": 114,
     "metadata": {},
     "output_type": "execute_result"
    }
   ],
   "source": [
    "50000*45"
   ]
  },
  {
   "cell_type": "code",
   "execution_count": 96,
   "metadata": {},
   "outputs": [],
   "source": [
    "balanced_labels = read_fasta_labels(balanced_file)"
   ]
  },
  {
   "cell_type": "code",
   "execution_count": 99,
   "metadata": {},
   "outputs": [
    {
     "data": {
      "text/plain": [
       "3723927"
      ]
     },
     "execution_count": 99,
     "metadata": {},
     "output_type": "execute_result"
    }
   ],
   "source": [
    "len(balanced_labels)"
   ]
  },
  {
   "cell_type": "code",
   "execution_count": 100,
   "metadata": {},
   "outputs": [],
   "source": [
    "sorted_balanced_labels = sort_labels(balanced_labels)"
   ]
  },
  {
   "cell_type": "code",
   "execution_count": 102,
   "metadata": {},
   "outputs": [
    {
     "data": {
      "text/plain": [
       "45"
      ]
     },
     "execution_count": 102,
     "metadata": {},
     "output_type": "execute_result"
    }
   ],
   "source": [
    "len(sorted_balanced_labels)"
   ]
  },
  {
   "cell_type": "code",
   "execution_count": 101,
   "metadata": {
    "scrolled": true
   },
   "outputs": [
    {
     "data": {
      "text/plain": [
       "[('HIV-1_O', 103252),\n",
       " ('HIV-1_B', 99399),\n",
       " ('HIV-1_-', 96745),\n",
       " ('HIV-1_C', 96297),\n",
       " ('HIV-1_01_AE', 96247),\n",
       " ('HIV-1_BC', 95136),\n",
       " ('HIV-1_01B', 95017),\n",
       " ('HIV-1_A1', 94053),\n",
       " ('HIV-1_85_BC', 93172),\n",
       " ('HIV-1_BF1', 92870),\n",
       " ('HIV-1_U', 92478),\n",
       " ('HIV-1_N', 92431),\n",
       " ('HIV-1_A1C', 92225),\n",
       " ('HIV-1_F2', 92104),\n",
       " ('HIV-1_ACD', 91320),\n",
       " ('HIV-1_D', 90948),\n",
       " ('HIV-1_F1', 90824),\n",
       " ('HIV-1_G', 90197),\n",
       " ('HIV-1_35_AD', 90036),\n",
       " ('HIV-1_A6', 89943),\n",
       " ('HIV-1_02_AG', 89720),\n",
       " ('HIV-1_H', 88037),\n",
       " ('HIV-1_A1D', 87028),\n",
       " ('HIV-1_07_BC', 86874),\n",
       " ('HIV-1_CD', 85859),\n",
       " ('HIV-1_AD', 85039),\n",
       " ('HIV-1_13_cpx', 84613),\n",
       " ('HIV-1_A1CD', 84599),\n",
       " ('HIV-1_01BC', 83846),\n",
       " ('HIV-1_0107', 82453),\n",
       " ('HIV-1_01C', 79799),\n",
       " ('HIV-1_02A', 79384),\n",
       " ('HIV-1_08_BC', 75470),\n",
       " ('HIV-1_02A1', 75181),\n",
       " ('HIV-1_22_01A1', 74728),\n",
       " ('HIV-1_42_BF', 71978),\n",
       " ('HIV-1_11_cpx', 70826),\n",
       " ('HIV-1_02G', 62825),\n",
       " ('HIV-1_06_cpx', 62464),\n",
       " ('HIV-1_12_BF', 60426),\n",
       " ('HIV-1_BG', 58597),\n",
       " ('HIV-1_63_02A', 56838),\n",
       " ('HIV-1_14_BG', 55058),\n",
       " ('HIV-1_71_BF1', 54253),\n",
       " ('HIV-1_02B', 53338)]"
      ]
     },
     "execution_count": 101,
     "metadata": {},
     "output_type": "execute_result"
    }
   ],
   "source": [
    "sorted_balanced_labels"
   ]
  },
  {
   "cell_type": "code",
   "execution_count": 111,
   "metadata": {
    "scrolled": true
   },
   "outputs": [
    {
     "data": {
      "text/plain": [
       "10667.6"
      ]
     },
     "execution_count": 111,
     "metadata": {},
     "output_type": "execute_result"
    }
   ],
   "source": [
    "53338*0.2"
   ]
  },
  {
   "cell_type": "code",
   "execution_count": 112,
   "metadata": {},
   "outputs": [
    {
     "data": {
      "text/plain": [
       "19879.800000000003"
      ]
     },
     "execution_count": 112,
     "metadata": {},
     "output_type": "execute_result"
    }
   ],
   "source": [
    " 99399*0.2"
   ]
  },
  {
   "cell_type": "code",
   "execution_count": 34,
   "metadata": {},
   "outputs": [],
   "source": [
    "original_labels = read_fasta_labels(originalfile)"
   ]
  },
  {
   "cell_type": "code",
   "execution_count": 36,
   "metadata": {},
   "outputs": [
    {
     "data": {
      "text/plain": [
       "12825"
      ]
     },
     "execution_count": 36,
     "metadata": {},
     "output_type": "execute_result"
    }
   ],
   "source": [
    "len(original_labels)"
   ]
  },
  {
   "cell_type": "code",
   "execution_count": 15,
   "metadata": {},
   "outputs": [],
   "source": [
    "removeDash_labels = read_fasta_labels(removeDashFile)"
   ]
  },
  {
   "cell_type": "code",
   "execution_count": 16,
   "metadata": {},
   "outputs": [
    {
     "data": {
      "text/plain": [
       "12825"
      ]
     },
     "execution_count": 16,
     "metadata": {},
     "output_type": "execute_result"
    }
   ],
   "source": [
    "len(removeDash_labels)"
   ]
  },
  {
   "cell_type": "code",
   "execution_count": 17,
   "metadata": {},
   "outputs": [],
   "source": [
    "sorted_removeDash_labels = sort_labels(removeDash_labels)"
   ]
  },
  {
   "cell_type": "code",
   "execution_count": 18,
   "metadata": {},
   "outputs": [],
   "source": [
    "gt10_removeDash_labels = get_lgn(sorted_removeDash_labels,10)"
   ]
  },
  {
   "cell_type": "code",
   "execution_count": 19,
   "metadata": {},
   "outputs": [
    {
     "data": {
      "text/plain": [
       "45"
      ]
     },
     "execution_count": 19,
     "metadata": {},
     "output_type": "execute_result"
    }
   ],
   "source": [
    "len(gt10_removeDash_labels)"
   ]
  },
  {
   "cell_type": "code",
   "execution_count": 21,
   "metadata": {},
   "outputs": [
    {
     "data": {
      "text/plain": [
       "[('HIV-1_B', 5703),\n",
       " ('HIV-1_C', 2077),\n",
       " ('HIV-1_01_AE', 1425),\n",
       " ('HIV-1_-', 544),\n",
       " ('HIV-1_A1', 497),\n",
       " ('HIV-1_01B', 205),\n",
       " ('HIV-1_02_AG', 160),\n",
       " ('HIV-1_BF1', 143),\n",
       " ('HIV-1_A6', 117),\n",
       " ('HIV-1_A1C', 111),\n",
       " ('HIV-1_G', 95),\n",
       " ('HIV-1_A1D', 94),\n",
       " ('HIV-1_AD', 94),\n",
       " ('HIV-1_BC', 91),\n",
       " ('HIV-1_D', 86),\n",
       " ('HIV-1_F1', 75),\n",
       " ('HIV-1_A1CD', 62),\n",
       " ('HIV-1_CD', 61),\n",
       " ('HIV-1_O', 57),\n",
       " ('HIV-1_01BC', 50),\n",
       " ('HIV-1_0107', 49),\n",
       " ('HIV-1_07_BC', 41),\n",
       " ('HIV-1_08_BC', 35),\n",
       " ('HIV-1_02A1', 26),\n",
       " ('HIV-1_11_cpx', 25),\n",
       " ('HIV-1_35_AD', 22),\n",
       " ('HIV-1_ACD', 22),\n",
       " ('HIV-1_U', 21),\n",
       " ('HIV-1_01C', 19),\n",
       " ('HIV-1_02A', 19),\n",
       " ('HIV-1_22_01A1', 18),\n",
       " ('HIV-1_42_BF', 17),\n",
       " ('HIV-1_02G', 15),\n",
       " ('HIV-1_06_cpx', 14),\n",
       " ('HIV-1_12_BF', 14),\n",
       " ('HIV-1_BG', 14),\n",
       " ('HIV-1_14_BG', 13),\n",
       " ('HIV-1_71_BF1', 13),\n",
       " ('HIV-1_02B', 13),\n",
       " ('HIV-1_63_02A', 13),\n",
       " ('HIV-1_F2', 11),\n",
       " ('HIV-1_N', 11),\n",
       " ('HIV-1_85_BC', 11),\n",
       " ('HIV-1_H', 10),\n",
       " ('HIV-1_13_cpx', 10)]"
      ]
     },
     "execution_count": 21,
     "metadata": {},
     "output_type": "execute_result"
    }
   ],
   "source": [
    "gt10_removeDash_labels"
   ]
  },
  {
   "cell_type": "code",
   "execution_count": 25,
   "metadata": {},
   "outputs": [],
   "source": [
    "total = 0\n",
    "labels_num = [v  for (k,v) in gt10_removeDash_labels]"
   ]
  },
  {
   "cell_type": "code",
   "execution_count": 115,
   "metadata": {},
   "outputs": [],
   "source": [
    "total = np.sum(labels_num)\n",
    "mark = 544"
   ]
  },
  {
   "cell_type": "code",
   "execution_count": 116,
   "metadata": {},
   "outputs": [],
   "source": [
    "dict_desire_labels = [(k,mark/v) for k,v in gt10_removeDash_labels]"
   ]
  },
  {
   "cell_type": "code",
   "execution_count": 117,
   "metadata": {},
   "outputs": [
    {
     "data": {
      "text/plain": [
       "[('HIV-1_B', 0.09538839207434684),\n",
       " ('HIV-1_C', 0.261916225324988),\n",
       " ('HIV-1_01_AE', 0.3817543859649123),\n",
       " ('HIV-1_-', 1.0),\n",
       " ('HIV-1_A1', 1.0945674044265594),\n",
       " ('HIV-1_01B', 2.653658536585366),\n",
       " ('HIV-1_02_AG', 3.4),\n",
       " ('HIV-1_BF1', 3.804195804195804),\n",
       " ('HIV-1_A6', 4.64957264957265),\n",
       " ('HIV-1_A1C', 4.900900900900901),\n",
       " ('HIV-1_G', 5.726315789473684),\n",
       " ('HIV-1_A1D', 5.787234042553192),\n",
       " ('HIV-1_AD', 5.787234042553192),\n",
       " ('HIV-1_BC', 5.978021978021978),\n",
       " ('HIV-1_D', 6.325581395348837),\n",
       " ('HIV-1_F1', 7.253333333333333),\n",
       " ('HIV-1_A1CD', 8.774193548387096),\n",
       " ('HIV-1_CD', 8.918032786885245),\n",
       " ('HIV-1_O', 9.543859649122806),\n",
       " ('HIV-1_01BC', 10.88),\n",
       " ('HIV-1_0107', 11.10204081632653),\n",
       " ('HIV-1_07_BC', 13.268292682926829),\n",
       " ('HIV-1_08_BC', 15.542857142857143),\n",
       " ('HIV-1_02A1', 20.923076923076923),\n",
       " ('HIV-1_11_cpx', 21.76),\n",
       " ('HIV-1_35_AD', 24.727272727272727),\n",
       " ('HIV-1_ACD', 24.727272727272727),\n",
       " ('HIV-1_U', 25.904761904761905),\n",
       " ('HIV-1_01C', 28.63157894736842),\n",
       " ('HIV-1_02A', 28.63157894736842),\n",
       " ('HIV-1_22_01A1', 30.22222222222222),\n",
       " ('HIV-1_42_BF', 32.0),\n",
       " ('HIV-1_02G', 36.266666666666666),\n",
       " ('HIV-1_06_cpx', 38.857142857142854),\n",
       " ('HIV-1_12_BF', 38.857142857142854),\n",
       " ('HIV-1_BG', 38.857142857142854),\n",
       " ('HIV-1_14_BG', 41.84615384615385),\n",
       " ('HIV-1_71_BF1', 41.84615384615385),\n",
       " ('HIV-1_02B', 41.84615384615385),\n",
       " ('HIV-1_63_02A', 41.84615384615385),\n",
       " ('HIV-1_F2', 49.45454545454545),\n",
       " ('HIV-1_N', 49.45454545454545),\n",
       " ('HIV-1_85_BC', 49.45454545454545),\n",
       " ('HIV-1_H', 54.4),\n",
       " ('HIV-1_13_cpx', 54.4)]"
      ]
     },
     "execution_count": 117,
     "metadata": {},
     "output_type": "execute_result"
    }
   ],
   "source": [
    "dict_desire_labels"
   ]
  },
  {
   "cell_type": "code",
   "execution_count": 118,
   "metadata": {},
   "outputs": [],
   "source": [
    "ofile = './hiv_12825/dict_desire_labels_less.txt'"
   ]
  },
  {
   "cell_type": "code",
   "execution_count": 119,
   "metadata": {},
   "outputs": [],
   "source": [
    "fh = open(ofile,'w')"
   ]
  },
  {
   "cell_type": "code",
   "execution_count": 120,
   "metadata": {},
   "outputs": [],
   "source": [
    "for k, v in dict_desire_labels:\n",
    "    fh.write(k)\n",
    "    fh.write(' ')\n",
    "    fh.write(str(v))\n",
    "    fh.write('\\n')"
   ]
  },
  {
   "cell_type": "code",
   "execution_count": 121,
   "metadata": {},
   "outputs": [],
   "source": [
    "fh.close()"
   ]
  },
  {
   "cell_type": "code",
   "execution_count": 39,
   "metadata": {},
   "outputs": [
    {
     "data": {
      "text/plain": [
       "1.0"
      ]
     },
     "execution_count": 39,
     "metadata": {},
     "output_type": "execute_result"
    }
   ],
   "source": [
    "np.ceil(500/570)"
   ]
  },
  {
   "cell_type": "code",
   "execution_count": 20,
   "metadata": {},
   "outputs": [
    {
     "data": {
      "text/plain": [
       "[('HIV-1_B', 5703),\n",
       " ('HIV-1_C', 2077),\n",
       " ('HIV-1_01_AE', 1425),\n",
       " ('HIV-1_-', 544),\n",
       " ('HIV-1_A1', 497),\n",
       " ('HIV-1_01B', 205),\n",
       " ('HIV-1_02_AG', 160),\n",
       " ('HIV-1_BF1', 143),\n",
       " ('HIV-1_A6', 117),\n",
       " ('HIV-1_A1C', 111),\n",
       " ('HIV-1_G', 95),\n",
       " ('HIV-1_A1D', 94),\n",
       " ('HIV-1_AD', 94),\n",
       " ('HIV-1_BC', 91),\n",
       " ('HIV-1_D', 86),\n",
       " ('HIV-1_F1', 75),\n",
       " ('HIV-1_A1CD', 62),\n",
       " ('HIV-1_CD', 61),\n",
       " ('HIV-1_O', 57),\n",
       " ('HIV-1_01BC', 50),\n",
       " ('HIV-1_0107', 49),\n",
       " ('HIV-1_07_BC', 41),\n",
       " ('HIV-1_08_BC', 35),\n",
       " ('HIV-1_02A1', 26),\n",
       " ('HIV-1_11_cpx', 25),\n",
       " ('HIV-1_35_AD', 22),\n",
       " ('HIV-1_ACD', 22),\n",
       " ('HIV-1_U', 21),\n",
       " ('HIV-1_01C', 19),\n",
       " ('HIV-1_02A', 19),\n",
       " ('HIV-1_22_01A1', 18),\n",
       " ('HIV-1_42_BF', 17),\n",
       " ('HIV-1_02G', 15),\n",
       " ('HIV-1_06_cpx', 14),\n",
       " ('HIV-1_12_BF', 14),\n",
       " ('HIV-1_BG', 14),\n",
       " ('HIV-1_14_BG', 13),\n",
       " ('HIV-1_71_BF1', 13),\n",
       " ('HIV-1_02B', 13),\n",
       " ('HIV-1_63_02A', 13),\n",
       " ('HIV-1_F2', 11),\n",
       " ('HIV-1_N', 11),\n",
       " ('HIV-1_85_BC', 11),\n",
       " ('HIV-1_H', 10),\n",
       " ('HIV-1_13_cpx', 10),\n",
       " ('HIV-1_0206', 9),\n",
       " ('HIV-1_59_01B', 9),\n",
       " ('HIV-1_64_BC', 9),\n",
       " ('HIV-1_33_01B', 8),\n",
       " ('HIV-1_15_01B', 8),\n",
       " ('HIV-1_46_BF', 8),\n",
       " ('HIV-1_A', 8),\n",
       " ('HIV-1_55_01B', 8),\n",
       " ('HIV-1_02A3', 7),\n",
       " ('HIV-1_69_01B', 7),\n",
       " ('HIV-1_J', 7),\n",
       " ('HIV-1_17_BF', 7),\n",
       " ('HIV-1_57_BC', 7),\n",
       " ('HIV-1_51_01B', 7),\n",
       " ('HIV-1_02D', 6),\n",
       " ('HIV-1_04_cpx', 6),\n",
       " ('HIV-1_0209', 6),\n",
       " ('HIV-1_18_cpx', 6),\n",
       " ('HIV-1_29_BF', 6),\n",
       " ('HIV-1_24_BG', 6),\n",
       " ('HIV-1_0222', 6),\n",
       " ('HIV-1_02A6', 6),\n",
       " ('HIV-1_65_cpx', 6),\n",
       " ('HIV-1_58_01B', 6),\n",
       " ('HIV-1_90_BF1', 6),\n",
       " ('HIV-1_94_cpx', 6),\n",
       " ('HIV-1_CU', 5),\n",
       " ('HIV-1_A1U', 5),\n",
       " ('HIV-1_A1G', 5),\n",
       " ('HIV-1_09_cpx', 5),\n",
       " ('HIV-1_25_cpx', 5),\n",
       " ('HIV-1_19_cpx', 5),\n",
       " ('HIV-1_28_BF', 5),\n",
       " ('HIV-1_45_cpx', 5),\n",
       " ('HIV-1_60_BC', 5),\n",
       " ('HIV-1_43_02G', 5),\n",
       " ('HIV-1_47_BF', 5),\n",
       " ('HIV-1_P', 5),\n",
       " ('HIV-1_A1B', 5),\n",
       " ('HIV-1_50_A1D', 5),\n",
       " ('HIV-1_72_BF1', 5),\n",
       " ('HIV-1_70_BF1', 5),\n",
       " ('HIV-1_02F2', 5),\n",
       " ('HIV-1_92_C2U', 5),\n",
       " ('HIV-1_05_DF', 4),\n",
       " ('HIV-1_49_cpx', 4),\n",
       " ('HIV-1_03_AB', 4),\n",
       " ('HIV-1_A2', 4),\n",
       " ('HIV-1_16_A2D', 4),\n",
       " ('HIV-1_37_cpx', 4),\n",
       " ('HIV-1_02O', 4),\n",
       " ('HIV-1_27_cpx', 4),\n",
       " ('HIV-1_20_BG', 4),\n",
       " ('HIV-1_53_01B', 4),\n",
       " ('HIV-1_BCF1', 4),\n",
       " ('HIV-1_40_BF', 4),\n",
       " ('HIV-1_38_BF1', 4),\n",
       " ('HIV-1_DG', 4),\n",
       " ('HIV-1_26_A5U', 4),\n",
       " ('HIV-1_56_cpx', 4),\n",
       " ('HIV-1_61_BC', 4),\n",
       " ('HIV-1_CF1', 4),\n",
       " ('HIV-1_77_cpx', 4),\n",
       " ('HIV-1_A1O', 4),\n",
       " ('HIV-1_103_01B', 4),\n",
       " ('HIV-1_L', 3),\n",
       " ('HIV-1_10_CD', 3),\n",
       " ('HIV-1_21_A2D', 3),\n",
       " ('HIV-1_A1A2D', 3),\n",
       " ('HIV-1_K', 3),\n",
       " ('HIV-1_A4', 3),\n",
       " ('HIV-1_89_BF', 3),\n",
       " ('HIV-1_0102A', 3),\n",
       " ('HIV-1_A1F2', 3),\n",
       " ('HIV-1_A3', 3),\n",
       " ('HIV-1_32_06A6', 3),\n",
       " ('HIV-1_44_BF', 3),\n",
       " ('HIV-1_31_BC', 3),\n",
       " ('HIV-1_0263', 3),\n",
       " ('HIV-1_52_01B', 3),\n",
       " ('HIV-1_36_cpx', 3),\n",
       " ('HIV-1_34_01B', 3),\n",
       " ('HIV-1_54_01B', 3),\n",
       " ('HIV-1_39_BF', 3),\n",
       " ('HIV-1_A1A2CD', 3),\n",
       " ('HIV-1_26C', 3),\n",
       " ('HIV-1_48_01B', 3),\n",
       " ('HIV-1_DO', 3),\n",
       " ('HIV-1_A1H', 3),\n",
       " ('HIV-1_75_BF', 3),\n",
       " ('HIV-1_66_BF1', 3),\n",
       " ('HIV-1_68_01B', 3),\n",
       " ('HIV-1_62_BC', 3),\n",
       " ('HIV-1_88_BC', 3),\n",
       " ('HIV-1_87_cpx', 3),\n",
       " ('HIV-1_96_cpx', 3),\n",
       " ('HIV-1_74_01B', 3),\n",
       " ('HIV-1_41_CD', 3),\n",
       " ('HIV-1_79_0107', 3),\n",
       " ('HIV-1_93_cpx', 3),\n",
       " ('HIV-1_84_A1D', 3),\n",
       " ('HIV-1_0102', 3),\n",
       " ('HIV-1_95_02B', 3),\n",
       " ('HIV-1_100_01C', 3),\n",
       " ('HIV-1_AB', 3),\n",
       " ('HIV-1_A2C', 2),\n",
       " ('HIV-1_0708', 2),\n",
       " ('HIV-1_AC', 2),\n",
       " ('HIV-1_GKU', 2),\n",
       " ('HIV-1_AF2', 2),\n",
       " ('HIV-1_AHJU', 2),\n",
       " ('HIV-1_AGU', 2),\n",
       " ('HIV-1_73_BG', 2),\n",
       " ('HIV-1_23_BG', 2),\n",
       " ('HIV-1_07B', 2),\n",
       " ('HIV-1_A1CG', 2),\n",
       " ('HIV-1_02U', 2),\n",
       " ('HIV-1_F1F2', 2),\n",
       " ('HIV-1_02A1G', 2),\n",
       " ('HIV-1_02BG', 2),\n",
       " ('HIV-1_A1BD', 2),\n",
       " ('HIV-1_67_01B', 2),\n",
       " ('HIV-1_0108', 2),\n",
       " ('HIV-1_F2O', 2),\n",
       " ('HIV-1_32A6', 2),\n",
       " ('HIV-1_02A1F2', 2),\n",
       " ('HIV-1_A1A2C', 2),\n",
       " ('HIV-1_A1A2', 2),\n",
       " ('HIV-1_GK', 2),\n",
       " ('HIV-1_A1BG', 2),\n",
       " ('HIV-1_80_0107', 2),\n",
       " ('HIV-1_99_BF', 2),\n",
       " ('HIV-1_81_cpx', 2),\n",
       " ('HIV-1_01F1G', 2),\n",
       " ('HIV-1_102_0107', 2),\n",
       " ('HIV-1_76_01B', 2),\n",
       " ('HIV-1_DF1', 2),\n",
       " ('HIV-1_02AG', 2),\n",
       " ('HIV-1_A6B', 2),\n",
       " ('HIV-1_06A3', 2),\n",
       " ('HIV-1_A1GHU', 1),\n",
       " ('HIV-1_F2KU', 1),\n",
       " ('HIV-1_A2G', 1),\n",
       " ('HIV-1_AF2G', 1),\n",
       " ('HIV-1_A1CDGKU', 1),\n",
       " ('HIV-1_A1DHK', 1),\n",
       " ('HIV-1_02C', 1),\n",
       " ('HIV-1_06A1', 1),\n",
       " ('HIV-1_02GK', 1),\n",
       " ('HIV-1_22A1U', 1),\n",
       " ('HIV-1_0122F', 1),\n",
       " ('HIV-1_22DU', 1),\n",
       " ('HIV-1_01ADF2', 1),\n",
       " ('HIV-1_1819', 1),\n",
       " ('HIV-1_DJ', 1),\n",
       " ('HIV-1_0225', 1),\n",
       " ('HIV-1_AKU', 1),\n",
       " ('HIV-1_A2CD', 1),\n",
       " ('HIV-1_01A1A6', 1),\n",
       " ('HIV-1_DF1G', 1),\n",
       " ('HIV-1_26CU', 1),\n",
       " ('HIV-1_0213', 1),\n",
       " ('HIV-1_BF1G', 1),\n",
       " ('HIV-1_0102A1', 1),\n",
       " ('HIV-1_38_BF', 1),\n",
       " ('HIV-1_01F2G', 1),\n",
       " ('HIV-1_02F2G', 1),\n",
       " ('HIV-1_02BD', 1),\n",
       " ('HIV-1_A1DG', 1),\n",
       " ('HIV-1_01A1G', 1),\n",
       " ('HIV-1_32G', 1),\n",
       " ('HIV-1_A1K', 1),\n",
       " ('HIV-1_11A1', 1),\n",
       " ('HIV-1_01A1F2', 1),\n",
       " ('HIV-1_02H', 1),\n",
       " ('HIV-1_JU', 1),\n",
       " ('HIV-1_UO', 1),\n",
       " ('HIV-1_A1GH', 1),\n",
       " ('HIV-1_BCG', 1),\n",
       " ('HIV-1_14F1', 1),\n",
       " ('HIV-1_50B', 1),\n",
       " ('HIV-1_02BF1', 1),\n",
       " ('HIV-1_ACU', 1),\n",
       " ('HIV-1_98_06B', 1),\n",
       " ('HIV-1_AU', 1),\n",
       " ('HIV-1_06G', 1),\n",
       " ('HIV-1_AJ', 1),\n",
       " ('HIV-1_ADU', 1),\n",
       " ('HIV-1_02F2U', 1),\n",
       " ('HIV-1_BF', 1),\n",
       " ('HIV-1_01D', 1),\n",
       " ('HIV-1_01G', 1),\n",
       " ('HIV-1_A1A2DG', 1),\n",
       " ('HIV-1_03A', 1),\n",
       " ('HIV-1_22F2', 1),\n",
       " ('HIV-1_AH', 1),\n",
       " ('HIV-1_A1DK', 1)]"
      ]
     },
     "execution_count": 20,
     "metadata": {},
     "output_type": "execute_result"
    }
   ],
   "source": [
    "sorted_removeDash_labels"
   ]
  },
  {
   "cell_type": "code",
   "execution_count": 43,
   "metadata": {},
   "outputs": [
    {
     "data": {
      "text/plain": [
       "242"
      ]
     },
     "execution_count": 43,
     "metadata": {},
     "output_type": "execute_result"
    }
   ],
   "source": [
    "len(sorted_removeDash_labels)"
   ]
  },
  {
   "cell_type": "code",
   "execution_count": 52,
   "metadata": {},
   "outputs": [],
   "source": [
    "combine_removeDash_labels, combined_labels = combine_labels(sorted_removeDash_labels)"
   ]
  },
  {
   "cell_type": "code",
   "execution_count": 53,
   "metadata": {},
   "outputs": [
    {
     "data": {
      "text/plain": [
       "156"
      ]
     },
     "execution_count": 53,
     "metadata": {},
     "output_type": "execute_result"
    }
   ],
   "source": [
    "len(combine_removeDash_labels)"
   ]
  },
  {
   "cell_type": "code",
   "execution_count": 68,
   "metadata": {},
   "outputs": [],
   "source": [
    "lg10_combine_removeDash_labels = get_lgn(combine_removeDash_labels,10)"
   ]
  },
  {
   "cell_type": "code",
   "execution_count": 69,
   "metadata": {},
   "outputs": [
    {
     "data": {
      "text/plain": [
       "35"
      ]
     },
     "execution_count": 69,
     "metadata": {},
     "output_type": "execute_result"
    }
   ],
   "source": [
    "len(lg10_combine_removeDash_labels)"
   ]
  },
  {
   "cell_type": "code",
   "execution_count": 70,
   "metadata": {},
   "outputs": [
    {
     "data": {
      "text/plain": [
       "[('HIV-1_B', 5703),\n",
       " ('HIV-1_C', 2077),\n",
       " ('HIV-1_AE', 1425),\n",
       " ('HIV-1_-', 544),\n",
       " ('HIV-1_A1', 497),\n",
       " ('HIV-1_01B', 288),\n",
       " ('HIV-1_BC', 212),\n",
       " ('HIV-1_BF1', 179),\n",
       " ('HIV-1_AG', 160),\n",
       " ('HIV-1_cpx', 127),\n",
       " ('HIV-1_A6', 117),\n",
       " ('HIV-1_AD', 116),\n",
       " ('HIV-1_A1C', 111),\n",
       " ('HIV-1_A1D', 102),\n",
       " ('HIV-1_G', 95),\n",
       " ('HIV-1_D', 86),\n",
       " ('HIV-1_BF', 82),\n",
       " ('HIV-1_F1', 75),\n",
       " ('HIV-1_CD', 67),\n",
       " ('HIV-1_A1CD', 62),\n",
       " ('HIV-1_O', 57),\n",
       " ('HIV-1_0107', 56),\n",
       " ('HIV-1_01BC', 50),\n",
       " ('HIV-1_BG', 41),\n",
       " ('HIV-1_02A', 32),\n",
       " ('HIV-1_02A1', 26),\n",
       " ('HIV-1_ACD', 22),\n",
       " ('HIV-1_01C', 22),\n",
       " ('HIV-1_U', 21),\n",
       " ('HIV-1_02G', 20),\n",
       " ('HIV-1_01A1', 18),\n",
       " ('HIV-1_02B', 16),\n",
       " ('HIV-1_F2', 11),\n",
       " ('HIV-1_N', 11),\n",
       " ('HIV-1_H', 10)]"
      ]
     },
     "execution_count": 70,
     "metadata": {},
     "output_type": "execute_result"
    }
   ],
   "source": [
    "lg10_combine_removeDash_labels"
   ]
  },
  {
   "cell_type": "code",
   "execution_count": 71,
   "metadata": {},
   "outputs": [
    {
     "data": {
      "text/plain": [
       "[('HIV-1_B', 5703),\n",
       " ('HIV-1_C', 2077),\n",
       " ('HIV-1_01_AE', 1425),\n",
       " ('HIV-1_-', 544),\n",
       " ('HIV-1_A1', 497),\n",
       " ('HIV-1_01B', 205),\n",
       " ('HIV-1_02_AG', 160),\n",
       " ('HIV-1_BF1', 143),\n",
       " ('HIV-1_A6', 117),\n",
       " ('HIV-1_A1C', 111),\n",
       " ('HIV-1_G', 95),\n",
       " ('HIV-1_A1D', 94),\n",
       " ('HIV-1_AD', 94),\n",
       " ('HIV-1_BC', 91),\n",
       " ('HIV-1_D', 86),\n",
       " ('HIV-1_F1', 75),\n",
       " ('HIV-1_A1CD', 62),\n",
       " ('HIV-1_CD', 61),\n",
       " ('HIV-1_O', 57),\n",
       " ('HIV-1_01BC', 50),\n",
       " ('HIV-1_0107', 49),\n",
       " ('HIV-1_07_BC', 41),\n",
       " ('HIV-1_08_BC', 35),\n",
       " ('HIV-1_02A1', 26),\n",
       " ('HIV-1_11_cpx', 25),\n",
       " ('HIV-1_35_AD', 22),\n",
       " ('HIV-1_ACD', 22),\n",
       " ('HIV-1_U', 21),\n",
       " ('HIV-1_01C', 19),\n",
       " ('HIV-1_02A', 19),\n",
       " ('HIV-1_22_01A1', 18),\n",
       " ('HIV-1_42_BF', 17),\n",
       " ('HIV-1_02G', 15),\n",
       " ('HIV-1_06_cpx', 14),\n",
       " ('HIV-1_12_BF', 14),\n",
       " ('HIV-1_BG', 14),\n",
       " ('HIV-1_14_BG', 13),\n",
       " ('HIV-1_71_BF1', 13),\n",
       " ('HIV-1_02B', 13),\n",
       " ('HIV-1_63_02A', 13),\n",
       " ('HIV-1_F2', 11),\n",
       " ('HIV-1_N', 11),\n",
       " ('HIV-1_85_BC', 11),\n",
       " ('HIV-1_H', 10),\n",
       " ('HIV-1_13_cpx', 10)]"
      ]
     },
     "execution_count": 71,
     "metadata": {},
     "output_type": "execute_result"
    }
   ],
   "source": [
    "gt10_removeDash_labels"
   ]
  },
  {
   "cell_type": "code",
   "execution_count": 55,
   "metadata": {},
   "outputs": [
    {
     "data": {
      "text/plain": [
       "['HIV-1_0107_102',\n",
       " 'HIV-1_0107_79',\n",
       " 'HIV-1_0107_80',\n",
       " 'HIV-1_01A1_22',\n",
       " 'HIV-1_01B_103',\n",
       " 'HIV-1_01B_15',\n",
       " 'HIV-1_01B_33',\n",
       " 'HIV-1_01B_34',\n",
       " 'HIV-1_01B_48',\n",
       " 'HIV-1_01B_51',\n",
       " 'HIV-1_01B_52',\n",
       " 'HIV-1_01B_53',\n",
       " 'HIV-1_01B_54',\n",
       " 'HIV-1_01B_55',\n",
       " 'HIV-1_01B_58',\n",
       " 'HIV-1_01B_59',\n",
       " 'HIV-1_01B_67',\n",
       " 'HIV-1_01B_68',\n",
       " 'HIV-1_01B_69',\n",
       " 'HIV-1_01B_74',\n",
       " 'HIV-1_01B_76',\n",
       " 'HIV-1_01C_100',\n",
       " 'HIV-1_02A_63',\n",
       " 'HIV-1_02B_95',\n",
       " 'HIV-1_02G_43',\n",
       " 'HIV-1_06A6_32',\n",
       " 'HIV-1_06B_98',\n",
       " 'HIV-1_A1D_50',\n",
       " 'HIV-1_A1D_84',\n",
       " 'HIV-1_A2D_16',\n",
       " 'HIV-1_A2D_21',\n",
       " 'HIV-1_A5U_26',\n",
       " 'HIV-1_AB_03',\n",
       " 'HIV-1_AD_35',\n",
       " 'HIV-1_AE_01',\n",
       " 'HIV-1_AG_02',\n",
       " 'HIV-1_BC_07',\n",
       " 'HIV-1_BC_08',\n",
       " 'HIV-1_BC_31',\n",
       " 'HIV-1_BC_57',\n",
       " 'HIV-1_BC_60',\n",
       " 'HIV-1_BC_61',\n",
       " 'HIV-1_BC_62',\n",
       " 'HIV-1_BC_64',\n",
       " 'HIV-1_BC_85',\n",
       " 'HIV-1_BC_88',\n",
       " 'HIV-1_BF1_38',\n",
       " 'HIV-1_BF1_66',\n",
       " 'HIV-1_BF1_70',\n",
       " 'HIV-1_BF1_71',\n",
       " 'HIV-1_BF1_72',\n",
       " 'HIV-1_BF1_90',\n",
       " 'HIV-1_BF_12',\n",
       " 'HIV-1_BF_17',\n",
       " 'HIV-1_BF_28',\n",
       " 'HIV-1_BF_29',\n",
       " 'HIV-1_BF_38',\n",
       " 'HIV-1_BF_39',\n",
       " 'HIV-1_BF_40',\n",
       " 'HIV-1_BF_42',\n",
       " 'HIV-1_BF_44',\n",
       " 'HIV-1_BF_46',\n",
       " 'HIV-1_BF_47',\n",
       " 'HIV-1_BF_75',\n",
       " 'HIV-1_BF_89',\n",
       " 'HIV-1_BF_99',\n",
       " 'HIV-1_BG_14',\n",
       " 'HIV-1_BG_20',\n",
       " 'HIV-1_BG_23',\n",
       " 'HIV-1_BG_24',\n",
       " 'HIV-1_BG_73',\n",
       " 'HIV-1_C2U_92',\n",
       " 'HIV-1_CD_10',\n",
       " 'HIV-1_CD_41',\n",
       " 'HIV-1_DF_05',\n",
       " 'HIV-1_cpx_04',\n",
       " 'HIV-1_cpx_06',\n",
       " 'HIV-1_cpx_09',\n",
       " 'HIV-1_cpx_11',\n",
       " 'HIV-1_cpx_13',\n",
       " 'HIV-1_cpx_18',\n",
       " 'HIV-1_cpx_19',\n",
       " 'HIV-1_cpx_25',\n",
       " 'HIV-1_cpx_27',\n",
       " 'HIV-1_cpx_36',\n",
       " 'HIV-1_cpx_37',\n",
       " 'HIV-1_cpx_45',\n",
       " 'HIV-1_cpx_49',\n",
       " 'HIV-1_cpx_56',\n",
       " 'HIV-1_cpx_65',\n",
       " 'HIV-1_cpx_77',\n",
       " 'HIV-1_cpx_81',\n",
       " 'HIV-1_cpx_87',\n",
       " 'HIV-1_cpx_93',\n",
       " 'HIV-1_cpx_94',\n",
       " 'HIV-1_cpx_96']"
      ]
     },
     "execution_count": 55,
     "metadata": {},
     "output_type": "execute_result"
    }
   ],
   "source": [
    "sorted(combined_labels)"
   ]
  },
  {
   "cell_type": "code",
   "execution_count": 46,
   "metadata": {},
   "outputs": [
    {
     "data": {
      "text/plain": [
       "[('HIV-1_B', 5703),\n",
       " ('HIV-1_C', 2077),\n",
       " ('HIV-1_AE', 1425),\n",
       " ('HIV-1_-', 544),\n",
       " ('HIV-1_A1', 497),\n",
       " ('HIV-1_01B', 288),\n",
       " ('HIV-1_BC', 212),\n",
       " ('HIV-1_BF1', 179),\n",
       " ('HIV-1_AG', 160),\n",
       " ('HIV-1_cpx', 127),\n",
       " ('HIV-1_A6', 117),\n",
       " ('HIV-1_AD', 116),\n",
       " ('HIV-1_A1C', 111),\n",
       " ('HIV-1_A1D', 102),\n",
       " ('HIV-1_G', 95),\n",
       " ('HIV-1_D', 86),\n",
       " ('HIV-1_BF', 82),\n",
       " ('HIV-1_F1', 75),\n",
       " ('HIV-1_CD', 67),\n",
       " ('HIV-1_A1CD', 62),\n",
       " ('HIV-1_O', 57),\n",
       " ('HIV-1_0107', 56),\n",
       " ('HIV-1_01BC', 50),\n",
       " ('HIV-1_BG', 41),\n",
       " ('HIV-1_02A', 32),\n",
       " ('HIV-1_02A1', 26),\n",
       " ('HIV-1_ACD', 22),\n",
       " ('HIV-1_01C', 22),\n",
       " ('HIV-1_U', 21),\n",
       " ('HIV-1_02G', 20),\n",
       " ('HIV-1_01A1', 18),\n",
       " ('HIV-1_02B', 16),\n",
       " ('HIV-1_F2', 11),\n",
       " ('HIV-1_N', 11),\n",
       " ('HIV-1_H', 10),\n",
       " ('HIV-1_0206', 9),\n",
       " ('HIV-1_A', 8),\n",
       " ('HIV-1_02A3', 7),\n",
       " ('HIV-1_J', 7),\n",
       " ('HIV-1_AB', 7),\n",
       " ('HIV-1_A2D', 7),\n",
       " ('HIV-1_02D', 6),\n",
       " ('HIV-1_0209', 6),\n",
       " ('HIV-1_0222', 6),\n",
       " ('HIV-1_02A6', 6),\n",
       " ('HIV-1_CU', 5),\n",
       " ('HIV-1_A1U', 5),\n",
       " ('HIV-1_A1G', 5),\n",
       " ('HIV-1_P', 5),\n",
       " ('HIV-1_A1B', 5),\n",
       " ('HIV-1_02F2', 5),\n",
       " ('HIV-1_C2U', 5),\n",
       " ('HIV-1_DF', 4),\n",
       " ('HIV-1_A2', 4),\n",
       " ('HIV-1_02O', 4),\n",
       " ('HIV-1_BCF1', 4),\n",
       " ('HIV-1_DG', 4),\n",
       " ('HIV-1_A5U', 4),\n",
       " ('HIV-1_CF1', 4),\n",
       " ('HIV-1_A1O', 4),\n",
       " ('HIV-1_L', 3),\n",
       " ('HIV-1_A1A2D', 3),\n",
       " ('HIV-1_K', 3),\n",
       " ('HIV-1_A4', 3),\n",
       " ('HIV-1_0102A', 3),\n",
       " ('HIV-1_A1F2', 3),\n",
       " ('HIV-1_A3', 3),\n",
       " ('HIV-1_06A6', 3),\n",
       " ('HIV-1_0263', 3),\n",
       " ('HIV-1_A1A2CD', 3),\n",
       " ('HIV-1_26C', 3),\n",
       " ('HIV-1_DO', 3),\n",
       " ('HIV-1_A1H', 3),\n",
       " ('HIV-1_0102', 3),\n",
       " ('HIV-1_A2C', 2),\n",
       " ('HIV-1_0708', 2),\n",
       " ('HIV-1_AC', 2),\n",
       " ('HIV-1_GKU', 2),\n",
       " ('HIV-1_AF2', 2),\n",
       " ('HIV-1_AHJU', 2),\n",
       " ('HIV-1_AGU', 2),\n",
       " ('HIV-1_07B', 2),\n",
       " ('HIV-1_A1CG', 2),\n",
       " ('HIV-1_02U', 2),\n",
       " ('HIV-1_F1F2', 2),\n",
       " ('HIV-1_02A1G', 2),\n",
       " ('HIV-1_02BG', 2),\n",
       " ('HIV-1_A1BD', 2),\n",
       " ('HIV-1_0108', 2),\n",
       " ('HIV-1_F2O', 2),\n",
       " ('HIV-1_32A6', 2),\n",
       " ('HIV-1_02A1F2', 2),\n",
       " ('HIV-1_A1A2C', 2),\n",
       " ('HIV-1_A1A2', 2),\n",
       " ('HIV-1_GK', 2),\n",
       " ('HIV-1_A1BG', 2),\n",
       " ('HIV-1_01F1G', 2),\n",
       " ('HIV-1_DF1', 2),\n",
       " ('HIV-1_02AG', 2),\n",
       " ('HIV-1_A6B', 2),\n",
       " ('HIV-1_06A3', 2),\n",
       " ('HIV-1_A1GHU', 1),\n",
       " ('HIV-1_F2KU', 1),\n",
       " ('HIV-1_A2G', 1),\n",
       " ('HIV-1_AF2G', 1),\n",
       " ('HIV-1_A1CDGKU', 1),\n",
       " ('HIV-1_A1DHK', 1),\n",
       " ('HIV-1_02C', 1),\n",
       " ('HIV-1_06A1', 1),\n",
       " ('HIV-1_02GK', 1),\n",
       " ('HIV-1_22A1U', 1),\n",
       " ('HIV-1_0122F', 1),\n",
       " ('HIV-1_22DU', 1),\n",
       " ('HIV-1_01ADF2', 1),\n",
       " ('HIV-1_1819', 1),\n",
       " ('HIV-1_DJ', 1),\n",
       " ('HIV-1_0225', 1),\n",
       " ('HIV-1_AKU', 1),\n",
       " ('HIV-1_A2CD', 1),\n",
       " ('HIV-1_01A1A6', 1),\n",
       " ('HIV-1_DF1G', 1),\n",
       " ('HIV-1_26CU', 1),\n",
       " ('HIV-1_0213', 1),\n",
       " ('HIV-1_BF1G', 1),\n",
       " ('HIV-1_0102A1', 1),\n",
       " ('HIV-1_01F2G', 1),\n",
       " ('HIV-1_02F2G', 1),\n",
       " ('HIV-1_02BD', 1),\n",
       " ('HIV-1_A1DG', 1),\n",
       " ('HIV-1_01A1G', 1),\n",
       " ('HIV-1_32G', 1),\n",
       " ('HIV-1_A1K', 1),\n",
       " ('HIV-1_11A1', 1),\n",
       " ('HIV-1_01A1F2', 1),\n",
       " ('HIV-1_02H', 1),\n",
       " ('HIV-1_JU', 1),\n",
       " ('HIV-1_UO', 1),\n",
       " ('HIV-1_A1GH', 1),\n",
       " ('HIV-1_BCG', 1),\n",
       " ('HIV-1_14F1', 1),\n",
       " ('HIV-1_50B', 1),\n",
       " ('HIV-1_02BF1', 1),\n",
       " ('HIV-1_ACU', 1),\n",
       " ('HIV-1_06B', 1),\n",
       " ('HIV-1_AU', 1),\n",
       " ('HIV-1_06G', 1),\n",
       " ('HIV-1_AJ', 1),\n",
       " ('HIV-1_ADU', 1),\n",
       " ('HIV-1_02F2U', 1),\n",
       " ('HIV-1_01D', 1),\n",
       " ('HIV-1_01G', 1),\n",
       " ('HIV-1_A1A2DG', 1),\n",
       " ('HIV-1_03A', 1),\n",
       " ('HIV-1_22F2', 1),\n",
       " ('HIV-1_AH', 1),\n",
       " ('HIV-1_A1DK', 1)]"
      ]
     },
     "execution_count": 46,
     "metadata": {},
     "output_type": "execute_result"
    }
   ],
   "source": [
    "combine_removeDash_labels"
   ]
  },
  {
   "cell_type": "code",
   "execution_count": null,
   "metadata": {},
   "outputs": [],
   "source": []
  },
  {
   "cell_type": "code",
   "execution_count": null,
   "metadata": {},
   "outputs": [],
   "source": []
  },
  {
   "cell_type": "code",
   "execution_count": null,
   "metadata": {},
   "outputs": [],
   "source": []
  },
  {
   "cell_type": "code",
   "execution_count": null,
   "metadata": {},
   "outputs": [],
   "source": []
  },
  {
   "cell_type": "code",
   "execution_count": null,
   "metadata": {},
   "outputs": [],
   "source": []
  },
  {
   "cell_type": "code",
   "execution_count": null,
   "metadata": {},
   "outputs": [],
   "source": []
  },
  {
   "cell_type": "code",
   "execution_count": null,
   "metadata": {},
   "outputs": [],
   "source": []
  },
  {
   "cell_type": "code",
   "execution_count": 49,
   "metadata": {},
   "outputs": [],
   "source": [
    "labelsDicFile = './hiv_12825/labels_dict_31.txt'"
   ]
  },
  {
   "cell_type": "code",
   "execution_count": 72,
   "metadata": {},
   "outputs": [],
   "source": [
    "labels = np.load('./hiv_12825/12mer_500_labels_2020-07-10-14_34_20.npy')"
   ]
  },
  {
   "cell_type": "code",
   "execution_count": 66,
   "metadata": {},
   "outputs": [],
   "source": [
    "features = np.load('./hiv_12825/12mer_500_features_index.npy')"
   ]
  },
  {
   "cell_type": "code",
   "execution_count": 67,
   "metadata": {},
   "outputs": [],
   "source": [
    "dataset = MyDataset(features,labels,labelsDicFile)"
   ]
  },
  {
   "cell_type": "code",
   "execution_count": 73,
   "metadata": {},
   "outputs": [],
   "source": [
    "sorted_labels = sort_labels(labels)"
   ]
  },
  {
   "cell_type": "code",
   "execution_count": 76,
   "metadata": {
    "scrolled": true
   },
   "outputs": [
    {
     "data": {
      "text/plain": [
       "[('HIV-1_B', 99414),\n",
       " ('HIV-1_C', 36323),\n",
       " ('HIV-1_AE', 24645),\n",
       " ('HIV-1_-', 9673),\n",
       " ('HIV-1_A1', 8553),\n",
       " ('HIV-1_01B', 4954),\n",
       " ('HIV-1_BC', 3677),\n",
       " ('HIV-1_BF1', 3100),\n",
       " ('HIV-1_AG', 2764),\n",
       " ('HIV-1_cpx', 2211),\n",
       " ('HIV-1_A6', 2023),\n",
       " ('HIV-1_AD', 1971),\n",
       " ('HIV-1_A1C', 1904),\n",
       " ('HIV-1_A1D', 1741),\n",
       " ('HIV-1_G', 1671),\n",
       " ('HIV-1_D', 1489),\n",
       " ('HIV-1_BF', 1426),\n",
       " ('HIV-1_F1', 1295),\n",
       " ('HIV-1_CD', 1161),\n",
       " ('HIV-1_O', 1059),\n",
       " ('HIV-1_A1CD', 1056),\n",
       " ('HIV-1_0107', 962),\n",
       " ('HIV-1_01BC', 862),\n",
       " ('HIV-1_BG', 708),\n",
       " ('HIV-1_02A', 560),\n",
       " ('HIV-1_02A1', 468),\n",
       " ('HIV-1_U', 381),\n",
       " ('HIV-1_01C', 377),\n",
       " ('HIV-1_ACD', 374),\n",
       " ('HIV-1_02G', 346),\n",
       " ('HIV-1_01A1', 306),\n",
       " ('HIV-1_02B', 269),\n",
       " ('HIV-1_N', 191),\n",
       " ('HIV-1_F2', 190),\n",
       " ('HIV-1_H', 181)]"
      ]
     },
     "execution_count": 76,
     "metadata": {},
     "output_type": "execute_result"
    }
   ],
   "source": [
    "sorted_labels"
   ]
  },
  {
   "cell_type": "code",
   "execution_count": 77,
   "metadata": {},
   "outputs": [
    {
     "data": {
      "text/plain": [
       "35"
      ]
     },
     "execution_count": 77,
     "metadata": {},
     "output_type": "execute_result"
    }
   ],
   "source": [
    "len(sorted_labels)"
   ]
  },
  {
   "cell_type": "code",
   "execution_count": 85,
   "metadata": {},
   "outputs": [],
   "source": [
    "fh = open('./hiv_12825/labels_dict_35.txt','w')"
   ]
  },
  {
   "cell_type": "code",
   "execution_count": 86,
   "metadata": {},
   "outputs": [],
   "source": [
    "for i, (k,v) in enumerate(sorted_labels):\n",
    "    fh.write(k)\n",
    "    fh.write(' ')\n",
    "    fh.write(str(i+1))\n",
    "    fh.write('\\n')"
   ]
  },
  {
   "cell_type": "code",
   "execution_count": 87,
   "metadata": {},
   "outputs": [],
   "source": [
    "fh.close()"
   ]
  },
  {
   "cell_type": "code",
   "execution_count": null,
   "metadata": {},
   "outputs": [],
   "source": []
  },
  {
   "cell_type": "code",
   "execution_count": 22,
   "metadata": {},
   "outputs": [
    {
     "data": {
      "text/plain": [
       "209722"
      ]
     },
     "execution_count": 22,
     "metadata": {},
     "output_type": "execute_result"
    }
   ],
   "source": [
    "total = len(labels)\n",
    "total"
   ]
  },
  {
   "cell_type": "code",
   "execution_count": 39,
   "metadata": {},
   "outputs": [],
   "source": [
    "weights = [ (k,total/n)  for k,n in sorted_labels]\n",
    "weights_dict = {}\n",
    "for k,w in weights:\n",
    "    weights_dict[k]=w"
   ]
  },
  {
   "cell_type": "code",
   "execution_count": 40,
   "metadata": {},
   "outputs": [
    {
     "data": {
      "text/plain": [
       "{'HIV-1_B': 2.1095821514072464,\n",
       " 'HIV-1_C': 5.773807229579055,\n",
       " 'HIV-1_01_AE': 8.50971799553662,\n",
       " 'HIV-1_-': 21.68117440297736,\n",
       " 'HIV-1_A1': 24.520285280018708,\n",
       " 'HIV-1_01B': 59.46186560816558,\n",
       " 'HIV-1_02_AG': 75.87626628075253,\n",
       " 'HIV-1_BF1': 84.63357546408393,\n",
       " 'HIV-1_A6': 103.66880869995057,\n",
       " 'HIV-1_A1C': 110.14810924369748,\n",
       " 'HIV-1_G': 125.50688210652304,\n",
       " 'HIV-1_A1D': 130.66791277258568,\n",
       " 'HIV-1_AD': 131.3224796493425,\n",
       " 'HIV-1_BC': 134.0076677316294,\n",
       " 'HIV-1_D': 140.84754869039625,\n",
       " 'HIV-1_F1': 161.94749034749034,\n",
       " 'HIV-1_O': 198.0377714825307,\n",
       " 'HIV-1_CD': 198.2249527410208,\n",
       " 'HIV-1_A1CD': 198.60037878787878,\n",
       " 'HIV-1_01BC': 243.2969837587007,\n",
       " 'HIV-1_0107': 249.37217598097504,\n",
       " 'HIV-1_07_BC': 296.21751412429376,\n",
       " 'HIV-1_08_BC': 337.71658615136874,\n",
       " 'HIV-1_02A1': 448.12393162393164,\n",
       " 'HIV-1_11_cpx': 481.01376146788994,\n",
       " 'HIV-1_U': 550.4514435695538,\n",
       " 'HIV-1_35_AD': 560.7540106951872,\n",
       " 'HIV-1_ACD': 560.7540106951872,\n",
       " 'HIV-1_01C': 643.319018404908,\n",
       " 'HIV-1_02A': 643.319018404908,\n",
       " 'HIV-1_22_01A1': 685.3660130718954}"
      ]
     },
     "execution_count": 40,
     "metadata": {},
     "output_type": "execute_result"
    }
   ],
   "source": [
    "labels_weigth"
   ]
  },
  {
   "cell_type": "code",
   "execution_count": 73,
   "metadata": {},
   "outputs": [
    {
     "data": {
      "text/plain": [
       "16.0"
      ]
     },
     "execution_count": 73,
     "metadata": {},
     "output_type": "execute_result"
    }
   ],
   "source": [
    "20*0.8"
   ]
  },
  {
   "cell_type": "code",
   "execution_count": 45,
   "metadata": {},
   "outputs": [],
   "source": [
    "sample_weights = get_sample_weights('./hiv_12825/12mer_500_labels.npy')"
   ]
  },
  {
   "cell_type": "code",
   "execution_count": 68,
   "metadata": {},
   "outputs": [],
   "source": [
    "sampler = WeightedRandomSampler(sample_weights,\\\n",
    "                                num_samples=100000,\\\n",
    "                                replacement=True)"
   ]
  },
  {
   "cell_type": "code",
   "execution_count": 69,
   "metadata": {},
   "outputs": [],
   "source": [
    "dataloader = DataLoader(dataset,\n",
    "                        batch_size=4000,\n",
    "                        sampler=sampler)"
   ]
  },
  {
   "cell_type": "code",
   "execution_count": 72,
   "metadata": {},
   "outputs": [
    {
     "name": "stdout",
     "output_type": "stream",
     "text": [
      "[(26.0, 143), (3.0, 142), (1.0, 141), (7.0, 141), (12.0, 140), (2.0, 140), (4.0, 139), (10.0, 138), (19.0, 137), (27.0, 135), (6.0, 135), (23.0, 134), (20.0, 134), (5.0, 131), (25.0, 131), (14.0, 131), (16.0, 131), (17.0, 129), (21.0, 127), (15.0, 127), (28.0, 126), (30.0, 124), (18.0, 124), (9.0, 119), (13.0, 118), (31.0, 117), (22.0, 116), (8.0, 115), (29.0, 115), (11.0, 110), (24.0, 110)]\n",
      "31\n",
      "[(4.0, 159), (28.0, 153), (29.0, 149), (13.0, 147), (7.0, 145), (15.0, 145), (12.0, 136), (17.0, 136), (14.0, 134), (3.0, 134), (31.0, 133), (30.0, 133), (2.0, 131), (22.0, 131), (11.0, 130), (1.0, 129), (9.0, 128), (18.0, 125), (6.0, 124), (16.0, 123), (8.0, 123), (10.0, 123), (27.0, 119), (24.0, 118), (26.0, 117), (25.0, 117), (21.0, 115), (5.0, 114), (20.0, 113), (23.0, 109), (19.0, 107)]\n",
      "31\n",
      "[(7.0, 154), (5.0, 149), (20.0, 143), (2.0, 141), (18.0, 141), (6.0, 139), (23.0, 138), (27.0, 138), (29.0, 136), (31.0, 136), (15.0, 135), (1.0, 135), (17.0, 134), (26.0, 133), (24.0, 133), (30.0, 132), (13.0, 130), (10.0, 129), (4.0, 125), (22.0, 124), (16.0, 124), (28.0, 124), (9.0, 123), (19.0, 122), (3.0, 121), (8.0, 116), (21.0, 113), (11.0, 112), (25.0, 110), (14.0, 107), (12.0, 103)]\n",
      "31\n",
      "[(6.0, 161), (28.0, 146), (15.0, 145), (10.0, 140), (2.0, 140), (17.0, 138), (27.0, 138), (22.0, 137), (19.0, 133), (11.0, 133), (20.0, 132), (13.0, 131), (14.0, 131), (9.0, 131), (12.0, 130), (7.0, 129), (30.0, 129), (31.0, 128), (3.0, 127), (24.0, 125), (26.0, 125), (23.0, 125), (1.0, 124), (29.0, 123), (21.0, 121), (16.0, 120), (25.0, 117), (8.0, 114), (18.0, 114), (5.0, 107), (4.0, 106)]\n",
      "31\n",
      "[(19.0, 144), (3.0, 141), (7.0, 141), (26.0, 141), (16.0, 139), (20.0, 138), (22.0, 135), (1.0, 135), (6.0, 135), (15.0, 134), (10.0, 131), (14.0, 130), (25.0, 130), (8.0, 130), (11.0, 130), (2.0, 130), (23.0, 129), (30.0, 129), (4.0, 128), (27.0, 128), (21.0, 125), (18.0, 125), (5.0, 124), (29.0, 123), (9.0, 123), (31.0, 121), (12.0, 121), (28.0, 118), (17.0, 117), (13.0, 114), (24.0, 111)]\n",
      "31\n",
      "[(1.0, 158), (29.0, 154), (9.0, 143), (16.0, 140), (27.0, 139), (26.0, 139), (11.0, 137), (31.0, 137), (3.0, 134), (8.0, 134), (6.0, 134), (23.0, 133), (15.0, 132), (2.0, 131), (19.0, 131), (25.0, 131), (21.0, 129), (13.0, 129), (17.0, 128), (22.0, 126), (5.0, 125), (14.0, 125), (12.0, 124), (28.0, 122), (24.0, 118), (10.0, 115), (30.0, 114), (20.0, 113), (7.0, 111), (4.0, 111), (18.0, 103)]\n",
      "31\n",
      "[(29.0, 153), (11.0, 146), (6.0, 145), (17.0, 144), (19.0, 143), (9.0, 142), (13.0, 141), (24.0, 140), (15.0, 139), (3.0, 137), (10.0, 136), (4.0, 133), (26.0, 133), (21.0, 131), (30.0, 130), (16.0, 129), (7.0, 125), (20.0, 124), (22.0, 124), (25.0, 123), (23.0, 123), (27.0, 123), (31.0, 123), (14.0, 122), (5.0, 119), (18.0, 115), (1.0, 115), (28.0, 114), (12.0, 110), (2.0, 109), (8.0, 109)]\n",
      "31\n",
      "[(7.0, 143), (26.0, 142), (6.0, 141), (2.0, 140), (24.0, 140), (3.0, 139), (15.0, 138), (20.0, 138), (17.0, 136), (27.0, 136), (9.0, 135), (23.0, 135), (12.0, 134), (29.0, 132), (14.0, 130), (1.0, 128), (16.0, 128), (13.0, 127), (28.0, 126), (25.0, 125), (4.0, 125), (8.0, 125), (31.0, 123), (19.0, 123), (5.0, 122), (18.0, 121), (22.0, 119), (30.0, 118), (11.0, 113), (10.0, 113), (21.0, 105)]\n",
      "31\n",
      "[(27.0, 149), (8.0, 142), (9.0, 139), (7.0, 139), (24.0, 138), (19.0, 136), (1.0, 136), (31.0, 136), (12.0, 133), (14.0, 132), (10.0, 131), (26.0, 131), (23.0, 130), (6.0, 130), (17.0, 129), (11.0, 128), (4.0, 128), (3.0, 128), (13.0, 127), (2.0, 127), (5.0, 126), (18.0, 125), (25.0, 125), (16.0, 123), (20.0, 123), (28.0, 123), (29.0, 122), (22.0, 120), (15.0, 118), (30.0, 114), (21.0, 112)]\n",
      "31\n",
      "[(11.0, 168), (16.0, 151), (24.0, 147), (26.0, 145), (2.0, 140), (12.0, 136), (5.0, 136), (6.0, 135), (13.0, 135), (22.0, 134), (20.0, 134), (30.0, 132), (27.0, 131), (18.0, 130), (9.0, 130), (23.0, 130), (15.0, 130), (29.0, 128), (21.0, 126), (8.0, 124), (1.0, 124), (3.0, 124), (19.0, 121), (17.0, 120), (4.0, 120), (7.0, 118), (31.0, 118), (28.0, 116), (10.0, 106), (14.0, 106), (25.0, 105)]\n",
      "31\n",
      "[(31.0, 152), (23.0, 147), (8.0, 145), (22.0, 144), (21.0, 143), (29.0, 141), (1.0, 140), (5.0, 138), (9.0, 138), (30.0, 137), (2.0, 133), (24.0, 133), (16.0, 132), (11.0, 131), (13.0, 130), (4.0, 128), (20.0, 127), (19.0, 125), (3.0, 124), (6.0, 121), (28.0, 121), (26.0, 121), (17.0, 120), (7.0, 120), (12.0, 120), (15.0, 118), (25.0, 118), (14.0, 117), (27.0, 116), (18.0, 111), (10.0, 109)]\n",
      "31\n",
      "[(18.0, 171), (10.0, 153), (25.0, 143), (22.0, 139), (14.0, 137), (5.0, 136), (12.0, 136), (8.0, 134), (13.0, 134), (23.0, 133), (26.0, 131), (30.0, 130), (29.0, 130), (16.0, 128), (6.0, 128), (2.0, 128), (31.0, 128), (4.0, 127), (15.0, 127), (17.0, 126), (24.0, 125), (3.0, 123), (11.0, 122), (28.0, 120), (21.0, 120), (20.0, 118), (9.0, 117), (1.0, 116), (7.0, 116), (27.0, 115), (19.0, 109)]\n",
      "31\n",
      "[(17.0, 153), (30.0, 153), (26.0, 150), (4.0, 147), (1.0, 141), (16.0, 139), (27.0, 138), (28.0, 137), (10.0, 137), (25.0, 136), (3.0, 133), (19.0, 132), (23.0, 132), (7.0, 130), (21.0, 130), (14.0, 128), (13.0, 126), (5.0, 125), (2.0, 125), (20.0, 124), (12.0, 123), (31.0, 122), (22.0, 121), (29.0, 120), (9.0, 120), (8.0, 119), (18.0, 117), (6.0, 114), (15.0, 114), (24.0, 110), (11.0, 104)]\n",
      "31\n",
      "[(29.0, 154), (2.0, 146), (23.0, 143), (21.0, 143), (31.0, 140), (6.0, 140), (3.0, 139), (7.0, 138), (16.0, 138), (17.0, 137), (19.0, 135), (22.0, 131), (15.0, 130), (26.0, 129), (10.0, 129), (11.0, 129), (30.0, 128), (20.0, 127), (8.0, 126), (5.0, 123), (18.0, 123), (24.0, 123), (4.0, 123), (25.0, 121), (27.0, 120), (14.0, 117), (12.0, 114), (28.0, 114), (13.0, 114), (1.0, 113), (9.0, 113)]\n",
      "31\n",
      "[(11.0, 147), (13.0, 147), (1.0, 141), (8.0, 140), (9.0, 138), (5.0, 137), (12.0, 135), (31.0, 134), (7.0, 134), (29.0, 132), (4.0, 132), (2.0, 131), (30.0, 131), (3.0, 130), (28.0, 129), (6.0, 129), (20.0, 128), (15.0, 128), (19.0, 128), (25.0, 126), (23.0, 124), (26.0, 124), (27.0, 124), (14.0, 124), (21.0, 123), (10.0, 120), (22.0, 119), (24.0, 119), (16.0, 118), (18.0, 117), (17.0, 111)]\n",
      "31\n",
      "[(24.0, 148), (21.0, 145), (31.0, 144), (26.0, 141), (13.0, 139), (7.0, 138), (1.0, 135), (12.0, 134), (19.0, 133), (28.0, 132), (29.0, 131), (25.0, 131), (20.0, 131), (17.0, 129), (15.0, 127), (30.0, 127), (27.0, 126), (16.0, 126), (23.0, 126), (8.0, 126), (11.0, 125), (5.0, 125), (22.0, 125), (10.0, 123), (2.0, 122), (4.0, 121), (6.0, 121), (18.0, 120), (3.0, 120), (14.0, 117), (9.0, 112)]\n",
      "31\n",
      "[(7.0, 152), (10.0, 149), (16.0, 146), (5.0, 139), (1.0, 139), (28.0, 138), (17.0, 136), (25.0, 134), (13.0, 134), (18.0, 134), (3.0, 132), (26.0, 131), (30.0, 130), (29.0, 130), (24.0, 129), (19.0, 128), (9.0, 127), (15.0, 126), (23.0, 126), (14.0, 126), (4.0, 125), (2.0, 122), (22.0, 121), (27.0, 121), (12.0, 121), (21.0, 120), (31.0, 120), (8.0, 119), (20.0, 117), (6.0, 116), (11.0, 112)]\n",
      "31\n",
      "[(15.0, 150), (26.0, 149), (31.0, 141), (6.0, 141), (11.0, 137), (24.0, 135), (7.0, 135), (20.0, 135), (25.0, 134), (18.0, 133), (16.0, 132), (17.0, 132), (10.0, 131), (30.0, 131), (22.0, 131), (13.0, 130), (19.0, 130), (5.0, 130), (4.0, 130), (2.0, 128), (12.0, 126), (27.0, 126), (14.0, 125), (29.0, 122), (23.0, 120), (9.0, 118), (1.0, 118), (28.0, 116), (8.0, 115), (21.0, 110), (3.0, 109)]\n",
      "31\n",
      "[(3.0, 150), (14.0, 148), (25.0, 145), (29.0, 143), (10.0, 141), (17.0, 140), (21.0, 138), (4.0, 137), (24.0, 137), (30.0, 135), (23.0, 134), (6.0, 133), (1.0, 130), (15.0, 127), (8.0, 126), (5.0, 126), (31.0, 126), (9.0, 125), (2.0, 124), (13.0, 123), (28.0, 123), (7.0, 123), (20.0, 122), (22.0, 122), (16.0, 122), (27.0, 120), (19.0, 119), (18.0, 118), (12.0, 117), (11.0, 115), (26.0, 111)]\n",
      "31\n",
      "[(22.0, 165), (21.0, 157), (10.0, 144), (27.0, 143), (3.0, 142), (28.0, 142), (26.0, 141), (5.0, 140), (2.0, 138), (4.0, 134), (24.0, 134), (14.0, 133), (9.0, 132), (8.0, 130), (11.0, 129), (23.0, 127), (7.0, 126), (31.0, 125), (29.0, 123), (15.0, 122), (19.0, 121), (6.0, 120), (13.0, 119), (18.0, 119), (20.0, 118), (12.0, 117), (1.0, 115), (25.0, 114), (30.0, 112), (17.0, 109), (16.0, 109)]\n",
      "31\n",
      "[(25.0, 163), (9.0, 151), (24.0, 149), (13.0, 146), (5.0, 145), (10.0, 142), (17.0, 141), (18.0, 138), (1.0, 138), (27.0, 134), (19.0, 133), (15.0, 133), (2.0, 132), (31.0, 130), (7.0, 128), (30.0, 128), (22.0, 127), (8.0, 125), (4.0, 125), (14.0, 125), (6.0, 124), (23.0, 124), (26.0, 123), (16.0, 123), (29.0, 122), (20.0, 113), (28.0, 112), (11.0, 111), (12.0, 107), (21.0, 106), (3.0, 102)]\n",
      "31\n",
      "[(5.0, 154), (15.0, 147), (29.0, 147), (9.0, 146), (14.0, 143), (11.0, 138), (12.0, 137), (1.0, 137), (22.0, 136), (30.0, 135), (7.0, 134), (24.0, 133), (8.0, 131), (6.0, 131), (4.0, 129), (21.0, 129), (26.0, 128), (28.0, 128), (18.0, 127), (20.0, 124), (17.0, 124), (31.0, 123), (3.0, 122), (23.0, 122), (19.0, 119), (2.0, 118), (16.0, 117), (13.0, 116), (27.0, 111), (10.0, 110), (25.0, 104)]\n",
      "31\n",
      "[(10.0, 158), (2.0, 144), (15.0, 144), (3.0, 140), (7.0, 140), (9.0, 139), (31.0, 138), (18.0, 137), (24.0, 137), (14.0, 135), (16.0, 134), (1.0, 134), (25.0, 133), (22.0, 131), (28.0, 129), (19.0, 128), (30.0, 127), (20.0, 125), (12.0, 123), (11.0, 123), (5.0, 122), (21.0, 122), (13.0, 122), (29.0, 121), (17.0, 121), (23.0, 120), (6.0, 119), (8.0, 117), (4.0, 115), (26.0, 115), (27.0, 107)]\n",
      "31\n",
      "[(23.0, 164), (26.0, 156), (1.0, 155), (22.0, 147), (6.0, 145), (25.0, 142), (16.0, 137), (10.0, 136), (7.0, 135), (19.0, 131), (24.0, 130), (8.0, 128), (29.0, 128), (28.0, 127), (18.0, 127), (13.0, 127), (27.0, 127), (11.0, 127), (5.0, 125), (15.0, 124), (4.0, 124), (20.0, 123), (31.0, 122), (17.0, 121), (21.0, 121), (3.0, 118), (14.0, 115), (2.0, 112), (30.0, 112), (9.0, 107), (12.0, 107)]\n",
      "31\n"
     ]
    },
    {
     "name": "stdout",
     "output_type": "stream",
     "text": [
      "[(27.0, 161), (14.0, 156), (10.0, 151), (17.0, 151), (2.0, 140), (31.0, 139), (9.0, 138), (28.0, 135), (5.0, 135), (3.0, 132), (26.0, 131), (22.0, 130), (23.0, 128), (29.0, 128), (30.0, 127), (15.0, 126), (21.0, 125), (20.0, 124), (4.0, 124), (13.0, 123), (18.0, 122), (1.0, 122), (11.0, 121), (19.0, 120), (24.0, 120), (16.0, 118), (8.0, 116), (7.0, 115), (6.0, 115), (25.0, 114), (12.0, 113)]\n",
      "31\n"
     ]
    }
   ],
   "source": [
    "for datas, labels in dataloader:\n",
    "    print(sort_labels(labels))\n",
    "    print(len(np.unique(labels)))"
   ]
  },
  {
   "cell_type": "code",
   "execution_count": null,
   "metadata": {},
   "outputs": [],
   "source": []
  },
  {
   "cell_type": "code",
   "execution_count": null,
   "metadata": {},
   "outputs": [],
   "source": []
  },
  {
   "cell_type": "code",
   "execution_count": null,
   "metadata": {},
   "outputs": [],
   "source": []
  },
  {
   "cell_type": "code",
   "execution_count": null,
   "metadata": {},
   "outputs": [],
   "source": []
  },
  {
   "cell_type": "code",
   "execution_count": null,
   "metadata": {},
   "outputs": [],
   "source": []
  },
  {
   "cell_type": "code",
   "execution_count": null,
   "metadata": {},
   "outputs": [],
   "source": []
  },
  {
   "cell_type": "code",
   "execution_count": null,
   "metadata": {},
   "outputs": [],
   "source": []
  },
  {
   "cell_type": "code",
   "execution_count": null,
   "metadata": {},
   "outputs": [],
   "source": []
  },
  {
   "cell_type": "code",
   "execution_count": null,
   "metadata": {},
   "outputs": [],
   "source": []
  },
  {
   "cell_type": "code",
   "execution_count": null,
   "metadata": {},
   "outputs": [],
   "source": []
  },
  {
   "cell_type": "code",
   "execution_count": null,
   "metadata": {},
   "outputs": [],
   "source": []
  },
  {
   "cell_type": "code",
   "execution_count": 38,
   "metadata": {},
   "outputs": [],
   "source": [
    "fh = open('./hiv_12825/labels_dict_31.txt', 'w')"
   ]
  },
  {
   "cell_type": "code",
   "execution_count": 39,
   "metadata": {},
   "outputs": [],
   "source": [
    "for i, k in enumerate(np.unique(labels)):\n",
    "    fh. write(k)\n",
    "    fh.write(' ')\n",
    "    fh.write(str(i+1))\n",
    "    fh.write('\\n')"
   ]
  },
  {
   "cell_type": "code",
   "execution_count": 40,
   "metadata": {},
   "outputs": [],
   "source": [
    "fh.close()"
   ]
  },
  {
   "cell_type": "code",
   "execution_count": null,
   "metadata": {},
   "outputs": [],
   "source": []
  },
  {
   "cell_type": "code",
   "execution_count": 3,
   "metadata": {},
   "outputs": [],
   "source": [
    "input_seq = '../../hiv-db.fasta'"
   ]
  },
  {
   "cell_type": "code",
   "execution_count": 17,
   "metadata": {},
   "outputs": [],
   "source": [
    "output_file = './hiv_12825.fasta'"
   ]
  },
  {
   "cell_type": "code",
   "execution_count": null,
   "metadata": {},
   "outputs": [],
   "source": [
    "file = './hiv'"
   ]
  },
  {
   "cell_type": "code",
   "execution_count": 22,
   "metadata": {},
   "outputs": [],
   "source": [
    "extrac_subtype_seq(input_seq,output_file)"
   ]
  },
  {
   "cell_type": "code",
   "execution_count": 23,
   "metadata": {},
   "outputs": [
    {
     "data": {
      "text/plain": [
       "12825.0"
      ]
     },
     "execution_count": 23,
     "metadata": {},
     "output_type": "execute_result"
    }
   ],
   "source": [
    "25650/2"
   ]
  },
  {
   "cell_type": "code",
   "execution_count": 27,
   "metadata": {},
   "outputs": [],
   "source": [
    "i = 0\n",
    "seq = None\n",
    "labels= []\n",
    "with open(output_file) as handle:\n",
    "    for rec in SeqIO.parse(handle,'fasta'):\n",
    "        label_id  = rec.id\n",
    "        labels.append(label_id)\n",
    "        \n",
    "               "
   ]
  },
  {
   "cell_type": "code",
   "execution_count": 28,
   "metadata": {},
   "outputs": [
    {
     "data": {
      "text/plain": [
       "12825"
      ]
     },
     "execution_count": 28,
     "metadata": {},
     "output_type": "execute_result"
    }
   ],
   "source": [
    "len(labels)"
   ]
  },
  {
   "cell_type": "code",
   "execution_count": 44,
   "metadata": {},
   "outputs": [],
   "source": [
    "labels_sorted = sort_labels(labels)"
   ]
  },
  {
   "cell_type": "code",
   "execution_count": 57,
   "metadata": {},
   "outputs": [
    {
     "data": {
      "text/plain": [
       "[('HIV-1_B', 5703),\n",
       " ('HIV-1_C', 2077),\n",
       " ('HIV-1_01_AE', 1425),\n",
       " ('HIV-1_-', 544),\n",
       " ('HIV-1_A1', 497),\n",
       " ('HIV-1_01B', 205),\n",
       " ('HIV-1_02_AG', 160),\n",
       " ('HIV-1_BF1', 143),\n",
       " ('HIV-1_A6', 117),\n",
       " ('HIV-1_A1C', 111),\n",
       " ('HIV-1_G', 95),\n",
       " ('HIV-1_A1D', 94),\n",
       " ('HIV-1_AD', 94),\n",
       " ('HIV-1_BC', 91),\n",
       " ('HIV-1_D', 86),\n",
       " ('HIV-1_F1', 75),\n",
       " ('HIV-1_A1CD', 62),\n",
       " ('HIV-1_CD', 61),\n",
       " ('HIV-1_O', 57),\n",
       " ('HIV-1_01BC', 50),\n",
       " ('HIV-1_0107', 49),\n",
       " ('HIV-1_07_BC', 41),\n",
       " ('HIV-1_08_BC', 35),\n",
       " ('HIV-1_02A1', 26),\n",
       " ('HIV-1_11_cpx', 25),\n",
       " ('HIV-1_35_AD', 22),\n",
       " ('HIV-1_ACD', 22),\n",
       " ('HIV-1_U', 21),\n",
       " ('HIV-1_01C', 19),\n",
       " ('HIV-1_02A', 19),\n",
       " ('HIV-1_22_01A1', 18),\n",
       " ('HIV-1_42_BF', 17),\n",
       " ('HIV-1_02G', 15),\n",
       " ('HIV-1_06_cpx', 14),\n",
       " ('HIV-1_12_BF', 14),\n",
       " ('HIV-1_BG', 14),\n",
       " ('HIV-1_14_BG', 13),\n",
       " ('HIV-1_71_BF1', 13),\n",
       " ('HIV-1_02B', 13),\n",
       " ('HIV-1_63_02A', 13),\n",
       " ('HIV-1_F2', 11),\n",
       " ('HIV-1_N', 11),\n",
       " ('HIV-1_85_BC', 11),\n",
       " ('HIV-1_H', 10),\n",
       " ('HIV-1_13_cpx', 10),\n",
       " ('HIV-1_0206', 9),\n",
       " ('HIV-1_59_01B', 9),\n",
       " ('HIV-1_64_BC', 9),\n",
       " ('HIV-1_33_01B', 8),\n",
       " ('HIV-1_15_01B', 8),\n",
       " ('HIV-1_46_BF', 8),\n",
       " ('HIV-1_A', 8),\n",
       " ('HIV-1_55_01B', 8),\n",
       " ('HIV-1_02A3', 7),\n",
       " ('HIV-1_69_01B', 7),\n",
       " ('HIV-1_J', 7),\n",
       " ('HIV-1_17_BF', 7),\n",
       " ('HIV-1_57_BC', 7),\n",
       " ('HIV-1_51_01B', 7),\n",
       " ('HIV-1_02D', 6),\n",
       " ('HIV-1_04_cpx', 6),\n",
       " ('HIV-1_0209', 6),\n",
       " ('HIV-1_18_cpx', 6),\n",
       " ('HIV-1_29_BF', 6),\n",
       " ('HIV-1_24_BG', 6),\n",
       " ('HIV-1_0222', 6),\n",
       " ('HIV-1_02A6', 6),\n",
       " ('HIV-1_65_cpx', 6),\n",
       " ('HIV-1_58_01B', 6),\n",
       " ('HIV-1_90_BF1', 6),\n",
       " ('HIV-1_94_cpx', 6),\n",
       " ('HIV-1_CU', 5),\n",
       " ('HIV-1_A1U', 5),\n",
       " ('HIV-1_A1G', 5),\n",
       " ('HIV-1_09_cpx', 5),\n",
       " ('HIV-1_25_cpx', 5),\n",
       " ('HIV-1_19_cpx', 5),\n",
       " ('HIV-1_28_BF', 5),\n",
       " ('HIV-1_45_cpx', 5),\n",
       " ('HIV-1_60_BC', 5),\n",
       " ('HIV-1_43_02G', 5),\n",
       " ('HIV-1_47_BF', 5),\n",
       " ('HIV-1_P', 5),\n",
       " ('HIV-1_A1B', 5),\n",
       " ('HIV-1_50_A1D', 5),\n",
       " ('HIV-1_72_BF1', 5),\n",
       " ('HIV-1_70_BF1', 5),\n",
       " ('HIV-1_02F2', 5),\n",
       " ('HIV-1_92_C2U', 5),\n",
       " ('HIV-1_05_DF', 4),\n",
       " ('HIV-1_49_cpx', 4),\n",
       " ('HIV-1_03_AB', 4),\n",
       " ('HIV-1_A2', 4),\n",
       " ('HIV-1_16_A2D', 4),\n",
       " ('HIV-1_37_cpx', 4),\n",
       " ('HIV-1_02O', 4),\n",
       " ('HIV-1_27_cpx', 4),\n",
       " ('HIV-1_20_BG', 4),\n",
       " ('HIV-1_53_01B', 4),\n",
       " ('HIV-1_BCF1', 4),\n",
       " ('HIV-1_40_BF', 4),\n",
       " ('HIV-1_38_BF1', 4),\n",
       " ('HIV-1_DG', 4),\n",
       " ('HIV-1_26_A5U', 4),\n",
       " ('HIV-1_56_cpx', 4),\n",
       " ('HIV-1_61_BC', 4),\n",
       " ('HIV-1_CF1', 4),\n",
       " ('HIV-1_77_cpx', 4),\n",
       " ('HIV-1_A1O', 4),\n",
       " ('HIV-1_103_01B', 4),\n",
       " ('HIV-1_L', 3),\n",
       " ('HIV-1_10_CD', 3),\n",
       " ('HIV-1_21_A2D', 3),\n",
       " ('HIV-1_A1A2D', 3),\n",
       " ('HIV-1_K', 3),\n",
       " ('HIV-1_A4', 3),\n",
       " ('HIV-1_89_BF', 3),\n",
       " ('HIV-1_0102A', 3),\n",
       " ('HIV-1_A1F2', 3),\n",
       " ('HIV-1_A3', 3),\n",
       " ('HIV-1_32_06A6', 3),\n",
       " ('HIV-1_44_BF', 3),\n",
       " ('HIV-1_31_BC', 3),\n",
       " ('HIV-1_0263', 3),\n",
       " ('HIV-1_52_01B', 3),\n",
       " ('HIV-1_36_cpx', 3),\n",
       " ('HIV-1_34_01B', 3),\n",
       " ('HIV-1_54_01B', 3),\n",
       " ('HIV-1_39_BF', 3),\n",
       " ('HIV-1_A1A2CD', 3),\n",
       " ('HIV-1_26C', 3),\n",
       " ('HIV-1_48_01B', 3),\n",
       " ('HIV-1_DO', 3),\n",
       " ('HIV-1_A1H', 3),\n",
       " ('HIV-1_75_BF', 3),\n",
       " ('HIV-1_66_BF1', 3),\n",
       " ('HIV-1_68_01B', 3),\n",
       " ('HIV-1_62_BC', 3),\n",
       " ('HIV-1_88_BC', 3),\n",
       " ('HIV-1_87_cpx', 3),\n",
       " ('HIV-1_96_cpx', 3),\n",
       " ('HIV-1_74_01B', 3),\n",
       " ('HIV-1_41_CD', 3),\n",
       " ('HIV-1_79_0107', 3),\n",
       " ('HIV-1_93_cpx', 3),\n",
       " ('HIV-1_84_A1D', 3),\n",
       " ('HIV-1_0102', 3),\n",
       " ('HIV-1_95_02B', 3),\n",
       " ('HIV-1_100_01C', 3),\n",
       " ('HIV-1_AB', 3),\n",
       " ('HIV-1_A2C', 2),\n",
       " ('HIV-1_0708', 2),\n",
       " ('HIV-1_AC', 2),\n",
       " ('HIV-1_GKU', 2),\n",
       " ('HIV-1_AF2', 2),\n",
       " ('HIV-1_AHJU', 2),\n",
       " ('HIV-1_AGU', 2),\n",
       " ('HIV-1_73_BG', 2),\n",
       " ('HIV-1_23_BG', 2),\n",
       " ('HIV-1_07B', 2),\n",
       " ('HIV-1_A1CG', 2),\n",
       " ('HIV-1_02U', 2),\n",
       " ('HIV-1_F1F2', 2),\n",
       " ('HIV-1_02A1G', 2),\n",
       " ('HIV-1_02BG', 2),\n",
       " ('HIV-1_A1BD', 2),\n",
       " ('HIV-1_67_01B', 2),\n",
       " ('HIV-1_0108', 2),\n",
       " ('HIV-1_F2O', 2),\n",
       " ('HIV-1_32A6', 2),\n",
       " ('HIV-1_02A1F2', 2),\n",
       " ('HIV-1_A1A2C', 2),\n",
       " ('HIV-1_A1A2', 2),\n",
       " ('HIV-1_GK', 2),\n",
       " ('HIV-1_A1BG', 2),\n",
       " ('HIV-1_80_0107', 2),\n",
       " ('HIV-1_99_BF', 2),\n",
       " ('HIV-1_81_cpx', 2),\n",
       " ('HIV-1_01F1G', 2),\n",
       " ('HIV-1_102_0107', 2),\n",
       " ('HIV-1_76_01B', 2),\n",
       " ('HIV-1_DF1', 2),\n",
       " ('HIV-1_02AG', 2),\n",
       " ('HIV-1_A6B', 2),\n",
       " ('HIV-1_06A3', 2),\n",
       " ('HIV-1_A1GHU', 1),\n",
       " ('HIV-1_F2KU', 1),\n",
       " ('HIV-1_A2G', 1),\n",
       " ('HIV-1_AF2G', 1),\n",
       " ('HIV-1_A1CDGKU', 1),\n",
       " ('HIV-1_A1DHK', 1),\n",
       " ('HIV-1_02C', 1),\n",
       " ('HIV-1_06A1', 1),\n",
       " ('HIV-1_02GK', 1),\n",
       " ('HIV-1_22A1U', 1),\n",
       " ('HIV-1_0122F', 1),\n",
       " ('HIV-1_22DU', 1),\n",
       " ('HIV-1_01ADF2', 1),\n",
       " ('HIV-1_1819', 1),\n",
       " ('HIV-1_DJ', 1),\n",
       " ('HIV-1_0225', 1),\n",
       " ('HIV-1_AKU', 1),\n",
       " ('HIV-1_A2CD', 1),\n",
       " ('HIV-1_01A1A6', 1),\n",
       " ('HIV-1_DF1G', 1),\n",
       " ('HIV-1_26CU', 1),\n",
       " ('HIV-1_0213', 1),\n",
       " ('HIV-1_BF1G', 1),\n",
       " ('HIV-1_0102A1', 1),\n",
       " ('HIV-1_38_BF', 1),\n",
       " ('HIV-1_01F2G', 1),\n",
       " ('HIV-1_02F2G', 1),\n",
       " ('HIV-1_02BD', 1),\n",
       " ('HIV-1_A1DG', 1),\n",
       " ('HIV-1_01A1G', 1),\n",
       " ('HIV-1_32G', 1),\n",
       " ('HIV-1_A1K', 1),\n",
       " ('HIV-1_11A1', 1),\n",
       " ('HIV-1_01A1F2', 1),\n",
       " ('HIV-1_02H', 1),\n",
       " ('HIV-1_JU', 1),\n",
       " ('HIV-1_UO', 1),\n",
       " ('HIV-1_A1GH', 1),\n",
       " ('HIV-1_BCG', 1),\n",
       " ('HIV-1_14F1', 1),\n",
       " ('HIV-1_50B', 1),\n",
       " ('HIV-1_02BF1', 1),\n",
       " ('HIV-1_ACU', 1),\n",
       " ('HIV-1_98_06B', 1),\n",
       " ('HIV-1_AU', 1),\n",
       " ('HIV-1_06G', 1),\n",
       " ('HIV-1_AJ', 1),\n",
       " ('HIV-1_ADU', 1),\n",
       " ('HIV-1_02F2U', 1),\n",
       " ('HIV-1_BF', 1),\n",
       " ('HIV-1_01D', 1),\n",
       " ('HIV-1_01G', 1),\n",
       " ('HIV-1_A1A2DG', 1),\n",
       " ('HIV-1_03A', 1),\n",
       " ('HIV-1_22F2', 1),\n",
       " ('HIV-1_AH', 1),\n",
       " ('HIV-1_A1DK', 1)]"
      ]
     },
     "execution_count": 57,
     "metadata": {},
     "output_type": "execute_result"
    }
   ],
   "source": [
    "labels_sorted"
   ]
  },
  {
   "cell_type": "code",
   "execution_count": 54,
   "metadata": {},
   "outputs": [],
   "source": [
    "labels_combine = combine_labels(labels_sorted)"
   ]
  },
  {
   "cell_type": "code",
   "execution_count": 55,
   "metadata": {},
   "outputs": [
    {
     "data": {
      "text/plain": [
       "[('HIV-1_B', 5703),\n",
       " ('HIV-1_C', 2077),\n",
       " ('HIV-1_AE', 1425),\n",
       " ('HIV-1_-', 544),\n",
       " ('HIV-1_A1', 497),\n",
       " ('HIV-1_01B', 288),\n",
       " ('HIV-1_BC', 212),\n",
       " ('HIV-1_BF1', 179),\n",
       " ('HIV-1_AG', 160),\n",
       " ('HIV-1_cpx', 127),\n",
       " ('HIV-1_A6', 117),\n",
       " ('HIV-1_AD', 116),\n",
       " ('HIV-1_A1C', 111),\n",
       " ('HIV-1_A1D', 102),\n",
       " ('HIV-1_G', 95),\n",
       " ('HIV-1_D', 86),\n",
       " ('HIV-1_BF', 82),\n",
       " ('HIV-1_F1', 75),\n",
       " ('HIV-1_CD', 67),\n",
       " ('HIV-1_A1CD', 62),\n",
       " ('HIV-1_O', 57),\n",
       " ('HIV-1_0107', 56),\n",
       " ('HIV-1_01BC', 50),\n",
       " ('HIV-1_BG', 41),\n",
       " ('HIV-1_02A', 32),\n",
       " ('HIV-1_02A1', 26),\n",
       " ('HIV-1_ACD', 22),\n",
       " ('HIV-1_01C', 22),\n",
       " ('HIV-1_U', 21),\n",
       " ('HIV-1_02G', 20),\n",
       " ('HIV-1_01A1', 18),\n",
       " ('HIV-1_02B', 16),\n",
       " ('HIV-1_F2', 11),\n",
       " ('HIV-1_N', 11),\n",
       " ('HIV-1_H', 10),\n",
       " ('HIV-1_0206', 9),\n",
       " ('HIV-1_A', 8),\n",
       " ('HIV-1_02A3', 7),\n",
       " ('HIV-1_J', 7),\n",
       " ('HIV-1_AB', 7),\n",
       " ('HIV-1_A2D', 7),\n",
       " ('HIV-1_02D', 6),\n",
       " ('HIV-1_0209', 6),\n",
       " ('HIV-1_0222', 6),\n",
       " ('HIV-1_02A6', 6),\n",
       " ('HIV-1_CU', 5),\n",
       " ('HIV-1_A1U', 5),\n",
       " ('HIV-1_A1G', 5),\n",
       " ('HIV-1_P', 5),\n",
       " ('HIV-1_A1B', 5),\n",
       " ('HIV-1_02F2', 5),\n",
       " ('HIV-1_C2U', 5),\n",
       " ('HIV-1_DF', 4),\n",
       " ('HIV-1_A2', 4),\n",
       " ('HIV-1_02O', 4),\n",
       " ('HIV-1_BCF1', 4),\n",
       " ('HIV-1_DG', 4),\n",
       " ('HIV-1_A5U', 4),\n",
       " ('HIV-1_CF1', 4),\n",
       " ('HIV-1_A1O', 4),\n",
       " ('HIV-1_L', 3),\n",
       " ('HIV-1_A1A2D', 3),\n",
       " ('HIV-1_K', 3),\n",
       " ('HIV-1_A4', 3),\n",
       " ('HIV-1_0102A', 3),\n",
       " ('HIV-1_A1F2', 3),\n",
       " ('HIV-1_A3', 3),\n",
       " ('HIV-1_06A6', 3),\n",
       " ('HIV-1_0263', 3),\n",
       " ('HIV-1_A1A2CD', 3),\n",
       " ('HIV-1_26C', 3),\n",
       " ('HIV-1_DO', 3),\n",
       " ('HIV-1_A1H', 3),\n",
       " ('HIV-1_0102', 3),\n",
       " ('HIV-1_A2C', 2),\n",
       " ('HIV-1_0708', 2),\n",
       " ('HIV-1_AC', 2),\n",
       " ('HIV-1_GKU', 2),\n",
       " ('HIV-1_AF2', 2),\n",
       " ('HIV-1_AHJU', 2),\n",
       " ('HIV-1_AGU', 2),\n",
       " ('HIV-1_07B', 2),\n",
       " ('HIV-1_A1CG', 2),\n",
       " ('HIV-1_02U', 2),\n",
       " ('HIV-1_F1F2', 2),\n",
       " ('HIV-1_02A1G', 2),\n",
       " ('HIV-1_02BG', 2),\n",
       " ('HIV-1_A1BD', 2),\n",
       " ('HIV-1_0108', 2),\n",
       " ('HIV-1_F2O', 2),\n",
       " ('HIV-1_32A6', 2),\n",
       " ('HIV-1_02A1F2', 2),\n",
       " ('HIV-1_A1A2C', 2),\n",
       " ('HIV-1_A1A2', 2),\n",
       " ('HIV-1_GK', 2),\n",
       " ('HIV-1_A1BG', 2),\n",
       " ('HIV-1_01F1G', 2),\n",
       " ('HIV-1_DF1', 2),\n",
       " ('HIV-1_02AG', 2),\n",
       " ('HIV-1_A6B', 2),\n",
       " ('HIV-1_06A3', 2),\n",
       " ('HIV-1_A1GHU', 1),\n",
       " ('HIV-1_F2KU', 1),\n",
       " ('HIV-1_A2G', 1),\n",
       " ('HIV-1_AF2G', 1),\n",
       " ('HIV-1_A1CDGKU', 1),\n",
       " ('HIV-1_A1DHK', 1),\n",
       " ('HIV-1_02C', 1),\n",
       " ('HIV-1_06A1', 1),\n",
       " ('HIV-1_02GK', 1),\n",
       " ('HIV-1_22A1U', 1),\n",
       " ('HIV-1_0122F', 1),\n",
       " ('HIV-1_22DU', 1),\n",
       " ('HIV-1_01ADF2', 1),\n",
       " ('HIV-1_1819', 1),\n",
       " ('HIV-1_DJ', 1),\n",
       " ('HIV-1_0225', 1),\n",
       " ('HIV-1_AKU', 1),\n",
       " ('HIV-1_A2CD', 1),\n",
       " ('HIV-1_01A1A6', 1),\n",
       " ('HIV-1_DF1G', 1),\n",
       " ('HIV-1_26CU', 1),\n",
       " ('HIV-1_0213', 1),\n",
       " ('HIV-1_BF1G', 1),\n",
       " ('HIV-1_0102A1', 1),\n",
       " ('HIV-1_01F2G', 1),\n",
       " ('HIV-1_02F2G', 1),\n",
       " ('HIV-1_02BD', 1),\n",
       " ('HIV-1_A1DG', 1),\n",
       " ('HIV-1_01A1G', 1),\n",
       " ('HIV-1_32G', 1),\n",
       " ('HIV-1_A1K', 1),\n",
       " ('HIV-1_11A1', 1),\n",
       " ('HIV-1_01A1F2', 1),\n",
       " ('HIV-1_02H', 1),\n",
       " ('HIV-1_JU', 1),\n",
       " ('HIV-1_UO', 1),\n",
       " ('HIV-1_A1GH', 1),\n",
       " ('HIV-1_BCG', 1),\n",
       " ('HIV-1_14F1', 1),\n",
       " ('HIV-1_50B', 1),\n",
       " ('HIV-1_02BF1', 1),\n",
       " ('HIV-1_ACU', 1),\n",
       " ('HIV-1_06B', 1),\n",
       " ('HIV-1_AU', 1),\n",
       " ('HIV-1_06G', 1),\n",
       " ('HIV-1_AJ', 1),\n",
       " ('HIV-1_ADU', 1),\n",
       " ('HIV-1_02F2U', 1),\n",
       " ('HIV-1_01D', 1),\n",
       " ('HIV-1_01G', 1),\n",
       " ('HIV-1_A1A2DG', 1),\n",
       " ('HIV-1_03A', 1),\n",
       " ('HIV-1_22F2', 1),\n",
       " ('HIV-1_AH', 1),\n",
       " ('HIV-1_A1DK', 1)]"
      ]
     },
     "execution_count": 55,
     "metadata": {},
     "output_type": "execute_result"
    }
   ],
   "source": [
    "labels_combine"
   ]
  },
  {
   "cell_type": "code",
   "execution_count": 56,
   "metadata": {},
   "outputs": [
    {
     "data": {
      "text/plain": [
       "242"
      ]
     },
     "execution_count": 56,
     "metadata": {},
     "output_type": "execute_result"
    }
   ],
   "source": [
    "len(labels_sorted)"
   ]
  },
  {
   "cell_type": "code",
   "execution_count": 59,
   "metadata": {},
   "outputs": [
    {
     "data": {
      "text/plain": [
       "156"
      ]
     },
     "execution_count": 59,
     "metadata": {},
     "output_type": "execute_result"
    }
   ],
   "source": [
    "len(labels_combine)"
   ]
  },
  {
   "cell_type": "code",
   "execution_count": 61,
   "metadata": {},
   "outputs": [],
   "source": [
    "labels_lg10 = get_lgn(labels_combine,10)"
   ]
  },
  {
   "cell_type": "code",
   "execution_count": 63,
   "metadata": {},
   "outputs": [
    {
     "data": {
      "text/plain": [
       "35"
      ]
     },
     "execution_count": 63,
     "metadata": {},
     "output_type": "execute_result"
    }
   ],
   "source": [
    "len(labels_lg10)"
   ]
  },
  {
   "cell_type": "code",
   "execution_count": 67,
   "metadata": {},
   "outputs": [],
   "source": [
    "labels_lg10_nocom = get_lgn(labels_sorted,18)"
   ]
  },
  {
   "cell_type": "code",
   "execution_count": 68,
   "metadata": {},
   "outputs": [
    {
     "data": {
      "text/plain": [
       "31"
      ]
     },
     "execution_count": 68,
     "metadata": {},
     "output_type": "execute_result"
    }
   ],
   "source": [
    "len(labels_lg10_nocom)"
   ]
  },
  {
   "cell_type": "code",
   "execution_count": 69,
   "metadata": {},
   "outputs": [
    {
     "data": {
      "text/plain": [
       "[('HIV-1_B', 5703),\n",
       " ('HIV-1_C', 2077),\n",
       " ('HIV-1_01_AE', 1425),\n",
       " ('HIV-1_-', 544),\n",
       " ('HIV-1_A1', 497),\n",
       " ('HIV-1_01B', 205),\n",
       " ('HIV-1_02_AG', 160),\n",
       " ('HIV-1_BF1', 143),\n",
       " ('HIV-1_A6', 117),\n",
       " ('HIV-1_A1C', 111),\n",
       " ('HIV-1_G', 95),\n",
       " ('HIV-1_A1D', 94),\n",
       " ('HIV-1_AD', 94),\n",
       " ('HIV-1_BC', 91),\n",
       " ('HIV-1_D', 86),\n",
       " ('HIV-1_F1', 75),\n",
       " ('HIV-1_A1CD', 62),\n",
       " ('HIV-1_CD', 61),\n",
       " ('HIV-1_O', 57),\n",
       " ('HIV-1_01BC', 50),\n",
       " ('HIV-1_0107', 49),\n",
       " ('HIV-1_07_BC', 41),\n",
       " ('HIV-1_08_BC', 35),\n",
       " ('HIV-1_02A1', 26),\n",
       " ('HIV-1_11_cpx', 25),\n",
       " ('HIV-1_35_AD', 22),\n",
       " ('HIV-1_ACD', 22),\n",
       " ('HIV-1_U', 21),\n",
       " ('HIV-1_01C', 19),\n",
       " ('HIV-1_02A', 19),\n",
       " ('HIV-1_22_01A1', 18)]"
      ]
     },
     "execution_count": 69,
     "metadata": {},
     "output_type": "execute_result"
    }
   ],
   "source": [
    "labels_lg10_nocom"
   ]
  },
  {
   "cell_type": "code",
   "execution_count": 62,
   "metadata": {
    "scrolled": true
   },
   "outputs": [
    {
     "data": {
      "text/plain": [
       "[('HIV-1_B', 5703),\n",
       " ('HIV-1_C', 2077),\n",
       " ('HIV-1_AE', 1425),\n",
       " ('HIV-1_-', 544),\n",
       " ('HIV-1_A1', 497),\n",
       " ('HIV-1_01B', 288),\n",
       " ('HIV-1_BC', 212),\n",
       " ('HIV-1_BF1', 179),\n",
       " ('HIV-1_AG', 160),\n",
       " ('HIV-1_cpx', 127),\n",
       " ('HIV-1_A6', 117),\n",
       " ('HIV-1_AD', 116),\n",
       " ('HIV-1_A1C', 111),\n",
       " ('HIV-1_A1D', 102),\n",
       " ('HIV-1_G', 95),\n",
       " ('HIV-1_D', 86),\n",
       " ('HIV-1_BF', 82),\n",
       " ('HIV-1_F1', 75),\n",
       " ('HIV-1_CD', 67),\n",
       " ('HIV-1_A1CD', 62),\n",
       " ('HIV-1_O', 57),\n",
       " ('HIV-1_0107', 56),\n",
       " ('HIV-1_01BC', 50),\n",
       " ('HIV-1_BG', 41),\n",
       " ('HIV-1_02A', 32),\n",
       " ('HIV-1_02A1', 26),\n",
       " ('HIV-1_ACD', 22),\n",
       " ('HIV-1_01C', 22),\n",
       " ('HIV-1_U', 21),\n",
       " ('HIV-1_02G', 20),\n",
       " ('HIV-1_01A1', 18),\n",
       " ('HIV-1_02B', 16),\n",
       " ('HIV-1_F2', 11),\n",
       " ('HIV-1_N', 11),\n",
       " ('HIV-1_H', 10)]"
      ]
     },
     "execution_count": 62,
     "metadata": {},
     "output_type": "execute_result"
    }
   ],
   "source": [
    "labels_lg10"
   ]
  },
  {
   "cell_type": "code",
   "execution_count": 29,
   "metadata": {},
   "outputs": [
    {
     "data": {
      "text/plain": [
       "'HIV-1_B'"
      ]
     },
     "execution_count": 29,
     "metadata": {},
     "output_type": "execute_result"
    }
   ],
   "source": [
    "labels[9]"
   ]
  },
  {
   "cell_type": "code",
   "execution_count": 25,
   "metadata": {},
   "outputs": [
    {
     "data": {
      "text/plain": [
       "9680"
      ]
     },
     "execution_count": 25,
     "metadata": {},
     "output_type": "execute_result"
    }
   ],
   "source": [
    "len(seq)"
   ]
  },
  {
   "cell_type": "code",
   "execution_count": 26,
   "metadata": {},
   "outputs": [
    {
     "data": {
      "text/plain": [
       "'HIV-1_C'"
      ]
     },
     "execution_count": 26,
     "metadata": {},
     "output_type": "execute_result"
    }
   ],
   "source": [
    "label_id"
   ]
  },
  {
   "cell_type": "code",
   "execution_count": 9,
   "metadata": {},
   "outputs": [],
   "source": [
    "ls = label_id.split('.')"
   ]
  },
  {
   "cell_type": "code",
   "execution_count": 10,
   "metadata": {},
   "outputs": [
    {
     "data": {
      "text/plain": [
       "['C', 'IN', '1993', '93IN101', 'HIV-1']"
      ]
     },
     "execution_count": 10,
     "metadata": {},
     "output_type": "execute_result"
    }
   ],
   "source": [
    "ls"
   ]
  },
  {
   "cell_type": "code",
   "execution_count": 18,
   "metadata": {},
   "outputs": [
    {
     "data": {
      "text/plain": [
       "'>HIV-1_C'"
      ]
     },
     "execution_count": 18,
     "metadata": {},
     "output_type": "execute_result"
    }
   ],
   "source": [
    "'>' + '_'.join((ls[-1], ls[0]))"
   ]
  },
  {
   "cell_type": "code",
   "execution_count": null,
   "metadata": {},
   "outputs": [],
   "source": [
    "'_'.join((labe))"
   ]
  },
  {
   "cell_type": "code",
   "execution_count": 10,
   "metadata": {},
   "outputs": [
    {
     "data": {
      "text/plain": [
       "Bio.Seq.Seq"
      ]
     },
     "execution_count": 10,
     "metadata": {},
     "output_type": "execute_result"
    }
   ],
   "source": [
    "type(seq)"
   ]
  },
  {
   "cell_type": "code",
   "execution_count": 11,
   "metadata": {},
   "outputs": [],
   "source": [
    "seq_str = str(seq)"
   ]
  },
  {
   "cell_type": "code",
   "execution_count": 12,
   "metadata": {},
   "outputs": [
    {
     "data": {
      "text/plain": [
       "str"
      ]
     },
     "execution_count": 12,
     "metadata": {},
     "output_type": "execute_result"
    }
   ],
   "source": [
    "type(seq_str)"
   ]
  },
  {
   "cell_type": "code",
   "execution_count": 41,
   "metadata": {},
   "outputs": [],
   "source": [
    "a = np.array([1,2,3,4])"
   ]
  },
  {
   "cell_type": "code",
   "execution_count": 42,
   "metadata": {},
   "outputs": [],
   "source": [
    "b = np.array([5,6,7,8])"
   ]
  },
  {
   "cell_type": "code",
   "execution_count": 43,
   "metadata": {},
   "outputs": [
    {
     "data": {
      "text/plain": [
       "array([1, 2, 3, 4, 5, 6, 7, 8])"
      ]
     },
     "execution_count": 43,
     "metadata": {},
     "output_type": "execute_result"
    }
   ],
   "source": [
    "np.hstack((a,b))"
   ]
  },
  {
   "cell_type": "code",
   "execution_count": 44,
   "metadata": {},
   "outputs": [],
   "source": [
    "np.hstack?"
   ]
  },
  {
   "cell_type": "code",
   "execution_count": 8,
   "metadata": {},
   "outputs": [
    {
     "data": {
      "text/plain": [
       "'AA'"
      ]
     },
     "execution_count": 8,
     "metadata": {},
     "output_type": "execute_result"
    }
   ],
   "source": [
    "a.upper()"
   ]
  },
  {
   "cell_type": "code",
   "execution_count": 14,
   "metadata": {},
   "outputs": [],
   "source": [
    "seq_hiv  = seq_str.replace('-','')"
   ]
  },
  {
   "cell_type": "code",
   "execution_count": 16,
   "metadata": {},
   "outputs": [
    {
     "data": {
      "text/plain": [
       "9680"
      ]
     },
     "execution_count": 16,
     "metadata": {},
     "output_type": "execute_result"
    }
   ],
   "source": [
    "len(seq_hiv)"
   ]
  },
  {
   "cell_type": "code",
   "execution_count": 2,
   "metadata": {},
   "outputs": [],
   "source": [
    "from torch.utils.data import Dataset, DataLoader, TensorDataset"
   ]
  },
  {
   "cell_type": "code",
   "execution_count": 3,
   "metadata": {},
   "outputs": [],
   "source": [
    "import torch"
   ]
  },
  {
   "cell_type": "code",
   "execution_count": 30,
   "metadata": {},
   "outputs": [],
   "source": [
    "from collections import defaultdict"
   ]
  },
  {
   "cell_type": "code",
   "execution_count": 35,
   "metadata": {},
   "outputs": [],
   "source": [
    "from sklearn.metrics import classification_report, confusion_matrix"
   ]
  },
  {
   "cell_type": "code",
   "execution_count": 36,
   "metadata": {},
   "outputs": [],
   "source": [
    " classification_report?"
   ]
  },
  {
   "cell_type": "code",
   "execution_count": 9,
   "metadata": {},
   "outputs": [],
   "source": [
    "import time\n",
    "import datetime\n",
    "\n",
    "def echo(msg):\n",
    "        print(\"[%s] %s\" % (datetime.datetime.now().strftime('%Y-%m-%d %H:%M:%S'), str(msg)))\n",
    "\n",
    "def read_dic(dic_file):\n",
    "    labels_dic = {}\n",
    "    with(open(dic_file, 'r')) as fh:\n",
    "        for line in fh:\n",
    "            label, label_id = line.strip().split()\n",
    "            labels_dic[label_id] = label\n",
    "       \n",
    "    return labels_dic"
   ]
  },
  {
   "cell_type": "code",
   "execution_count": 10,
   "metadata": {},
   "outputs": [],
   "source": [
    "y_true = './y_true.npy'\n",
    "y_pred = './y_pred.npy'\n",
    "labels_dict = './labels_dict.txt'"
   ]
  },
  {
   "cell_type": "code",
   "execution_count": 11,
   "metadata": {},
   "outputs": [],
   "source": [
    "y_true = np.load(y_true)\n",
    "y_pred = np.load(y_pred)\n",
    "\n",
    "labels_dict = read_dic(labels_dict)"
   ]
  },
  {
   "cell_type": "code",
   "execution_count": 12,
   "metadata": {},
   "outputs": [],
   "source": [
    "y_true = [labels_dict[str(i)] for i in y_true]\n",
    "y_pred = [labels_dict[str(j)] for j in y_pred]\n",
    "c_names = np.unique(y_true)"
   ]
  },
  {
   "cell_type": "code",
   "execution_count": 13,
   "metadata": {},
   "outputs": [
    {
     "name": "stdout",
     "output_type": "stream",
     "text": [
      "['HIV1_01B' 'HIV1_BC' 'HIV1_cpx']\n"
     ]
    }
   ],
   "source": [
    "print(c_names)\n",
    "\n",
    "conf_matrix = confusion_matrix(y_true, y_pred,labels=c_names)\n",
    "class_report = classification_report(y_true,y_pred)"
   ]
  },
  {
   "cell_type": "code",
   "execution_count": 14,
   "metadata": {},
   "outputs": [
    {
     "data": {
      "text/plain": [
       "array([[2, 0, 1],\n",
       "       [1, 1, 0],\n",
       "       [0, 1, 2]], dtype=int64)"
      ]
     },
     "execution_count": 14,
     "metadata": {},
     "output_type": "execute_result"
    }
   ],
   "source": [
    "conf_matrix"
   ]
  },
  {
   "cell_type": "code",
   "execution_count": 16,
   "metadata": {},
   "outputs": [
    {
     "name": "stdout",
     "output_type": "stream",
     "text": [
      "              precision    recall  f1-score   support\n",
      "\n",
      "    HIV1_01B       0.67      0.67      0.67         3\n",
      "     HIV1_BC       0.50      0.50      0.50         2\n",
      "    HIV1_cpx       0.67      0.67      0.67         3\n",
      "\n",
      "    accuracy                           0.62         8\n",
      "   macro avg       0.61      0.61      0.61         8\n",
      "weighted avg       0.62      0.62      0.62         8\n",
      "\n"
     ]
    }
   ],
   "source": [
    "print(class_report)"
   ]
  },
  {
   "cell_type": "code",
   "execution_count": null,
   "metadata": {},
   "outputs": [],
   "source": [
    "def main(parse):\n",
    "    y_true = parse.t \n",
    "    y_pred = parse.p\n",
    "    labels_dict = parse.d \n",
    "\n",
    "    y_true = np.load(y_true)\n",
    "    y_pred = np.load(y_pred)\n",
    "\n",
    "    labels_dict = read_dic(labels_dict)\n",
    "\n",
    "    y_true = [labels_dict[str(i)] for i in y_true]\n",
    "    y_pred = [labels_dict[str(j)] for j in y_pred]\n",
    "    c_names = np.unique(y_true)\n",
    "\n",
    "print(c_names)\n",
    "\n",
    "conf_matrix = confusion_matrix(y_true, y_pred,labels=c_names)\n",
    "class_report = classification_report(y_true,y_pred)\n",
    "\n",
    "echo(\"The confusion matrix is: \")\n",
    "print(conf_matrix)\n",
    "echo(\"The classification report is: \")\n",
    "print(class_report)\n",
    "echo(\"Done\")"
   ]
  },
  {
   "cell_type": "code",
   "execution_count": 28,
   "metadata": {},
   "outputs": [],
   "source": [
    "def get_sample_weights(labelsFile):\n",
    "    labels = np.load(labelsFile)\n",
    "\n",
    "    labels_dict = defaultdict(list)\n",
    "\n",
    "    for i, v in enumerate(labels):\n",
    "        labels_dict[v].append(i)\n",
    "\n",
    "    labels_num = [(k,len(v)) for k, v in labels_dict.items()]\n",
    "\n",
    "    labels_num_sort = sorted(labels_num, key=lambda x:x[1], reverse=True)\n",
    "    \n",
    "    return labels_num_sort, len(labels)"
   ]
  },
  {
   "cell_type": "code",
   "execution_count": 33,
   "metadata": {},
   "outputs": [],
   "source": [
    "labelsFile = './trainData/30mer_500_labels.npy'"
   ]
  },
  {
   "cell_type": "code",
   "execution_count": 36,
   "metadata": {},
   "outputs": [],
   "source": [
    "labels,num = get_sample_weights(labelsFile)"
   ]
  },
  {
   "cell_type": "code",
   "execution_count": 35,
   "metadata": {},
   "outputs": [
    {
     "data": {
      "text/plain": [
       "([('HIV1_cpx', 1538),\n",
       "  ('HIV1_01B', 1063),\n",
       "  ('HIV1_BC', 822),\n",
       "  ('HIV1_BF', 577),\n",
       "  ('HIV1_BF1', 511),\n",
       "  ('HIV1_B', 386),\n",
       "  ('HIV1_C', 371),\n",
       "  ('HIV1_D', 274),\n",
       "  ('HIV1_AG', 263),\n",
       "  ('HIV1_AE', 261),\n",
       "  ('HIV1_G', 250),\n",
       "  ('HIV1_A1', 247),\n",
       "  ('HIV1_BG', 242),\n",
       "  ('HIV1_F1', 241),\n",
       "  ('HIV1_O', 241),\n",
       "  ('HIV1_H', 125),\n",
       "  ('HIV1_02A1', 125),\n",
       "  ('HIV1_F2', 102),\n",
       "  ('HIV1_N', 88),\n",
       "  ('HIV1_A2D', 86),\n",
       "  ('HIV1_A1D', 85),\n",
       "  ('HIV1_A6', 74),\n",
       "  ('HIV1_CPZ', 74),\n",
       "  ('HIV1_J', 71),\n",
       "  ('HIV1_CD', 69),\n",
       "  ('HIV1_AD', 68),\n",
       "  ('HIV1_AU', 56),\n",
       "  ('HIV1_C2U', 55),\n",
       "  ('HIV1_02G', 54),\n",
       "  ('HIV1_AB', 53),\n",
       "  ('HIV1_0107', 53),\n",
       "  ('HIV1_A2', 52),\n",
       "  ('HIV1_DF', 52),\n",
       "  ('HIV1_P', 37),\n",
       "  ('HIV1_GOR', 36),\n",
       "  ('HIV1_K', 34),\n",
       "  ('HIV1_06A1', 34),\n",
       "  ('HIV1_01A1', 33),\n",
       "  ('HIV1_A4', 19),\n",
       "  ('HIV1_A5U', 19),\n",
       "  ('HIV1_06A6', 18),\n",
       "  ('HIV1_02A', 18),\n",
       "  ('HIV1_A3', 17)],\n",
       " 8894)"
      ]
     },
     "execution_count": 35,
     "metadata": {},
     "output_type": "execute_result"
    }
   ],
   "source": [
    "labels"
   ]
  },
  {
   "cell_type": "code",
   "execution_count": 38,
   "metadata": {},
   "outputs": [
    {
     "data": {
      "text/plain": [
       "43"
      ]
     },
     "execution_count": 38,
     "metadata": {},
     "output_type": "execute_result"
    }
   ],
   "source": [
    "len(labels)"
   ]
  },
  {
   "cell_type": "code",
   "execution_count": 11,
   "metadata": {},
   "outputs": [],
   "source": [
    "labels2, num = get_sample_weights('./trainData/15mer_500_labels.npy')"
   ]
  },
  {
   "cell_type": "code",
   "execution_count": 13,
   "metadata": {},
   "outputs": [
    {
     "data": {
      "text/plain": [
       "8894"
      ]
     },
     "execution_count": 13,
     "metadata": {},
     "output_type": "execute_result"
    }
   ],
   "source": [
    "num"
   ]
  },
  {
   "cell_type": "code",
   "execution_count": 14,
   "metadata": {},
   "outputs": [
    {
     "data": {
      "text/plain": [
       "0.17292556779851587"
      ]
     },
     "execution_count": 14,
     "metadata": {},
     "output_type": "execute_result"
    }
   ],
   "source": [
    "1538/8894"
   ]
  },
  {
   "cell_type": "code",
   "execution_count": 12,
   "metadata": {
    "scrolled": true
   },
   "outputs": [
    {
     "data": {
      "text/plain": [
       "[('HIV1_cpx', 1538),\n",
       " ('HIV1_01B', 1063),\n",
       " ('HIV1_BC', 822),\n",
       " ('HIV1_BF', 577),\n",
       " ('HIV1_BF1', 511),\n",
       " ('HIV1_B', 386),\n",
       " ('HIV1_C', 371),\n",
       " ('HIV1_D', 274),\n",
       " ('HIV1_AG', 263),\n",
       " ('HIV1_AE', 261),\n",
       " ('HIV1_G', 250),\n",
       " ('HIV1_A1', 247),\n",
       " ('HIV1_BG', 242),\n",
       " ('HIV1_F1', 241),\n",
       " ('HIV1_O', 241),\n",
       " ('HIV1_H', 125),\n",
       " ('HIV1_02A1', 125),\n",
       " ('HIV1_F2', 102),\n",
       " ('HIV1_N', 88),\n",
       " ('HIV1_A2D', 86),\n",
       " ('HIV1_A1D', 85),\n",
       " ('HIV1_A6', 74),\n",
       " ('HIV1_CPZ', 74),\n",
       " ('HIV1_J', 71),\n",
       " ('HIV1_CD', 69),\n",
       " ('HIV1_AD', 68),\n",
       " ('HIV1_AU', 56),\n",
       " ('HIV1_C2U', 55),\n",
       " ('HIV1_02G', 54),\n",
       " ('HIV1_AB', 53),\n",
       " ('HIV1_0107', 53),\n",
       " ('HIV1_A2', 52),\n",
       " ('HIV1_DF', 52),\n",
       " ('HIV1_P', 37),\n",
       " ('HIV1_GOR', 36),\n",
       " ('HIV1_K', 34),\n",
       " ('HIV1_06A1', 34),\n",
       " ('HIV1_01A1', 33),\n",
       " ('HIV1_A4', 19),\n",
       " ('HIV1_A5U', 19),\n",
       " ('HIV1_06A6', 18),\n",
       " ('HIV1_02A', 18),\n",
       " ('HIV1_A3', 17)]"
      ]
     },
     "execution_count": 12,
     "metadata": {},
     "output_type": "execute_result"
    }
   ],
   "source": [
    "labels2"
   ]
  },
  {
   "cell_type": "code",
   "execution_count": 37,
   "metadata": {},
   "outputs": [],
   "source": [
    "a = np.load('./trainData/9mer_200_labels.npy')"
   ]
  },
  {
   "cell_type": "code",
   "execution_count": 41,
   "metadata": {},
   "outputs": [],
   "source": [
    "labels, num = get_sample_weights('./trainData/9mer_200_labels.npy')"
   ]
  },
  {
   "cell_type": "code",
   "execution_count": 45,
   "metadata": {},
   "outputs": [],
   "source": [
    "labels2 , num2 = get_sample_weights('./trainData/20mer_500_labels.npy')"
   ]
  },
  {
   "cell_type": "code",
   "execution_count": 46,
   "metadata": {},
   "outputs": [
    {
     "data": {
      "text/plain": [
       "8894"
      ]
     },
     "execution_count": 46,
     "metadata": {},
     "output_type": "execute_result"
    }
   ],
   "source": [
    "num2"
   ]
  },
  {
   "cell_type": "code",
   "execution_count": null,
   "metadata": {},
   "outputs": [],
   "source": []
  },
  {
   "cell_type": "code",
   "execution_count": 42,
   "metadata": {
    "scrolled": true
   },
   "outputs": [
    {
     "data": {
      "text/plain": [
       "22650"
      ]
     },
     "execution_count": 42,
     "metadata": {},
     "output_type": "execute_result"
    }
   ],
   "source": [
    "num"
   ]
  },
  {
   "cell_type": "code",
   "execution_count": 43,
   "metadata": {},
   "outputs": [
    {
     "data": {
      "text/plain": [
       "108"
      ]
     },
     "execution_count": 43,
     "metadata": {},
     "output_type": "execute_result"
    }
   ],
   "source": [
    "len(labels)"
   ]
  },
  {
   "cell_type": "code",
   "execution_count": 44,
   "metadata": {},
   "outputs": [
    {
     "data": {
      "text/plain": [
       "[('HIV1_B', 985),\n",
       " ('HIV1_C', 935),\n",
       " ('HIV1_D', 702),\n",
       " ('HIV1_02_AG', 670),\n",
       " ('HIV1_01_AE', 663),\n",
       " ('HIV1_G', 636),\n",
       " ('HIV1_A1', 626),\n",
       " ('HIV1_F1', 614),\n",
       " ('HIV1_O', 612),\n",
       " ('HIV1_83_cpx', 451),\n",
       " ('HIV1_85_BC', 398),\n",
       " ('HIV1_90_BF1', 388),\n",
       " ('HIV1_71_BF1', 349),\n",
       " ('HIV1_59_01B', 348),\n",
       " ('HIV1_69_01B', 323),\n",
       " ('HIV1_H', 318),\n",
       " ('HIV1_63_02A1', 317),\n",
       " ('HIV1_55_01B', 305),\n",
       " ('HIV1_64_BC', 266),\n",
       " ('HIV1_09_cpx', 262),\n",
       " ('HIV1_58_01B', 262),\n",
       " ('HIV1_F2', 258),\n",
       " ('HIV1_82_cpx', 246),\n",
       " ('HIV1_06_cpx', 239),\n",
       " ('HIV1_12_BF', 229),\n",
       " ('HIV1_N', 223),\n",
       " ('HIV1_25_cpx', 221),\n",
       " ('HIV1_57_BC', 220),\n",
       " ('HIV1_50_A1D', 219),\n",
       " ('HIV1_72_BF1', 217),\n",
       " ('HIV1_18_cpx', 211),\n",
       " ('HIV1_CPZ', 188),\n",
       " ('HIV1_08_BC', 188),\n",
       " ('HIV1_A6', 187),\n",
       " ('HIV1_45_cpx', 183),\n",
       " ('HIV1_04_cpx', 181),\n",
       " ('HIV1_J', 180),\n",
       " ('HIV1_40_BF', 180),\n",
       " ('HIV1_61_BC', 180),\n",
       " ('HIV1_65_cpx', 179),\n",
       " ('HIV1_33_01B', 178),\n",
       " ('HIV1_14_BG', 177),\n",
       " ('HIV1_07_BC', 177),\n",
       " ('HIV1_11_cpx', 177),\n",
       " ('HIV1_15_01B', 177),\n",
       " ('HIV1_94_cpx', 177),\n",
       " ('HIV1_38_BF1', 176),\n",
       " ('HIV1_29_BF', 175),\n",
       " ('HIV1_51_01B', 175),\n",
       " ('HIV1_17_BF', 174),\n",
       " ('HIV1_70_BF1', 173),\n",
       " ('HIV1_35_AD', 172),\n",
       " ('HIV1_56_cpx', 172),\n",
       " ('HIV1_53_01B', 170),\n",
       " ('HIV1_60_BC', 144),\n",
       " ('HIV1_26_AU', 141),\n",
       " ('HIV1_92_C2U', 139),\n",
       " ('HIV1_03_AB', 136),\n",
       " ('HIV1_42_BF', 135),\n",
       " ('HIV1_43_02G', 135),\n",
       " ('HIV1_46_BF', 135),\n",
       " ('HIV1_13_cpx', 134),\n",
       " ('HIV1_79_0107', 134),\n",
       " ('HIV1_93_cpx', 134),\n",
       " ('HIV1_A2', 133),\n",
       " ('HIV1_05_DF', 133),\n",
       " ('HIV1_10_CD', 133),\n",
       " ('HIV1_20_BG', 133),\n",
       " ('HIV1_24_BG', 133),\n",
       " ('HIV1_39_BF', 133),\n",
       " ('HIV1_62_BC', 133),\n",
       " ('HIV1_28_BF', 132),\n",
       " ('HIV1_31_BC', 132),\n",
       " ('HIV1_74_01B', 132),\n",
       " ('HIV1_21_A2D', 131),\n",
       " ('HIV1_88_BC', 131),\n",
       " ('HIV1_96_cpx', 131),\n",
       " ('HIV1_19_cpx', 130),\n",
       " ('HIV1_87_cpx', 130),\n",
       " ('HIV1_34_01B', 129),\n",
       " ('HIV1_54_01B', 129),\n",
       " ('HIV1_68_01B', 129),\n",
       " ('HIV1_86_BC', 129),\n",
       " ('HIV1_52_01B', 128),\n",
       " ('HIV1_78_cpx', 127),\n",
       " ('HIV1_49_cpx', 126),\n",
       " ('HIV1_P', 95),\n",
       " ('HIV1_27_cpx', 92),\n",
       " ('HIV1_GOR', 91),\n",
       " ('HIV1_16_A2D', 89),\n",
       " ('HIV1_73_BG', 89),\n",
       " ('HIV1_23_BG', 88),\n",
       " ('HIV1_32_06A1', 88),\n",
       " ('HIV1_44_BF', 88),\n",
       " ('HIV1_47_BF', 88),\n",
       " ('HIV1_67_01B', 88),\n",
       " ('HIV1_K', 86),\n",
       " ('HIV1_37_cpx', 85),\n",
       " ('HIV1_22_01A1', 84),\n",
       " ('HIV1_36_cpx', 84),\n",
       " ('HIV1_A4', 48),\n",
       " ('HIV1_26_A5U', 48),\n",
       " ('HIV1_32_06A6', 46),\n",
       " ('HIV1_63_02A', 45),\n",
       " ('HIV1_A3', 44),\n",
       " ('HIV1_48_01B', 44),\n",
       " ('HIV1_77_cpx', 44),\n",
       " ('HIV1_41_CD', 43)]"
      ]
     },
     "execution_count": 44,
     "metadata": {},
     "output_type": "execute_result"
    }
   ],
   "source": [
    "labels"
   ]
  },
  {
   "cell_type": "raw",
   "metadata": {},
   "source": [
    "fh = open('./HIV1geno_labels_dict.txt', 'w')"
   ]
  },
  {
   "cell_type": "raw",
   "metadata": {},
   "source": [
    "for i, (k, n) in enumerate(labels):\n",
    "    fh.write(k)\n",
    "    fh.write(' ')\n",
    "    fh.write(str(i))\n",
    "    fh.write('\\n')"
   ]
  },
  {
   "cell_type": "raw",
   "metadata": {},
   "source": [
    "fh.close()"
   ]
  },
  {
   "cell_type": "code",
   "execution_count": 20,
   "metadata": {},
   "outputs": [],
   "source": [
    "好 = [0, 0,1]\n",
    "善 = [0,0,0.8]\n",
    "坏 = [0,0, -1]\n",
    "恶 = [0,0,-0.6]"
   ]
  },
  {
   "cell_type": "code",
   "execution_count": 25,
   "metadata": {},
   "outputs": [
    {
     "data": {
      "text/plain": [
       "array([[1.        , 1.        , 0.54030231],\n",
       "       [1.        , 1.        , 0.69670671]])"
      ]
     },
     "execution_count": 25,
     "metadata": {},
     "output_type": "execute_result"
    }
   ],
   "source": [
    "np.cos([np.array(好),np.array(善)])"
   ]
  },
  {
   "cell_type": "code",
   "execution_count": 19,
   "metadata": {},
   "outputs": [
    {
     "data": {
      "text/plain": [
       "[0, 0, 0.8]"
      ]
     },
     "execution_count": 19,
     "metadata": {},
     "output_type": "execute_result"
    }
   ],
   "source": [
    "b"
   ]
  },
  {
   "cell_type": "code",
   "execution_count": 4,
   "metadata": {},
   "outputs": [
    {
     "data": {
      "text/plain": [
       "967.741935483871"
      ]
     },
     "execution_count": 4,
     "metadata": {},
     "output_type": "execute_result"
    }
   ],
   "source": [
    "30000/31"
   ]
  },
  {
   "cell_type": "code",
   "execution_count": 9,
   "metadata": {},
   "outputs": [
    {
     "data": {
      "text/plain": [
       "33.5664"
      ]
     },
     "execution_count": 9,
     "metadata": {},
     "output_type": "execute_result"
    }
   ],
   "source": [
    "41958*0.1/125"
   ]
  },
  {
   "cell_type": "code",
   "execution_count": 40,
   "metadata": {},
   "outputs": [],
   "source": [
    "s = '  abcd efg   '"
   ]
  },
  {
   "cell_type": "code",
   "execution_count": 42,
   "metadata": {},
   "outputs": [
    {
     "data": {
      "text/plain": [
       "['abcd', 'efg']"
      ]
     },
     "execution_count": 42,
     "metadata": {},
     "output_type": "execute_result"
    }
   ],
   "source": [
    "s.strip().split()"
   ]
  },
  {
   "cell_type": "code",
   "execution_count": 45,
   "metadata": {},
   "outputs": [
    {
     "data": {
      "text/plain": [
       "0.8"
      ]
     },
     "execution_count": 45,
     "metadata": {},
     "output_type": "execute_result"
    }
   ],
   "source": [
    "float(str(3.2)) / 4"
   ]
  },
  {
   "cell_type": "code",
   "execution_count": 72,
   "metadata": {},
   "outputs": [],
   "source": [
    "def create_dict(filedir):\n",
    "    desire_labels = {}\n",
    "    with(open(filedir, 'r')) as fh:\n",
    "        for line in fh:\n",
    "            \n",
    "            ls = line.strip().split()\n",
    "           \n",
    "            desire_labels[ls[0]] = float(ls[1])\n",
    "\n",
    "    return desire_labels"
   ]
  },
  {
   "cell_type": "code",
   "execution_count": 73,
   "metadata": {},
   "outputs": [],
   "source": [
    "desire_labels = './hiv_12825/dict_desire_labels.txt'"
   ]
  },
  {
   "cell_type": "code",
   "execution_count": 74,
   "metadata": {},
   "outputs": [],
   "source": [
    "labels_dict = create_dict(desire_labels)"
   ]
  },
  {
   "cell_type": "code",
   "execution_count": 76,
   "metadata": {},
   "outputs": [
    {
     "data": {
      "text/plain": [
       "dict_keys(['HIV-1_B', 'HIV-1_C', 'HIV-1_01_AE', 'HIV-1_-', 'HIV-1_A1', 'HIV-1_01B', 'HIV-1_02_AG', 'HIV-1_BF1', 'HIV-1_A6', 'HIV-1_A1C', 'HIV-1_G', 'HIV-1_A1D', 'HIV-1_AD', 'HIV-1_BC', 'HIV-1_D', 'HIV-1_F1', 'HIV-1_A1CD', 'HIV-1_CD', 'HIV-1_O', 'HIV-1_01BC', 'HIV-1_0107', 'HIV-1_07_BC', 'HIV-1_08_BC', 'HIV-1_02A1', 'HIV-1_11_cpx', 'HIV-1_35_AD', 'HIV-1_ACD', 'HIV-1_U', 'HIV-1_01C', 'HIV-1_02A', 'HIV-1_22_01A1', 'HIV-1_42_BF', 'HIV-1_02G', 'HIV-1_06_cpx', 'HIV-1_12_BF', 'HIV-1_BG', 'HIV-1_14_BG', 'HIV-1_71_BF1', 'HIV-1_02B', 'HIV-1_63_02A', 'HIV-1_F2', 'HIV-1_N', 'HIV-1_85_BC', 'HIV-1_H', 'HIV-1_13_cpx'])"
      ]
     },
     "execution_count": 76,
     "metadata": {},
     "output_type": "execute_result"
    }
   ],
   "source": [
    "labels_dict.keys()"
   ]
  },
  {
   "cell_type": "code",
   "execution_count": 79,
   "metadata": {},
   "outputs": [
    {
     "data": {
      "text/plain": [
       "False"
      ]
     },
     "execution_count": 79,
     "metadata": {},
     "output_type": "execute_result"
    }
   ],
   "source": [
    "'HIV-1_B' not in set(labels_dict.keys())"
   ]
  },
  {
   "cell_type": "code",
   "execution_count": null,
   "metadata": {},
   "outputs": [],
   "source": [
    "def split(data, step, labels_dict):\n",
    "\n",
    "    desire_labels = set(labels_dict.keys())\n",
    "\n",
    "    line = 0\n",
    "    for(line=0;line < len(data); line +=2):\n",
    "        label = data[line]\n",
    "        if label.replace('>','') not in desire_labels:\n",
    "            continue\n",
    "        seq = data[line+1]\n",
    "        num = int(len(seq)/step)\n",
    "\n",
    "        for i in range(num):\t\t\t\n",
    "            fh.write(label)\n",
    "            fh.write('\\n')\n",
    "            fh.write(seq[i*step:(i+1)*step])\n",
    "            fh.write('\\n')\n",
    "\n",
    "    fh.close()"
   ]
  },
  {
   "cell_type": "code",
   "execution_count": 84,
   "metadata": {},
   "outputs": [],
   "source": [
    "l = 10"
   ]
  },
  {
   "cell_type": "code",
   "execution_count": 88,
   "metadata": {},
   "outputs": [
    {
     "ename": "TypeError",
     "evalue": "range() does not take keyword arguments",
     "output_type": "error",
     "traceback": [
      "\u001b[1;31m---------------------------------------------------------------------------\u001b[0m",
      "\u001b[1;31mTypeError\u001b[0m                                 Traceback (most recent call last)",
      "\u001b[1;32m<ipython-input-88-ce88b1cf1c36>\u001b[0m in \u001b[0;36m<module>\u001b[1;34m\u001b[0m\n\u001b[1;32m----> 1\u001b[1;33m \u001b[0mlist\u001b[0m\u001b[1;33m(\u001b[0m\u001b[0mrange\u001b[0m\u001b[1;33m(\u001b[0m\u001b[1;36m0\u001b[0m\u001b[1;33m,\u001b[0m\u001b[0ml\u001b[0m\u001b[1;33m,\u001b[0m\u001b[0mstep\u001b[0m\u001b[1;33m=\u001b[0m\u001b[1;36m2\u001b[0m\u001b[1;33m)\u001b[0m\u001b[1;33m)\u001b[0m\u001b[1;33m\u001b[0m\u001b[1;33m\u001b[0m\u001b[0m\n\u001b[0m",
      "\u001b[1;31mTypeError\u001b[0m: range() does not take keyword arguments"
     ]
    }
   ],
   "source": [
    "list(range(0,l,step=2))"
   ]
  },
  {
   "cell_type": "code",
   "execution_count": 93,
   "metadata": {},
   "outputs": [
    {
     "data": {
      "text/plain": [
       "[0, 2, 4, 6, 8]"
      ]
     },
     "execution_count": 93,
     "metadata": {},
     "output_type": "execute_result"
    }
   ],
   "source": [
    "list(range(0, l ,2))"
   ]
  },
  {
   "cell_type": "code",
   "execution_count": 94,
   "metadata": {},
   "outputs": [
    {
     "name": "stdout",
     "output_type": "stream",
     "text": [
      "0\n",
      "2\n",
      "4\n",
      "6\n",
      "8\n"
     ]
    }
   ],
   "source": [
    "for line in range(0,10, 2):\n",
    "    print(line)"
   ]
  },
  {
   "cell_type": "code",
   "execution_count": 32,
   "metadata": {
    "scrolled": true
   },
   "outputs": [],
   "source": [
    "conf_matrix = np.loadtxt('./confusion_matrix.txt')"
   ]
  },
  {
   "cell_type": "code",
   "execution_count": 36,
   "metadata": {},
   "outputs": [
    {
     "data": {
      "text/plain": [
       "array([1931,    0,    0,    0,    4,    0,    0,    0,    0,    0,    0,\n",
       "          0,    0,    0,    0,    0,    0,    1,    0,    2,   39,   48,\n",
       "          0,    0,    0,    0,    0,    0,    0,    0,   74,    2,    0,\n",
       "          0,    0,    0,    0,    0,    0,    0,    0,    0,    0,    0,\n",
       "          0])"
      ]
     },
     "execution_count": 36,
     "metadata": {},
     "output_type": "execute_result"
    }
   ],
   "source": [
    "conf_matrix[0].astype(int)"
   ]
  },
  {
   "cell_type": "code",
   "execution_count": 40,
   "metadata": {},
   "outputs": [],
   "source": [
    "np.loadtxt?"
   ]
  },
  {
   "cell_type": "code",
   "execution_count": 41,
   "metadata": {},
   "outputs": [],
   "source": [
    "c_names  = np.loadtxt('./c_names.txt',dtype=str)"
   ]
  },
  {
   "cell_type": "code",
   "execution_count": 42,
   "metadata": {},
   "outputs": [
    {
     "data": {
      "text/plain": [
       "array(['HIV-1_C', 'HIV-1_B', 'HIV-1_01_AE', 'HIV-1_O', 'HIV-1_-',\n",
       "       'HIV-1_06_cpx', 'HIV-1_63_02A', 'HIV-1_02A1', 'HIV-1_12_BF',\n",
       "       'HIV-1_G', 'HIV-1_U', 'HIV-1_11_cpx', 'HIV-1_F1', 'HIV-1_A6',\n",
       "       'HIV-1_14_BG', 'HIV-1_BF1', 'HIV-1_08_BC', 'HIV-1_07_BC',\n",
       "       'HIV-1_D', 'HIV-1_01BC', 'HIV-1_BC', 'HIV-1_CD', 'HIV-1_02_AG',\n",
       "       'HIV-1_01B', 'HIV-1_A1D', 'HIV-1_71_BF1', 'HIV-1_BG',\n",
       "       'HIV-1_42_BF', 'HIV-1_0107', 'HIV-1_02G', 'HIV-1_A1C',\n",
       "       'HIV-1_A1CD', 'HIV-1_02B', 'HIV-1_01C', 'HIV-1_AD', 'HIV-1_02A',\n",
       "       'HIV-1_H', 'HIV-1_22_01A1', 'HIV-1_A1', 'HIV-1_ACD', 'HIV-1_35_AD',\n",
       "       'HIV-1_85_BC', 'HIV-1_13_cpx', 'HIV-1_N', 'HIV-1_F2'], dtype='<U13')"
      ]
     },
     "execution_count": 42,
     "metadata": {},
     "output_type": "execute_result"
    }
   ],
   "source": [
    "c_names"
   ]
  },
  {
   "cell_type": "code",
   "execution_count": 43,
   "metadata": {},
   "outputs": [
    {
     "data": {
      "text/plain": [
       "array([[ 3.90698555e-01, -1.24224081e+00,  7.38564342e-01,\n",
       "         1.16396019e+00, -5.12312182e-01],\n",
       "       [ 8.63797320e-01, -1.73056352e+00,  2.09940823e-01,\n",
       "        -2.18971498e+00, -1.37735477e-01],\n",
       "       [ 1.81571451e-03, -6.05731713e-01, -2.42076676e+00,\n",
       "        -4.06545690e-01,  1.33727850e+00],\n",
       "       [ 9.13144770e-01, -4.51080205e-01, -2.43272612e+00,\n",
       "        -7.06747964e-01,  7.27693202e-01],\n",
       "       [-5.24144217e-01, -1.15287787e-01, -6.41402845e-01,\n",
       "        -1.43864802e+00, -1.25110270e+00],\n",
       "       [-2.39919775e-01,  6.82599871e-01,  8.29803113e-01,\n",
       "        -2.43508954e+00,  1.45885602e-01],\n",
       "       [ 1.04120672e-03,  5.83842774e-01, -3.46985370e-01,\n",
       "         8.87572273e-01, -8.48938773e-01],\n",
       "       [-6.80295321e-02, -3.68493404e-01, -2.13568905e-01,\n",
       "        -3.11030749e+00, -5.11962724e-01],\n",
       "       [-8.71985870e-01, -1.12664674e+00,  4.99485018e-01,\n",
       "        -1.61755008e+00,  7.00321139e-01],\n",
       "       [ 1.87416722e+00, -1.11527178e+00,  5.93845114e-01,\n",
       "         6.35501701e-01,  6.90946909e-01]])"
      ]
     },
     "execution_count": 43,
     "metadata": {},
     "output_type": "execute_result"
    }
   ],
   "source": [
    " np.random.randn(10, 5)\n",
    "    "
   ]
  },
  {
   "cell_type": "code",
   "execution_count": 46,
   "metadata": {},
   "outputs": [],
   "source": [
    "pd.DataFrame?"
   ]
  },
  {
   "cell_type": "code",
   "execution_count": 50,
   "metadata": {},
   "outputs": [],
   "source": [
    "ls = list(range(20))"
   ]
  },
  {
   "cell_type": "code",
   "execution_count": 51,
   "metadata": {},
   "outputs": [
    {
     "data": {
      "text/plain": [
       "['index 0',\n",
       " 'index 1',\n",
       " 'index 2',\n",
       " 'index 3',\n",
       " 'index 4',\n",
       " 'index 5',\n",
       " 'index 6',\n",
       " 'index 7',\n",
       " 'index 8',\n",
       " 'index 9',\n",
       " 'index 10',\n",
       " 'index 11',\n",
       " 'index 12',\n",
       " 'index 13',\n",
       " 'index 14',\n",
       " 'index 15',\n",
       " 'index 16',\n",
       " 'index 17',\n",
       " 'index 18',\n",
       " 'index 19']"
      ]
     },
     "execution_count": 51,
     "metadata": {},
     "output_type": "execute_result"
    }
   ],
   "source": [
    "['index %d'%i for i in ls]"
   ]
  },
  {
   "cell_type": "code",
   "execution_count": 15,
   "metadata": {},
   "outputs": [],
   "source": [
    "import torch.nn.functional as F"
   ]
  },
  {
   "cell_type": "code",
   "execution_count": 13,
   "metadata": {},
   "outputs": [],
   "source": [
    "a = torch.randn(2,10)"
   ]
  },
  {
   "cell_type": "code",
   "execution_count": 14,
   "metadata": {},
   "outputs": [
    {
     "data": {
      "text/plain": [
       "tensor([[ 0.3711,  0.2606,  0.0462, -1.8225, -2.0624, -0.2429,  1.3283,  0.7921,\n",
       "         -0.5128,  1.1057],\n",
       "        [-1.6105,  0.6885, -0.2127,  1.7746, -1.5326,  0.4018,  0.5021, -0.8331,\n",
       "          0.1575,  0.8281]])"
      ]
     },
     "execution_count": 14,
     "metadata": {},
     "output_type": "execute_result"
    }
   ],
   "source": [
    "a"
   ]
  },
  {
   "cell_type": "code",
   "execution_count": 16,
   "metadata": {},
   "outputs": [],
   "source": [
    "preds = F.softmax(a,dim=1)"
   ]
  },
  {
   "cell_type": "code",
   "execution_count": 17,
   "metadata": {},
   "outputs": [
    {
     "data": {
      "text/plain": [
       "tensor([[0.1002, 0.0897, 0.0724, 0.0112, 0.0088, 0.0542, 0.2608, 0.1526, 0.0414,\n",
       "         0.2088],\n",
       "        [0.0124, 0.1232, 0.0500, 0.3651, 0.0134, 0.0925, 0.1023, 0.0269, 0.0725,\n",
       "         0.1417]])"
      ]
     },
     "execution_count": 17,
     "metadata": {},
     "output_type": "execute_result"
    }
   ],
   "source": [
    "preds"
   ]
  },
  {
   "cell_type": "code",
   "execution_count": 28,
   "metadata": {},
   "outputs": [],
   "source": [
    "most = torch.argsort(preds,dim=1, descending=True)"
   ]
  },
  {
   "cell_type": "code",
   "execution_count": 27,
   "metadata": {},
   "outputs": [
    {
     "data": {
      "text/plain": [
       "tensor([[4, 3, 8, 5, 2, 1, 0, 7, 9, 6],\n",
       "        [0, 4, 7, 2, 8, 5, 6, 1, 9, 3]])"
      ]
     },
     "execution_count": 27,
     "metadata": {},
     "output_type": "execute_result"
    }
   ],
   "source": [
    "most"
   ]
  },
  {
   "cell_type": "code",
   "execution_count": 29,
   "metadata": {},
   "outputs": [
    {
     "data": {
      "text/plain": [
       "tensor([[6, 9, 7, 0, 1, 2, 5, 8, 3, 4],\n",
       "        [3, 9, 1, 6, 5, 8, 2, 7, 4, 0]])"
      ]
     },
     "execution_count": 29,
     "metadata": {},
     "output_type": "execute_result"
    }
   ],
   "source": [
    "most"
   ]
  },
  {
   "cell_type": "code",
   "execution_count": 44,
   "metadata": {},
   "outputs": [
    {
     "data": {
      "text/plain": [
       "tensor([[6, 9, 7, 0, 1, 2, 5, 8, 3, 4]])"
      ]
     },
     "execution_count": 44,
     "metadata": {},
     "output_type": "execute_result"
    }
   ],
   "source": [
    "most[0:1]"
   ]
  },
  {
   "cell_type": "code",
   "execution_count": 73,
   "metadata": {},
   "outputs": [],
   "source": [
    "most_np = most.numpy()"
   ]
  },
  {
   "cell_type": "code",
   "execution_count": 76,
   "metadata": {},
   "outputs": [
    {
     "data": {
      "text/plain": [
       "array([6, 9, 7, 0, 1, 2, 5, 8, 3, 4], dtype=int64)"
      ]
     },
     "execution_count": 76,
     "metadata": {},
     "output_type": "execute_result"
    }
   ],
   "source": [
    "most_np[0]"
   ]
  },
  {
   "cell_type": "code",
   "execution_count": 86,
   "metadata": {},
   "outputs": [
    {
     "data": {
      "text/plain": [
       "array([[6, 9, 7],\n",
       "       [3, 9, 1]], dtype=int64)"
      ]
     },
     "execution_count": 86,
     "metadata": {},
     "output_type": "execute_result"
    }
   ],
   "source": [
    "most_np[: ,:3]"
   ]
  },
  {
   "cell_type": "code",
   "execution_count": 87,
   "metadata": {},
   "outputs": [
    {
     "data": {
      "text/plain": [
       "tensor([[6, 9, 7],\n",
       "        [3, 9, 1]])"
      ]
     },
     "execution_count": 87,
     "metadata": {},
     "output_type": "execute_result"
    }
   ],
   "source": [
    "most[ : , :3]"
   ]
  },
  {
   "cell_type": "code",
   "execution_count": 49,
   "metadata": {},
   "outputs": [],
   "source": [
    "valid_acc = 0.1222233434444545"
   ]
  },
  {
   "cell_type": "code",
   "execution_count": 65,
   "metadata": {},
   "outputs": [
    {
     "name": "stdout",
     "output_type": "stream",
     "text": [
      "Validation accuracy :  12.222 %\n"
     ]
    }
   ],
   "source": [
    "print('Validation accuracy :  %.3f'  %        (valid_acc*100),\"%\")"
   ]
  },
  {
   "cell_type": "code",
   "execution_count": 68,
   "metadata": {},
   "outputs": [],
   "source": [
    "timeStamp = time.strftime(\"%Y-%m-%d-%H_%M_%S_evaluate\",time.localtime(time.time())) "
   ]
  },
  {
   "cell_type": "code",
   "execution_count": 69,
   "metadata": {},
   "outputs": [
    {
     "data": {
      "text/plain": [
       "'2020-07-17-13_25_13_evaluate'"
      ]
     },
     "execution_count": 69,
     "metadata": {},
     "output_type": "execute_result"
    }
   ],
   "source": [
    "timeStamp"
   ]
  },
  {
   "cell_type": "code",
   "execution_count": 70,
   "metadata": {},
   "outputs": [],
   "source": [
    "a = None"
   ]
  },
  {
   "cell_type": "code",
   "execution_count": 71,
   "metadata": {},
   "outputs": [
    {
     "data": {
      "text/plain": [
       "True"
      ]
     },
     "execution_count": 71,
     "metadata": {},
     "output_type": "execute_result"
    }
   ],
   "source": [
    "a == None"
   ]
  },
  {
   "cell_type": "code",
   "execution_count": 88,
   "metadata": {},
   "outputs": [],
   "source": [
    "np.hstack?"
   ]
  },
  {
   "cell_type": "code",
   "execution_count": 90,
   "metadata": {},
   "outputs": [],
   "source": [
    "np.concatenate?"
   ]
  },
  {
   "cell_type": "code",
   "execution_count": 91,
   "metadata": {},
   "outputs": [],
   "source": [
    "a = np.arange(10)"
   ]
  },
  {
   "cell_type": "code",
   "execution_count": 92,
   "metadata": {},
   "outputs": [
    {
     "data": {
      "text/plain": [
       "array([0, 1, 2, 3, 4, 5, 6, 7, 8, 9])"
      ]
     },
     "execution_count": 92,
     "metadata": {},
     "output_type": "execute_result"
    }
   ],
   "source": [
    "a"
   ]
  },
  {
   "cell_type": "code",
   "execution_count": 93,
   "metadata": {},
   "outputs": [],
   "source": [
    "b = np.arange(20,23)"
   ]
  },
  {
   "cell_type": "code",
   "execution_count": 94,
   "metadata": {},
   "outputs": [
    {
     "data": {
      "text/plain": [
       "array([20, 21, 22])"
      ]
     },
     "execution_count": 94,
     "metadata": {},
     "output_type": "execute_result"
    }
   ],
   "source": [
    "b"
   ]
  },
  {
   "cell_type": "code",
   "execution_count": 95,
   "metadata": {},
   "outputs": [
    {
     "data": {
      "text/plain": [
       "array([ 0,  1,  2,  3,  4,  5,  6,  7,  8,  9, 20, 21, 22])"
      ]
     },
     "execution_count": 95,
     "metadata": {},
     "output_type": "execute_result"
    }
   ],
   "source": [
    "np.concatenate((a,b))"
   ]
  },
  {
   "cell_type": "code",
   "execution_count": 101,
   "metadata": {},
   "outputs": [],
   "source": [
    "ax = torch.randn(3,5)"
   ]
  },
  {
   "cell_type": "code",
   "execution_count": 102,
   "metadata": {},
   "outputs": [
    {
     "data": {
      "text/plain": [
       "tensor([[ 0.2806,  0.1663, -0.0304,  1.2933, -0.7180],\n",
       "        [-1.6365,  1.9176, -0.9852,  0.6688,  1.4465],\n",
       "        [-0.3283,  0.4593,  0.6410, -1.3690,  1.2950]])"
      ]
     },
     "execution_count": 102,
     "metadata": {},
     "output_type": "execute_result"
    }
   ],
   "source": [
    "ax"
   ]
  },
  {
   "cell_type": "code",
   "execution_count": 109,
   "metadata": {},
   "outputs": [],
   "source": [
    "ab = torch.randn(2,5)"
   ]
  },
  {
   "cell_type": "code",
   "execution_count": 110,
   "metadata": {},
   "outputs": [
    {
     "data": {
      "text/plain": [
       "tensor([[-0.2925, -0.1121,  1.2324,  0.2043,  0.6998],\n",
       "        [-0.8558, -0.3455, -1.6128,  1.2651,  0.4137]])"
      ]
     },
     "execution_count": 110,
     "metadata": {},
     "output_type": "execute_result"
    }
   ],
   "source": [
    "ab"
   ]
  },
  {
   "cell_type": "code",
   "execution_count": 124,
   "metadata": {},
   "outputs": [],
   "source": [
    "ax = np.empty(shape=[0, 5],dtype=int)"
   ]
  },
  {
   "cell_type": "code",
   "execution_count": 125,
   "metadata": {},
   "outputs": [
    {
     "data": {
      "text/plain": [
       "array([], shape=(0, 5), dtype=int32)"
      ]
     },
     "execution_count": 125,
     "metadata": {},
     "output_type": "execute_result"
    }
   ],
   "source": [
    "ax"
   ]
  },
  {
   "cell_type": "code",
   "execution_count": 126,
   "metadata": {},
   "outputs": [
    {
     "data": {
      "text/plain": [
       "array([[-0.29251522, -0.11210923,  1.23240864,  0.20431504,  0.6997664 ],\n",
       "       [-0.8558498 , -0.34546679, -1.61279571,  1.26505792,  0.41371825]])"
      ]
     },
     "execution_count": 126,
     "metadata": {},
     "output_type": "execute_result"
    }
   ],
   "source": [
    "np.concatenate((ax,ab.numpy()))"
   ]
  },
  {
   "cell_type": "code",
   "execution_count": 13,
   "metadata": {},
   "outputs": [],
   "source": [
    "prob = np.load('./result/y_prob_2020-07-17-15_58_05_evaluate.npy')"
   ]
  },
  {
   "cell_type": "code",
   "execution_count": 14,
   "metadata": {},
   "outputs": [],
   "source": [
    "true_labels = np.load('./result/y_true_2020-07-17-15_58_05_evaluate.npy')"
   ]
  },
  {
   "cell_type": "code",
   "execution_count": 28,
   "metadata": {},
   "outputs": [],
   "source": [
    "names = []\n",
    "with open('./c_names.txt', 'r') as fh:\n",
    "    for line in fh:\n",
    "        names.append(line.strip())\n",
    "        \n",
    "names = np.array(names)"
   ]
  },
  {
   "cell_type": "code",
   "execution_count": 15,
   "metadata": {},
   "outputs": [
    {
     "data": {
      "text/plain": [
       "4"
      ]
     },
     "execution_count": 15,
     "metadata": {},
     "output_type": "execute_result"
    }
   ],
   "source": [
    "true_labels[32]"
   ]
  },
  {
   "cell_type": "code",
   "execution_count": 16,
   "metadata": {},
   "outputs": [
    {
     "data": {
      "text/plain": [
       "45"
      ]
     },
     "execution_count": 16,
     "metadata": {},
     "output_type": "execute_result"
    }
   ],
   "source": [
    "len(prob[0])"
   ]
  },
  {
   "cell_type": "code",
   "execution_count": 136,
   "metadata": {},
   "outputs": [
    {
     "data": {
      "text/plain": [
       "8.168635818488808e-15"
      ]
     },
     "execution_count": 136,
     "metadata": {},
     "output_type": "execute_result"
    }
   ],
   "source": [
    "prob[32][9]"
   ]
  },
  {
   "cell_type": "code",
   "execution_count": 137,
   "metadata": {},
   "outputs": [],
   "source": [
    "import pandas as pd"
   ]
  },
  {
   "cell_type": "code",
   "execution_count": 17,
   "metadata": {},
   "outputs": [],
   "source": [
    "df1 = pd.DataFrame(np.random.randint(low=0, high=10, size=(5,5)))"
   ]
  },
  {
   "cell_type": "code",
   "execution_count": 18,
   "metadata": {},
   "outputs": [
    {
     "data": {
      "text/html": [
       "<div>\n",
       "<style scoped>\n",
       "    .dataframe tbody tr th:only-of-type {\n",
       "        vertical-align: middle;\n",
       "    }\n",
       "\n",
       "    .dataframe tbody tr th {\n",
       "        vertical-align: top;\n",
       "    }\n",
       "\n",
       "    .dataframe thead th {\n",
       "        text-align: right;\n",
       "    }\n",
       "</style>\n",
       "<table border=\"1\" class=\"dataframe\">\n",
       "  <thead>\n",
       "    <tr style=\"text-align: right;\">\n",
       "      <th></th>\n",
       "      <th>0</th>\n",
       "      <th>1</th>\n",
       "      <th>2</th>\n",
       "      <th>3</th>\n",
       "      <th>4</th>\n",
       "    </tr>\n",
       "  </thead>\n",
       "  <tbody>\n",
       "    <tr>\n",
       "      <th>0</th>\n",
       "      <td>9</td>\n",
       "      <td>0</td>\n",
       "      <td>0</td>\n",
       "      <td>4</td>\n",
       "      <td>2</td>\n",
       "    </tr>\n",
       "    <tr>\n",
       "      <th>1</th>\n",
       "      <td>9</td>\n",
       "      <td>2</td>\n",
       "      <td>9</td>\n",
       "      <td>0</td>\n",
       "      <td>7</td>\n",
       "    </tr>\n",
       "    <tr>\n",
       "      <th>2</th>\n",
       "      <td>9</td>\n",
       "      <td>9</td>\n",
       "      <td>4</td>\n",
       "      <td>0</td>\n",
       "      <td>0</td>\n",
       "    </tr>\n",
       "    <tr>\n",
       "      <th>3</th>\n",
       "      <td>7</td>\n",
       "      <td>7</td>\n",
       "      <td>9</td>\n",
       "      <td>3</td>\n",
       "      <td>6</td>\n",
       "    </tr>\n",
       "    <tr>\n",
       "      <th>4</th>\n",
       "      <td>8</td>\n",
       "      <td>4</td>\n",
       "      <td>4</td>\n",
       "      <td>4</td>\n",
       "      <td>6</td>\n",
       "    </tr>\n",
       "  </tbody>\n",
       "</table>\n",
       "</div>"
      ],
      "text/plain": [
       "   0  1  2  3  4\n",
       "0  9  0  0  4  2\n",
       "1  9  2  9  0  7\n",
       "2  9  9  4  0  0\n",
       "3  7  7  9  3  6\n",
       "4  8  4  4  4  6"
      ]
     },
     "execution_count": 18,
     "metadata": {},
     "output_type": "execute_result"
    }
   ],
   "source": [
    "df1"
   ]
  },
  {
   "cell_type": "code",
   "execution_count": 141,
   "metadata": {},
   "outputs": [],
   "source": [
    "a = list(range(10))"
   ]
  },
  {
   "cell_type": "code",
   "execution_count": 142,
   "metadata": {},
   "outputs": [],
   "source": [
    "b = [(i, i/10) for i in a]"
   ]
  },
  {
   "cell_type": "code",
   "execution_count": 149,
   "metadata": {},
   "outputs": [],
   "source": [
    "df2 = pd.DataFrame(np.concatenate((b,b)))"
   ]
  },
  {
   "cell_type": "code",
   "execution_count": 20,
   "metadata": {},
   "outputs": [],
   "source": [
    "prob_t = torch.Tensor(prob)"
   ]
  },
  {
   "cell_type": "code",
   "execution_count": 21,
   "metadata": {},
   "outputs": [],
   "source": [
    "prob_sort = torch.argsort(prob_t[32:34],dim=1,descending=True)"
   ]
  },
  {
   "cell_type": "code",
   "execution_count": 23,
   "metadata": {},
   "outputs": [],
   "source": [
    "top3 = prob_sort[:, :3]"
   ]
  },
  {
   "cell_type": "code",
   "execution_count": 36,
   "metadata": {
    "scrolled": true
   },
   "outputs": [
    {
     "data": {
      "text/plain": [
       "tensor([[ 4, 29,  6],\n",
       "        [ 3,  5, 12]])"
      ]
     },
     "execution_count": 36,
     "metadata": {},
     "output_type": "execute_result"
    }
   ],
   "source": [
    "top3"
   ]
  },
  {
   "cell_type": "code",
   "execution_count": 25,
   "metadata": {},
   "outputs": [
    {
     "data": {
      "text/plain": [
       "tensor([0.7270, 0.1890, 0.0504])"
      ]
     },
     "execution_count": 25,
     "metadata": {},
     "output_type": "execute_result"
    }
   ],
   "source": [
    "prob_t[32][top3[0]]"
   ]
  },
  {
   "cell_type": "code",
   "execution_count": 30,
   "metadata": {},
   "outputs": [],
   "source": [
    "names_sort = names[top3[0]]"
   ]
  },
  {
   "cell_type": "code",
   "execution_count": 31,
   "metadata": {},
   "outputs": [
    {
     "data": {
      "text/plain": [
       "array(['HIV-1_-', 'HIV-1_02G', 'HIV-1_63_02A'], dtype='<U13')"
      ]
     },
     "execution_count": 31,
     "metadata": {},
     "output_type": "execute_result"
    }
   ],
   "source": [
    "names_sort"
   ]
  },
  {
   "cell_type": "code",
   "execution_count": 68,
   "metadata": {
    "scrolled": true
   },
   "outputs": [
    {
     "data": {
      "text/plain": [
       "tensor([[3.9796e-19, 7.6382e-10, 1.1568e-08, 4.3577e-08, 7.2698e-01, 1.2823e-05,\n",
       "         5.0424e-02, 5.5206e-07, 1.1645e-09, 8.1686e-15, 1.5109e-05, 5.0939e-25,\n",
       "         1.4037e-07, 4.4529e-18, 1.8481e-17, 8.5444e-10, 2.0617e-15, 3.3958e-15,\n",
       "         7.2402e-15, 8.5379e-11, 1.5187e-08, 2.2341e-13, 2.1166e-08, 3.1434e-05,\n",
       "         1.3359e-14, 2.1661e-06, 8.4783e-18, 3.2653e-14, 3.3038e-02, 1.8899e-01,\n",
       "         4.9670e-04, 2.9056e-10, 3.2516e-12, 1.0026e-18, 4.6945e-06, 1.2446e-06,\n",
       "         2.9442e-06, 7.9691e-20, 2.8921e-12, 5.4052e-25, 1.0132e-19, 8.0509e-15,\n",
       "         3.1458e-23, 2.9156e-20, 1.0055e-13],\n",
       "        [3.6155e-23, 2.9685e-13, 5.0864e-14, 9.9995e-01, 4.8674e-22, 3.2380e-05,\n",
       "         8.8903e-14, 1.3651e-17, 1.9825e-13, 1.2832e-20, 1.1123e-24, 6.2164e-41,\n",
       "         8.5808e-06, 1.1648e-18, 1.4440e-13, 2.6054e-14, 2.6752e-32, 4.7480e-34,\n",
       "         2.0962e-19, 9.3990e-25, 1.1936e-25, 7.3386e-33, 3.6431e-13, 1.2199e-08,\n",
       "         2.9618e-06, 1.2139e-24, 0.0000e+00, 9.5294e-09, 7.1827e-10, 2.0648e-14,\n",
       "         8.4900e-16, 1.7059e-37, 3.2881e-06, 4.4790e-29, 1.6658e-27, 5.7648e-24,\n",
       "         2.8930e-36, 7.1046e-43, 3.3341e-38, 1.6294e-33, 2.9162e-39, 5.3058e-35,\n",
       "         2.1378e-41, 9.6199e-39, 1.2261e-25]])"
      ]
     },
     "execution_count": 68,
     "metadata": {},
     "output_type": "execute_result"
    }
   ],
   "source": [
    "prob_t[32:34][:, :3]"
   ]
  },
  {
   "cell_type": "code",
   "execution_count": 69,
   "metadata": {},
   "outputs": [
    {
     "data": {
      "text/plain": [
       "tensor([[3.9796e-19, 7.6382e-10, 1.1568e-08],\n",
       "        [3.6155e-23, 2.9685e-13, 5.0864e-14]])"
      ]
     },
     "execution_count": 69,
     "metadata": {},
     "output_type": "execute_result"
    }
   ],
   "source": [
    "prob_t[32:34][:, :3]"
   ]
  },
  {
   "cell_type": "code",
   "execution_count": null,
   "metadata": {},
   "outputs": [],
   "source": [
    "for i in range(len(top3)):\n",
    "    line = []\n",
    "    "
   ]
  },
  {
   "cell_type": "code",
   "execution_count": 56,
   "metadata": {},
   "outputs": [],
   "source": [
    "pd.DataFrame?"
   ]
  },
  {
   "cell_type": "code",
   "execution_count": 97,
   "metadata": {},
   "outputs": [],
   "source": [
    "pd3 = pd.DataFrame(data=data,columns=['TOP1','p','TOP2','p','TOP3','p'])"
   ]
  },
  {
   "cell_type": "code",
   "execution_count": 98,
   "metadata": {},
   "outputs": [
    {
     "data": {
      "text/html": [
       "<div>\n",
       "<style scoped>\n",
       "    .dataframe tbody tr th:only-of-type {\n",
       "        vertical-align: middle;\n",
       "    }\n",
       "\n",
       "    .dataframe tbody tr th {\n",
       "        vertical-align: top;\n",
       "    }\n",
       "\n",
       "    .dataframe thead th {\n",
       "        text-align: right;\n",
       "    }\n",
       "</style>\n",
       "<table border=\"1\" class=\"dataframe\">\n",
       "  <thead>\n",
       "    <tr style=\"text-align: right;\">\n",
       "      <th></th>\n",
       "      <th>TOP1</th>\n",
       "      <th>p</th>\n",
       "      <th>TOP2</th>\n",
       "      <th>p</th>\n",
       "      <th>TOP3</th>\n",
       "      <th>p</th>\n",
       "    </tr>\n",
       "  </thead>\n",
       "  <tbody>\n",
       "    <tr>\n",
       "      <th>0</th>\n",
       "      <td>HIV-1_-</td>\n",
       "      <td>0.727</td>\n",
       "      <td>HIV-1_02G</td>\n",
       "      <td>0.189</td>\n",
       "      <td>HIV-1_63_02A</td>\n",
       "      <td>0.050</td>\n",
       "    </tr>\n",
       "    <tr>\n",
       "      <th>1</th>\n",
       "      <td>HIV-1_O</td>\n",
       "      <td>1.000</td>\n",
       "      <td>HIV-1_06_cpx</td>\n",
       "      <td>0.000</td>\n",
       "      <td>HIV-1_F1</td>\n",
       "      <td>0.000</td>\n",
       "    </tr>\n",
       "  </tbody>\n",
       "</table>\n",
       "</div>"
      ],
      "text/plain": [
       "      TOP1      p          TOP2      p          TOP3      p\n",
       "0  HIV-1_-  0.727     HIV-1_02G  0.189  HIV-1_63_02A  0.050\n",
       "1  HIV-1_O  1.000  HIV-1_06_cpx  0.000      HIV-1_F1  0.000"
      ]
     },
     "execution_count": 98,
     "metadata": {},
     "output_type": "execute_result"
    }
   ],
   "source": [
    "pd3"
   ]
  },
  {
   "cell_type": "code",
   "execution_count": 47,
   "metadata": {},
   "outputs": [],
   "source": [
    "a = np.array( [1,2,3])\n",
    "b = np.array(['a', 'b', 'c'])"
   ]
  },
  {
   "cell_type": "code",
   "execution_count": 41,
   "metadata": {},
   "outputs": [
    {
     "data": {
      "text/plain": [
       "array(['1', '2', '3', 'a', 'b', 'c'], dtype='<U11')"
      ]
     },
     "execution_count": 41,
     "metadata": {},
     "output_type": "execute_result"
    }
   ],
   "source": [
    "np.concatenate((a,b))"
   ]
  },
  {
   "cell_type": "code",
   "execution_count": 70,
   "metadata": {},
   "outputs": [],
   "source": [
    "v = prob_t[32:34]"
   ]
  },
  {
   "cell_type": "code",
   "execution_count": 75,
   "metadata": {},
   "outputs": [
    {
     "data": {
      "text/plain": [
       "tensor([0.7270, 0.1890, 0.0504])"
      ]
     },
     "execution_count": 75,
     "metadata": {},
     "output_type": "execute_result"
    }
   ],
   "source": [
    "v[0][top3[0]]"
   ]
  },
  {
   "cell_type": "code",
   "execution_count": 102,
   "metadata": {},
   "outputs": [
    {
     "data": {
      "text/plain": [
       "212849"
      ]
     },
     "execution_count": 102,
     "metadata": {},
     "output_type": "execute_result"
    }
   ],
   "source": [
    "ls = torch.random.randlen(prob)"
   ]
  },
  {
   "cell_type": "code",
   "execution_count": 105,
   "metadata": {},
   "outputs": [],
   "source": [
    "ls = np.random.randint?"
   ]
  },
  {
   "cell_type": "code",
   "execution_count": 111,
   "metadata": {},
   "outputs": [],
   "source": [
    "ls = np.random.randint(0,212849,100)"
   ]
  },
  {
   "cell_type": "code",
   "execution_count": 112,
   "metadata": {},
   "outputs": [
    {
     "data": {
      "text/plain": [
       "array([ 63926, 133566,  46628,  50837,  32720, 181051, 138029, 165405,\n",
       "        69947, 148810, 192026,  44385, 163340, 155334, 194632, 142473,\n",
       "       190366, 104841,  59184, 110540, 156293,   9159, 177232,  44667,\n",
       "        93481,  21732,  27429, 183099, 139598,  48636, 154628, 162849,\n",
       "        99504,  69520, 128032, 128222, 186122, 180744,  80464, 159962,\n",
       "       135231, 165578, 110812,  93810, 165983, 156430,  98754, 169291,\n",
       "        74238, 168025,   3208,  71608, 109502,  78352,  34785,  16164,\n",
       "        23654, 189664,  98132,  61945,  25638, 162323,  74828,  12932,\n",
       "       148373,  53377, 171260, 130707,  25575, 186900, 173271, 118386,\n",
       "        97513, 141467,  11948,  38003, 147424,  95361, 162139,  33000,\n",
       "        71530, 159529,  47864, 187170, 125463,  13481, 102320, 121801,\n",
       "       113400,  87166, 119178, 127640,  36670,  60738,  71464, 118253,\n",
       "        17702, 120652, 110403, 141958])"
      ]
     },
     "execution_count": 112,
     "metadata": {},
     "output_type": "execute_result"
    }
   ],
   "source": [
    "ls"
   ]
  },
  {
   "cell_type": "code",
   "execution_count": 125,
   "metadata": {},
   "outputs": [],
   "source": [
    "def creat_frame(prob, true_labels,names):\n",
    "    prob_tensor = torch.Tensor(prob)[ls]\n",
    "    v = prob[ls]\n",
    "    prob_sort = torch.argsort(prob_tensor,dim=1,descending=True)\n",
    "    top3 = prob_sort[:, :3]\n",
    "    data = []\n",
    "    \n",
    "    for j in range(len(top3)):\n",
    "        a = names[top3[j]]\n",
    "        b = v[j][top3[j]]\n",
    "        line = []\n",
    "        for i in range(3):\n",
    "            line.append(a[i])\n",
    "            line.append('%.3f'%b[i])\n",
    "        data.append(line)\n",
    "        \n",
    "    return data\n",
    "    \n",
    "    "
   ]
  },
  {
   "cell_type": "code",
   "execution_count": 126,
   "metadata": {},
   "outputs": [],
   "source": [
    "data = creat_frame(prob, true_labels,names)"
   ]
  },
  {
   "cell_type": "code",
   "execution_count": 134,
   "metadata": {},
   "outputs": [],
   "source": [
    "index = names[true_labels[ls]]"
   ]
  },
  {
   "cell_type": "code",
   "execution_count": 130,
   "metadata": {},
   "outputs": [],
   "source": [
    "pd.DataFrame?"
   ]
  },
  {
   "cell_type": "code",
   "execution_count": 135,
   "metadata": {},
   "outputs": [],
   "source": [
    "pd3 = pd.DataFrame(data=data,columns=['TOP1','p','TOP2','p','TOP3','p'], index=index)"
   ]
  },
  {
   "cell_type": "code",
   "execution_count": 137,
   "metadata": {},
   "outputs": [],
   "source": [
    "pd3.to_csv('./result/data_frame.csv')"
   ]
  },
  {
   "cell_type": "code",
   "execution_count": 3,
   "metadata": {},
   "outputs": [],
   "source": [
    "columns = []\n",
    "for i in range(3):\n",
    "    columns.append('TOP%d'%(i+1))\n",
    "    columns.append('p')"
   ]
  },
  {
   "cell_type": "code",
   "execution_count": 4,
   "metadata": {},
   "outputs": [
    {
     "data": {
      "text/plain": [
       "['TOP1', 'p', 'TOP2', 'p', 'TOP3', 'p']"
      ]
     },
     "execution_count": 4,
     "metadata": {},
     "output_type": "execute_result"
    }
   ],
   "source": [
    "columns"
   ]
  },
  {
   "cell_type": "code",
   "execution_count": null,
   "metadata": {},
   "outputs": [],
   "source": []
  },
  {
   "cell_type": "code",
   "execution_count": 95,
   "metadata": {},
   "outputs": [
    {
     "name": "stdout",
     "output_type": "stream",
     "text": [
      "['HIV-1_-', '0.727', 'HIV-1_02G', '0.189', 'HIV-1_63_02A', '0.050']\n",
      "['HIV-1_O', '1.000', 'HIV-1_06_cpx', '0.000', 'HIV-1_F1', '0.000']\n"
     ]
    }
   ],
   "source": [
    "for j in range(len(top3)):\n",
    "    a = names[top3[j]]\n",
    "    b = v[j][top3[j]]\n",
    "    \n",
    "    line = []\n",
    "    for i in range(3):\n",
    "        line.append(a[i])\n",
    "        line.append('%.3f'%b[i].numpy())\n",
    "    print(line)\n",
    "    data.append(line)"
   ]
  },
  {
   "cell_type": "code",
   "execution_count": 96,
   "metadata": {},
   "outputs": [],
   "source": [
    "data = np.array(data)"
   ]
  },
  {
   "cell_type": "code",
   "execution_count": 57,
   "metadata": {},
   "outputs": [],
   "source": [
    "line = np.array([line])"
   ]
  },
  {
   "cell_type": "code",
   "execution_count": 58,
   "metadata": {
    "scrolled": true
   },
   "outputs": [
    {
     "data": {
      "text/plain": [
       "(1, 6)"
      ]
     },
     "execution_count": 58,
     "metadata": {},
     "output_type": "execute_result"
    }
   ],
   "source": [
    "line.shape"
   ]
  },
  {
   "cell_type": "code",
   "execution_count": 59,
   "metadata": {},
   "outputs": [
    {
     "data": {
      "text/plain": [
       "array([['a', '1', 'b', '2', 'c', '3']], dtype='<U1')"
      ]
     },
     "execution_count": 59,
     "metadata": {},
     "output_type": "execute_result"
    }
   ],
   "source": [
    "line"
   ]
  },
  {
   "cell_type": "code",
   "execution_count": 7,
   "metadata": {},
   "outputs": [],
   "source": [
    "def build_names(c_names):\n",
    "\tnames = []\n",
    "\twith open(c_names, 'r') as fh:\n",
    "\t    for line in fh:\n",
    "\t        names.append(line.strip())\n",
    "\t        \n",
    "\treturn np.array(names)"
   ]
  },
  {
   "cell_type": "code",
   "execution_count": 8,
   "metadata": {},
   "outputs": [
    {
     "ename": "NameError",
     "evalue": "name 'np' is not defined",
     "output_type": "error",
     "traceback": [
      "\u001b[1;31m---------------------------------------------------------------------------\u001b[0m",
      "\u001b[1;31mNameError\u001b[0m                                 Traceback (most recent call last)",
      "\u001b[1;32m<ipython-input-8-1cf7a4a86988>\u001b[0m in \u001b[0;36m<module>\u001b[1;34m\u001b[0m\n\u001b[1;32m----> 1\u001b[1;33m \u001b[0mbuild_names\u001b[0m\u001b[1;33m(\u001b[0m\u001b[1;34m'./c_names.txt'\u001b[0m\u001b[1;33m)\u001b[0m\u001b[1;33m\u001b[0m\u001b[1;33m\u001b[0m\u001b[0m\n\u001b[0m",
      "\u001b[1;32m<ipython-input-7-f43c58e65ac9>\u001b[0m in \u001b[0;36mbuild_names\u001b[1;34m(c_names)\u001b[0m\n\u001b[0;32m      5\u001b[0m                 \u001b[0mnames\u001b[0m\u001b[1;33m.\u001b[0m\u001b[0mappend\u001b[0m\u001b[1;33m(\u001b[0m\u001b[0mline\u001b[0m\u001b[1;33m.\u001b[0m\u001b[0mstrip\u001b[0m\u001b[1;33m(\u001b[0m\u001b[1;33m)\u001b[0m\u001b[1;33m)\u001b[0m\u001b[1;33m\u001b[0m\u001b[1;33m\u001b[0m\u001b[0m\n\u001b[0;32m      6\u001b[0m \u001b[1;33m\u001b[0m\u001b[0m\n\u001b[1;32m----> 7\u001b[1;33m         \u001b[1;32mreturn\u001b[0m \u001b[0mnp\u001b[0m\u001b[1;33m.\u001b[0m\u001b[0marray\u001b[0m\u001b[1;33m(\u001b[0m\u001b[0mnames\u001b[0m\u001b[1;33m)\u001b[0m\u001b[1;33m\u001b[0m\u001b[1;33m\u001b[0m\u001b[0m\n\u001b[0m",
      "\u001b[1;31mNameError\u001b[0m: name 'np' is not defined"
     ]
    }
   ],
   "source": [
    "build_names('./c_names.txt')"
   ]
  },
  {
   "cell_type": "code",
   "execution_count": null,
   "metadata": {},
   "outputs": [],
   "source": [
    "tor"
   ]
  }
 ],
 "metadata": {
  "kernelspec": {
   "display_name": "Python 3",
   "language": "python",
   "name": "python3"
  },
  "language_info": {
   "codemirror_mode": {
    "name": "ipython",
    "version": 3
   },
   "file_extension": ".py",
   "mimetype": "text/x-python",
   "name": "python",
   "nbconvert_exporter": "python",
   "pygments_lexer": "ipython3",
   "version": "3.6.10"
  }
 },
 "nbformat": 4,
 "nbformat_minor": 4
}
